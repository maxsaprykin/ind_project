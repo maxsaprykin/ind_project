{
 "cells": [
  {
   "cell_type": "markdown",
   "metadata": {},
   "source": [
    "# Определение параметров, влияющих на выполнение интернет-пользователями целевого действия при просмотре сайта \n",
    "\n",
    "                        Автор материала: Максим Сапрыкин\n",
    "                        \n",
    "План статьи\n",
    "1. Введение и постановка задачи\n",
    "2. Описание набора данных и признаков    \n",
    "3. Первичный анализ данных (в том числе визуальный)\n",
    "4. Найденные зависимости\n",
    "5. Выбор метрики"
   ]
  },
  {
   "cell_type": "markdown",
   "metadata": {},
   "source": [
    "# 1. Введение и постановка задачи\n",
    "\n",
    "В течение последних двух десятилетий в мире и в частности в нашей стране гармонично развивались совершенно новые профессии, связанные с бурной информатизацией общества и распространением сети Интернет. В частности, появились специалисты, занимающиеся электронной комерцией, продажей и продвижением продуктов (товаров или услуг) в интернете - интернет-маркетологи (или иногда digital-маркетологи). \n",
    "\n",
    "В настоящее время для любого специалиста в области интернет-рекламы актуальна задача оптимизации своих рекламных кампании, ввиду постоянного роста конкуренции, а следовательно и стоимости рекламы. Такая задача обычно решается с помощью анализа статистической информации о посетителях интернет-площадки, на которой происходит как торговля продуктом (интернет-магазины), так и создание спроса на продукт и плавное подведение посетителя к его покупке (так называемые посадочные страницы - **[landing pages](https://ru.wikipedia.org/wiki/%D0%A6%D0%B5%D0%BB%D0%B5%D0%B2%D0%B0%D1%8F_%D1%81%D1%82%D1%80%D0%B0%D0%BD%D0%B8%D1%86%D0%B0)**)\n",
    "\n",
    "Статистика обычно собирается с помощью двух наиболее популярных систем аналитики - Яндекс.Метрика или Google.Analytics. Затем специалист по интернет-рекламе проводит анализ данной статистики с целью поиска закономерностей, позволяющих скорректировать параметры рекламных кампаний таким образом, чтобы повысить их эффективность.\n",
    "\n",
    "Вот пример из одного из моих реальных проектов:\n",
    "\n",
    "<center>\n",
    "<img src=\"img/1.jpg\">\n",
    "\n",
    "В данном случае в системе аналитики слева в столбце закодирована информация о таких настраиваемых параметрах рекламных кампаний, как формат банера, устройства для отображения, формат оплаты рекламы, дополнительные таргетинги интересов, возраст и пол посетителя. Такие комбинации параметров (а по сути на языке машинного обучения - это подпространства признаков) генерируются исключительно исходя из опыта того или иного специалиста. По приведенному выше скриншоту видно, что данный \"срез\" аналитики позволяет выявить различия в показателе качества рекламы ([конверсии](https://goo.gl/xwstfU)) в 4! раза для некоторых комбинаций параметров. Таким образом появляется возможность \"отключить\" неэффективные рекламыне кампании (комбинации параметров) и повысить общую эффективность рекламного проекта. \n",
    "\n",
    "Еще раз необходимо подчеркнуть, что эффективность анализа зависит только от профессионализма специалиста, способного подобрать весомые метрики и составить из них нужные комбинации.\n",
    "\n",
    "Целью данного исследования является прикладное использование машинного обучения для **получения от обученной модели некоторого количества топ-признаков с их весами, которые могут быть легко интерпретированны, как настраиваемые параметры рекламных кампаний, вносящие наибольший вклад в достижение целевого действия на посещаемом сайте**. Таким образом, появляется идея уменьшить зависимоть эффективности анализа от профессионализма человека и переложить эту задачу на \"плечи\" математической модели."
   ]
  },
  {
   "cell_type": "markdown",
   "metadata": {
    "collapsed": true
   },
   "source": [
    "# 2. Описание набора данных и признаков"
   ]
  },
  {
   "cell_type": "markdown",
   "metadata": {},
   "source": [
    "<center>\n",
    "<img src=\"img/2.jpg\">"
   ]
  },
  {
   "cell_type": "markdown",
   "metadata": {
    "collapsed": true
   },
   "source": [
    "Мы будем работать с одним из моих реальных проектов. Я сотрудничаю с компанией, которая занимается установкой натяжных потолков в Москве и области. В течение 1,5 месяцев в начале 2018 года мы плотно тестировали один из наших рекламных сайтов в системе таргетированной рекламы myTarget. Было получено около 3200 переходов на сайт и посетители отправили с сайта около 100 заявок на замер. На этом, хоть и небольшом, количестве данных будем пытаться получить приемлимые результаты.\n",
    "\n",
    "Сбор данных проводился с помощью описанной в предыдущем параграфе системы аналитики Яндекс.Метрика. Для этого в системе аналитики были построены отчеты и выгружены в формате xls. Каждая строка соответствует посещению сайта одним уникальным посестителем. По столбцам таблицы расположены аналитические метрики, в языке машинного обучения - это и есть признаки, которые мы будем использовать для обучения модели. \n",
    "\n",
    "Подробное описание решаемой задачи уже приведено во вступительной части статьи - в пункте 1. Давайте перейдем к описанию признаков.\n",
    "\n",
    "**Целевой признак** - выполнение определенного действия посетителем на сайте. В нашем конкретном случае это - ввод в форму на сайте номера телефона посетителя и нажатие кнопки \"Отправить\". Отсюда следует, что **целевой признак - бинарный, а значит решаться будет задача бинарной классификации**. Целевой признак в таблице назвается **Достижение цели**\n",
    "\n",
    "Теперь опишем признаки, на которых будет обучаться наша модель. Для начала ограничимся признаками, которые можно \"вытащить\" из системы аналитики. А уже потом будет генерировать свои \"мощные\" фичи:\n",
    "\n",
    "**Дата и время визита** - время начала сессии, из которого мы потом будем генерировать новые признаки\n",
    "\n",
    "**Возраст** - возраст посетителя сайта (пол мы не учитываем, потому что изначально реклама настраивалась только на женщин и все посетители за исключением некоторой погрешности - женщины)\n",
    "\n",
    "**Объявление** - номер рекламного объявления в системе myTarget\n",
    "\n",
    "**Сегмент** - заведомо мощный признак, полученный экспертной оценкой, по поторому можно хорошо классифицировать модель. Что это такое и влияние этого признака описано в п.1, он нам нужен, чтобы впринципе оценить всю затею. Если с данным признаком модель будет выдавать ерунду, то значит мы что-то явно делаем не так. В дальнейшем мы его уберём из датасета\n",
    "\n",
    "**Визиты** - сколько всего раз этот пользователь заходил на сайт в течение сессии\n",
    "\n",
    "**Поддержка сookies** - поддержка сookies устройством пользователя\n",
    "\n",
    "**Поддержка Java** - поддержка Java устройством пользователя\n",
    "\n",
    "**Поддержка JavaScript** - поддержка JavaScript устройством пользователя\n",
    "\n",
    "**Поддержка Flash** - поддержка Flash устройством пользователя\n",
    "\n",
    "**Поддержка Silverlight** - поддержка Silverlight устройством пользователя\n",
    "\n",
    "**Мобильность** - мобильное устройство или нет\n",
    "\n",
    "**Блокировка рекламы** - установлен ли блокировщик рекламы\n",
    "\n",
    "**Глубина просмотра** - кол-во страниц, просмотренных посетителем\n",
    "\n",
    "**Время на сайте** - время, которое посетитель провел на сайте\n",
    "\n",
    "**Отказность** - Отказ означает, что посетитель провел на сайте менее 15 секунд\n",
    "\n",
    "**Является ли визит первым визитом посетителя** -  название говорит само за себя\n",
    "\n",
    "**Визитов в истории** - сколько всего раз этот пользователь заходил на сайт за всю историю\n",
    "\n",
    "**Дней от первого визита** - сколько прошло дней от первого визита\n",
    "\n",
    "**Тип устройства** - какой тип у устройства пользователя\n",
    "\n",
    "**Группа операционных систем** - какая группа операционных систем\n",
    "\n",
    "**Операционная система (детально)** - какая именно операционная система у пользователя\n",
    "\n",
    "**Браузер** - какой именно браузер\n",
    "\n",
    "Как видно, часть признаков - бинарные, часть - категориальные, но всех их еще надо будет привести к подобающему виду.\n",
    "\n",
    "А пока загрузим все необходимые нам библиотеки и сформируем DataFrame из полученного файла и посмотрим на его структуру и наполнение"
   ]
  },
  {
   "cell_type": "code",
   "execution_count": 27,
   "metadata": {
    "collapsed": true
   },
   "outputs": [],
   "source": [
    "from pandas import pandas as pd\n",
    "import numpy as np\n",
    "\n",
    "# игнорируем warnings\n",
    "import warnings\n",
    "warnings.filterwarnings(\"ignore\")\n",
    "\n",
    "import seaborn as sns\n",
    "\n",
    "import matplotlib\n",
    "import matplotlib.pyplot as plt\n",
    "import matplotlib.ticker\n",
    "%matplotlib inline\n",
    "\n",
    "# настройка внешнего вида графиков в seaborn\n",
    "sns.set_context(\n",
    "    \"notebook\", \n",
    "    font_scale = 1.5,       \n",
    "    rc = { \n",
    "        \"figure.figsize\" : (28, 15), \n",
    "        \"axes.titlesize\" : 18 \n",
    "    }\n",
    ")\n",
    "\n",
    "from pylab import rcParams\n",
    "rcParams['figure.figsize'] = 12, 10"
   ]
  },
  {
   "cell_type": "code",
   "execution_count": 28,
   "metadata": {
    "collapsed": true
   },
   "outputs": [],
   "source": [
    "df = pd.read_excel('data/data.xlsx')"
   ]
  },
  {
   "cell_type": "markdown",
   "metadata": {},
   "source": [
    "Всего как мы видим 3151 строка и 23 признака, влючая целевой"
   ]
  },
  {
   "cell_type": "code",
   "execution_count": 29,
   "metadata": {},
   "outputs": [
    {
     "data": {
      "text/plain": [
       "(3151, 23)"
      ]
     },
     "execution_count": 29,
     "metadata": {},
     "output_type": "execute_result"
    }
   ],
   "source": [
    "df.shape"
   ]
  },
  {
   "cell_type": "code",
   "execution_count": 30,
   "metadata": {},
   "outputs": [
    {
     "data": {
      "text/html": [
       "<div>\n",
       "<style>\n",
       "    .dataframe thead tr:only-child th {\n",
       "        text-align: right;\n",
       "    }\n",
       "\n",
       "    .dataframe thead th {\n",
       "        text-align: left;\n",
       "    }\n",
       "\n",
       "    .dataframe tbody tr th {\n",
       "        vertical-align: top;\n",
       "    }\n",
       "</style>\n",
       "<table border=\"1\" class=\"dataframe\">\n",
       "  <thead>\n",
       "    <tr style=\"text-align: right;\">\n",
       "      <th></th>\n",
       "      <th>Дата и время визита</th>\n",
       "      <th>Возраст</th>\n",
       "      <th>Объявление</th>\n",
       "      <th>Сегмент</th>\n",
       "      <th>Визиты</th>\n",
       "      <th>Достижение цели</th>\n",
       "      <th>Поддержка сookies</th>\n",
       "      <th>Поддержка Java</th>\n",
       "      <th>Поддержка JavaScript</th>\n",
       "      <th>Поддержка Flash</th>\n",
       "      <th>...</th>\n",
       "      <th>Глубина просмотра</th>\n",
       "      <th>Время на сайте</th>\n",
       "      <th>Отказность</th>\n",
       "      <th>Является ли визит первым визитом посетителя</th>\n",
       "      <th>Визитов в истории</th>\n",
       "      <th>Дней от первого визита</th>\n",
       "      <th>Тип устройства</th>\n",
       "      <th>Группа операционных систем</th>\n",
       "      <th>Операционная система (детально)</th>\n",
       "      <th>Браузер</th>\n",
       "    </tr>\n",
       "  </thead>\n",
       "  <tbody>\n",
       "    <tr>\n",
       "      <th>0</th>\n",
       "      <td>2018-01-13 00:38:29</td>\n",
       "      <td>48</td>\n",
       "      <td>28728144</td>\n",
       "      <td>90x75_cpc_remont_F45-50</td>\n",
       "      <td>1.0</td>\n",
       "      <td>0</td>\n",
       "      <td>1.0</td>\n",
       "      <td>0.0</td>\n",
       "      <td>1.0</td>\n",
       "      <td>0.0</td>\n",
       "      <td>...</td>\n",
       "      <td>2-3</td>\n",
       "      <td>30 – 59 секунд</td>\n",
       "      <td>Не отказ</td>\n",
       "      <td>Вернувшиеся посетители</td>\n",
       "      <td>4-7</td>\n",
       "      <td>2‑3 дня</td>\n",
       "      <td>ПК</td>\n",
       "      <td>Windows</td>\n",
       "      <td>Windows 10</td>\n",
       "      <td>Opera</td>\n",
       "    </tr>\n",
       "    <tr>\n",
       "      <th>1</th>\n",
       "      <td>2018-01-13 09:47:55</td>\n",
       "      <td>57</td>\n",
       "      <td>28728201</td>\n",
       "      <td>90x75_cpc_remont_F55-60</td>\n",
       "      <td>1.0</td>\n",
       "      <td>0</td>\n",
       "      <td>0.0</td>\n",
       "      <td>0.0</td>\n",
       "      <td>1.0</td>\n",
       "      <td>0.0</td>\n",
       "      <td>...</td>\n",
       "      <td>1</td>\n",
       "      <td>0 секунд (отказ)</td>\n",
       "      <td>Отказ</td>\n",
       "      <td>Новые посетители</td>\n",
       "      <td>1</td>\n",
       "      <td>0 дней</td>\n",
       "      <td>ПК</td>\n",
       "      <td>Windows</td>\n",
       "      <td>Windows 7 или 2008 Server</td>\n",
       "      <td>Firefox</td>\n",
       "    </tr>\n",
       "    <tr>\n",
       "      <th>2</th>\n",
       "      <td>2018-01-13 14:14:08</td>\n",
       "      <td>48</td>\n",
       "      <td>28728144</td>\n",
       "      <td>90x75_cpc_remont_F45-50</td>\n",
       "      <td>1.0</td>\n",
       "      <td>0</td>\n",
       "      <td>0.0</td>\n",
       "      <td>0.0</td>\n",
       "      <td>1.0</td>\n",
       "      <td>0.0</td>\n",
       "      <td>...</td>\n",
       "      <td>1</td>\n",
       "      <td>10 – 29 секунд</td>\n",
       "      <td>Не отказ</td>\n",
       "      <td>Вернувшиеся посетители</td>\n",
       "      <td>8-15</td>\n",
       "      <td>2‑3 дня</td>\n",
       "      <td>ПК</td>\n",
       "      <td>Windows</td>\n",
       "      <td>Windows 10</td>\n",
       "      <td>Opera</td>\n",
       "    </tr>\n",
       "    <tr>\n",
       "      <th>3</th>\n",
       "      <td>2018-01-14 16:34:35</td>\n",
       "      <td>59</td>\n",
       "      <td>28728201</td>\n",
       "      <td>90x75_cpc_remont_F55-60</td>\n",
       "      <td>1.0</td>\n",
       "      <td>0</td>\n",
       "      <td>0.0</td>\n",
       "      <td>0.0</td>\n",
       "      <td>1.0</td>\n",
       "      <td>0.0</td>\n",
       "      <td>...</td>\n",
       "      <td>1</td>\n",
       "      <td>0 секунд (отказ)</td>\n",
       "      <td>Отказ</td>\n",
       "      <td>Вернувшиеся посетители</td>\n",
       "      <td>2-3</td>\n",
       "      <td>2‑3 дня</td>\n",
       "      <td>ПК</td>\n",
       "      <td>Windows</td>\n",
       "      <td>Windows 8.1</td>\n",
       "      <td>Firefox</td>\n",
       "    </tr>\n",
       "    <tr>\n",
       "      <th>4</th>\n",
       "      <td>2018-01-15 09:30:56</td>\n",
       "      <td>50</td>\n",
       "      <td>28728192</td>\n",
       "      <td>90x75_cpc_remont_F50-55</td>\n",
       "      <td>1.0</td>\n",
       "      <td>0</td>\n",
       "      <td>1.0</td>\n",
       "      <td>0.0</td>\n",
       "      <td>1.0</td>\n",
       "      <td>1.0</td>\n",
       "      <td>...</td>\n",
       "      <td>1</td>\n",
       "      <td>0 секунд (отказ)</td>\n",
       "      <td>Отказ</td>\n",
       "      <td>Новые посетители</td>\n",
       "      <td>1</td>\n",
       "      <td>0 дней</td>\n",
       "      <td>ПК</td>\n",
       "      <td>Windows</td>\n",
       "      <td>Windows XP</td>\n",
       "      <td>Firefox</td>\n",
       "    </tr>\n",
       "  </tbody>\n",
       "</table>\n",
       "<p>5 rows × 23 columns</p>\n",
       "</div>"
      ],
      "text/plain": [
       "   Дата и время визита  Возраст  Объявление                  Сегмент  Визиты  \\\n",
       "0  2018-01-13 00:38:29       48    28728144  90x75_cpc_remont_F45-50     1.0   \n",
       "1  2018-01-13 09:47:55       57    28728201  90x75_cpc_remont_F55-60     1.0   \n",
       "2  2018-01-13 14:14:08       48    28728144  90x75_cpc_remont_F45-50     1.0   \n",
       "3  2018-01-14 16:34:35       59    28728201  90x75_cpc_remont_F55-60     1.0   \n",
       "4  2018-01-15 09:30:56       50    28728192  90x75_cpc_remont_F50-55     1.0   \n",
       "\n",
       "   Достижение цели  Поддержка сookies  Поддержка Java  Поддержка JavaScript  \\\n",
       "0                0                1.0             0.0                   1.0   \n",
       "1                0                0.0             0.0                   1.0   \n",
       "2                0                0.0             0.0                   1.0   \n",
       "3                0                0.0             0.0                   1.0   \n",
       "4                0                1.0             0.0                   1.0   \n",
       "\n",
       "   Поддержка Flash   ...     Глубина просмотра    Время на сайте  Отказность  \\\n",
       "0              0.0   ...                   2-3    30 – 59 секунд    Не отказ   \n",
       "1              0.0   ...                     1  0 секунд (отказ)       Отказ   \n",
       "2              0.0   ...                     1    10 – 29 секунд    Не отказ   \n",
       "3              0.0   ...                     1  0 секунд (отказ)       Отказ   \n",
       "4              1.0   ...                     1  0 секунд (отказ)       Отказ   \n",
       "\n",
       "  Является ли визит первым визитом посетителя Визитов в истории  \\\n",
       "0                      Вернувшиеся посетители               4-7   \n",
       "1                            Новые посетители                 1   \n",
       "2                      Вернувшиеся посетители              8-15   \n",
       "3                      Вернувшиеся посетители               2-3   \n",
       "4                            Новые посетители                 1   \n",
       "\n",
       "  Дней от первого визита Тип устройства Группа операционных систем  \\\n",
       "0                2‑3 дня             ПК                    Windows   \n",
       "1                 0 дней             ПК                    Windows   \n",
       "2                2‑3 дня             ПК                    Windows   \n",
       "3                2‑3 дня             ПК                    Windows   \n",
       "4                 0 дней             ПК                    Windows   \n",
       "\n",
       "  Операционная система (детально)  Браузер  \n",
       "0                      Windows 10    Opera  \n",
       "1       Windows 7 или 2008 Server  Firefox  \n",
       "2                      Windows 10    Opera  \n",
       "3                     Windows 8.1  Firefox  \n",
       "4                      Windows XP  Firefox  \n",
       "\n",
       "[5 rows x 23 columns]"
      ]
     },
     "execution_count": 30,
     "metadata": {},
     "output_type": "execute_result"
    }
   ],
   "source": [
    "df.head()"
   ]
  },
  {
   "cell_type": "markdown",
   "metadata": {},
   "source": [
    "Из описания датафрейма ниже видно, что есть пара пропусков, которые обусловленны просто отсутствием в системе аналитики части данных по 2м визитам. Это впринципе не страшно и скорее всего это может говорить о какой-то ошибки на этапе сбора данных или формирования промежуточного отчёта. **Поэтому во время предобработки мы эти две строки из датасета удалим.**\n",
    "\n",
    "Также видно, что у нас достаточно много категориальных признаков, из которых мы сможем построить в перспективе еще несколько бинарных признаков с помощью OneHotEncoder"
   ]
  },
  {
   "cell_type": "code",
   "execution_count": 69,
   "metadata": {},
   "outputs": [
    {
     "name": "stdout",
     "output_type": "stream",
     "text": [
      "<class 'pandas.core.frame.DataFrame'>\n",
      "RangeIndex: 3151 entries, 0 to 3150\n",
      "Data columns (total 23 columns):\n",
      "Дата и время визита                            3151 non-null object\n",
      "Возраст                                        3151 non-null int64\n",
      "Объявление                                     3151 non-null int64\n",
      "Сегмент                                        3151 non-null object\n",
      "Визиты                                         3149 non-null float64\n",
      "Достижение цели                                3151 non-null int64\n",
      "Поддержка сookies                              3149 non-null float64\n",
      "Поддержка Java                                 3149 non-null float64\n",
      "Поддержка JavaScript                           3149 non-null float64\n",
      "Поддержка Flash                                3149 non-null float64\n",
      "Поддержка Silverlight                          3149 non-null float64\n",
      "Мобильность                                    3149 non-null float64\n",
      "Блокировка рекламы                             3149 non-null float64\n",
      "Глубина просмотра                              3149 non-null object\n",
      "Время на сайте                                 3149 non-null object\n",
      "Отказность                                     3149 non-null object\n",
      "Является ли визит первым визитом посетителя    3149 non-null object\n",
      "Визитов в истории                              3149 non-null object\n",
      "Дней от первого визита                         3149 non-null object\n",
      "Тип устройства                                 3149 non-null object\n",
      "Группа операционных систем                     3149 non-null object\n",
      "Операционная система (детально)                3149 non-null object\n",
      "Браузер                                        3149 non-null object\n",
      "dtypes: float64(8), int64(3), object(12)\n",
      "memory usage: 566.3+ KB\n"
     ]
    }
   ],
   "source": [
    "df.info()"
   ]
  },
  {
   "cell_type": "markdown",
   "metadata": {},
   "source": [
    "# 3. Первичный анализ данных (в том числе визуальный)\n"
   ]
  },
  {
   "cell_type": "markdown",
   "metadata": {},
   "source": [
    "### Целевой признак\n",
    "Начнём с изучения распределения целевого признака. Уже исходя из описания задачи понятно, что **выборка будет несбалансированная**. Не может быть такого, чтобы половина посетителей оставляла заявки, а половина нет. Процент конверсии (отношение кол-ва посетителей, достигших цели, к общему кол-ву посетителей за выбранный период времени) в среднем по больнице обычно составляет 3-8%. При таких показателях обычно считается, что можно работать.\n",
    "\n",
    "Посмотрим на фактическое распределение целевого признака:"
   ]
  },
  {
   "cell_type": "code",
   "execution_count": 70,
   "metadata": {},
   "outputs": [
    {
     "data": {
      "text/plain": [
       "0    3064\n",
       "1      87\n",
       "Name: Достижение цели, dtype: int64"
      ]
     },
     "execution_count": 70,
     "metadata": {},
     "output_type": "execute_result"
    }
   ],
   "source": [
    "df['Достижение цели'].value_counts()"
   ]
  },
  {
   "cell_type": "markdown",
   "metadata": {},
   "source": [
    "В нашем случае конверсия сайта проходит как раз по нижней условной границе. Работать можно, но крайне желательно конверсию поднять. Чем мы и занимаемся"
   ]
  },
  {
   "cell_type": "code",
   "execution_count": 123,
   "metadata": {},
   "outputs": [
    {
     "name": "stdout",
     "output_type": "stream",
     "text": [
      "Конверсия сайта: 2.8000000000000003%\n"
     ]
    }
   ],
   "source": [
    "counts = df['Достижение цели'].value_counts()\n",
    "print(\"Конверсия сайта: {}%\".format(round(counts[1]/counts[0], 3) * 100))"
   ]
  },
  {
   "cell_type": "code",
   "execution_count": 125,
   "metadata": {},
   "outputs": [
    {
     "data": {
      "image/png": "[encoded data removed]",
      "text/plain": [
       "<matplotlib.figure.Figure at 0xcdeddd8>"
      ]
     },
     "metadata": {},
     "output_type": "display_data"
    }
   ],
   "source": [
    "rcParams['figure.figsize'] = 12, 10\n",
    "counts.plot(kind='bar');\n",
    "plt.legend();\n",
    "plt.title('Распределение целевого признака');"
   ]
  },
  {
   "cell_type": "markdown",
   "metadata": {},
   "source": [
    "### Сегмент\n",
    "Посмотрим, как влияют раличные признаки на целевой. Начнём с заведомо \"мощного\" признака - сегмент. И, к счастью, ничего удивительно, кроме пяти сегментов почти без данных и четырёх с малым количеством данных - посмотрим потом, как модель будет реагировать на этот признак"
   ]
  },
  {
   "cell_type": "code",
   "execution_count": 73,
   "metadata": {},
   "outputs": [
    {
     "data": {
      "text/html": [
       "<div>\n",
       "<style>\n",
       "    .dataframe thead tr:only-child th {\n",
       "        text-align: right;\n",
       "    }\n",
       "\n",
       "    .dataframe thead th {\n",
       "        text-align: left;\n",
       "    }\n",
       "\n",
       "    .dataframe tbody tr th {\n",
       "        vertical-align: top;\n",
       "    }\n",
       "</style>\n",
       "<table border=\"1\" class=\"dataframe\">\n",
       "  <thead>\n",
       "    <tr style=\"text-align: right;\">\n",
       "      <th>Сегмент</th>\n",
       "      <th>90x75_cpc_remont_F40-45</th>\n",
       "      <th>90x75_cpc_remont_F45-50</th>\n",
       "      <th>90x75_cpc_remont_F50-55</th>\n",
       "      <th>90x75_cpc_remont_F55-60</th>\n",
       "      <th>90x75_cpc_wide_F30-40</th>\n",
       "      <th>90x75_cpc_wide_F40-50</th>\n",
       "      <th>90x75_cpm_remont_F40-45</th>\n",
       "      <th>90x75_cpm_remont_F45-50</th>\n",
       "      <th>native_desktop_cpc_remont_F40-45</th>\n",
       "      <th>native_desktop_cpc_remont_F45-50</th>\n",
       "      <th>native_desktop_cpc_remont_F50-55</th>\n",
       "      <th>native_mobile_cpc_remont_F40-45</th>\n",
       "      <th>native_mobile_cpc_remont_F45-50</th>\n",
       "      <th>native_mobile_cpc_remont_F50-55</th>\n",
       "      <th>native_mobile_cpc_remont_F55-60</th>\n",
       "      <th>native_mobile_cpm_remont_F40-45</th>\n",
       "      <th>native_mobile_cpm_remont_F50-55</th>\n",
       "      <th>All</th>\n",
       "    </tr>\n",
       "    <tr>\n",
       "      <th>Достижение цели</th>\n",
       "      <th></th>\n",
       "      <th></th>\n",
       "      <th></th>\n",
       "      <th></th>\n",
       "      <th></th>\n",
       "      <th></th>\n",
       "      <th></th>\n",
       "      <th></th>\n",
       "      <th></th>\n",
       "      <th></th>\n",
       "      <th></th>\n",
       "      <th></th>\n",
       "      <th></th>\n",
       "      <th></th>\n",
       "      <th></th>\n",
       "      <th></th>\n",
       "      <th></th>\n",
       "      <th></th>\n",
       "    </tr>\n",
       "  </thead>\n",
       "  <tbody>\n",
       "    <tr>\n",
       "      <th>0</th>\n",
       "      <td>209</td>\n",
       "      <td>166</td>\n",
       "      <td>178</td>\n",
       "      <td>185</td>\n",
       "      <td>1</td>\n",
       "      <td>3</td>\n",
       "      <td>5</td>\n",
       "      <td>1</td>\n",
       "      <td>30</td>\n",
       "      <td>38</td>\n",
       "      <td>32</td>\n",
       "      <td>600</td>\n",
       "      <td>497</td>\n",
       "      <td>649</td>\n",
       "      <td>442</td>\n",
       "      <td>4</td>\n",
       "      <td>24</td>\n",
       "      <td>3064</td>\n",
       "    </tr>\n",
       "    <tr>\n",
       "      <th>1</th>\n",
       "      <td>6</td>\n",
       "      <td>1</td>\n",
       "      <td>7</td>\n",
       "      <td>4</td>\n",
       "      <td>0</td>\n",
       "      <td>0</td>\n",
       "      <td>0</td>\n",
       "      <td>0</td>\n",
       "      <td>1</td>\n",
       "      <td>0</td>\n",
       "      <td>0</td>\n",
       "      <td>27</td>\n",
       "      <td>13</td>\n",
       "      <td>21</td>\n",
       "      <td>7</td>\n",
       "      <td>0</td>\n",
       "      <td>0</td>\n",
       "      <td>87</td>\n",
       "    </tr>\n",
       "    <tr>\n",
       "      <th>All</th>\n",
       "      <td>215</td>\n",
       "      <td>167</td>\n",
       "      <td>185</td>\n",
       "      <td>189</td>\n",
       "      <td>1</td>\n",
       "      <td>3</td>\n",
       "      <td>5</td>\n",
       "      <td>1</td>\n",
       "      <td>31</td>\n",
       "      <td>38</td>\n",
       "      <td>32</td>\n",
       "      <td>627</td>\n",
       "      <td>510</td>\n",
       "      <td>670</td>\n",
       "      <td>449</td>\n",
       "      <td>4</td>\n",
       "      <td>24</td>\n",
       "      <td>3151</td>\n",
       "    </tr>\n",
       "  </tbody>\n",
       "</table>\n",
       "</div>"
      ],
      "text/plain": [
       "Сегмент          90x75_cpc_remont_F40-45  90x75_cpc_remont_F45-50  \\\n",
       "Достижение цели                                                     \n",
       "0                                    209                      166   \n",
       "1                                      6                        1   \n",
       "All                                  215                      167   \n",
       "\n",
       "Сегмент          90x75_cpc_remont_F50-55  90x75_cpc_remont_F55-60  \\\n",
       "Достижение цели                                                     \n",
       "0                                    178                      185   \n",
       "1                                      7                        4   \n",
       "All                                  185                      189   \n",
       "\n",
       "Сегмент          90x75_cpc_wide_F30-40  90x75_cpc_wide_F40-50  \\\n",
       "Достижение цели                                                 \n",
       "0                                    1                      3   \n",
       "1                                    0                      0   \n",
       "All                                  1                      3   \n",
       "\n",
       "Сегмент          90x75_cpm_remont_F40-45  90x75_cpm_remont_F45-50  \\\n",
       "Достижение цели                                                     \n",
       "0                                      5                        1   \n",
       "1                                      0                        0   \n",
       "All                                    5                        1   \n",
       "\n",
       "Сегмент          native_desktop_cpc_remont_F40-45  \\\n",
       "Достижение цели                                     \n",
       "0                                              30   \n",
       "1                                               1   \n",
       "All                                            31   \n",
       "\n",
       "Сегмент          native_desktop_cpc_remont_F45-50  \\\n",
       "Достижение цели                                     \n",
       "0                                              38   \n",
       "1                                               0   \n",
       "All                                            38   \n",
       "\n",
       "Сегмент          native_desktop_cpc_remont_F50-55  \\\n",
       "Достижение цели                                     \n",
       "0                                              32   \n",
       "1                                               0   \n",
       "All                                            32   \n",
       "\n",
       "Сегмент          native_mobile_cpc_remont_F40-45  \\\n",
       "Достижение цели                                    \n",
       "0                                            600   \n",
       "1                                             27   \n",
       "All                                          627   \n",
       "\n",
       "Сегмент          native_mobile_cpc_remont_F45-50  \\\n",
       "Достижение цели                                    \n",
       "0                                            497   \n",
       "1                                             13   \n",
       "All                                          510   \n",
       "\n",
       "Сегмент          native_mobile_cpc_remont_F50-55  \\\n",
       "Достижение цели                                    \n",
       "0                                            649   \n",
       "1                                             21   \n",
       "All                                          670   \n",
       "\n",
       "Сегмент          native_mobile_cpc_remont_F55-60  \\\n",
       "Достижение цели                                    \n",
       "0                                            442   \n",
       "1                                              7   \n",
       "All                                          449   \n",
       "\n",
       "Сегмент          native_mobile_cpm_remont_F40-45  \\\n",
       "Достижение цели                                    \n",
       "0                                              4   \n",
       "1                                              0   \n",
       "All                                            4   \n",
       "\n",
       "Сегмент          native_mobile_cpm_remont_F50-55   All  \n",
       "Достижение цели                                         \n",
       "0                                             24  3064  \n",
       "1                                              0    87  \n",
       "All                                           24  3151  "
      ]
     },
     "execution_count": 73,
     "metadata": {},
     "output_type": "execute_result"
    }
   ],
   "source": [
    "pd.crosstab(df['Достижение цели'], df['Сегмент'], margins=True)"
   ]
  },
  {
   "cell_type": "code",
   "execution_count": 126,
   "metadata": {},
   "outputs": [
    {
     "data": {
      "image/png": "[encoded data removed]",
      "text/plain": [
       "<matplotlib.figure.Figure at 0xcd90630>"
      ]
     },
     "metadata": {},
     "output_type": "display_data"
    }
   ],
   "source": [
    "rcParams['figure.figsize'] = 12, 10\n",
    "p = sns.countplot(x='Сегмент', hue='Достижение цели', data=df);\n",
    "p.set_xticklabels(labels = df['Сегмент'], rotation=90);"
   ]
  },
  {
   "cell_type": "markdown",
   "metadata": {},
   "source": [
    "### Мобильность устройства\n",
    "Теперь посмотрим, как влияет мобильность устройства на целевой признак. А тут уже достаточно интересно. Мы видим 5 аномальных значений, которые делают бинарный признак по сути категориальным. По идее, устройство может быть либо мобильным, либо нет. А у нас в табилце появляется некое значение 0.5! OMG! Устройство Шрёдингера????!!! "
   ]
  },
  {
   "cell_type": "code",
   "execution_count": 81,
   "metadata": {},
   "outputs": [
    {
     "data": {
      "text/html": [
       "<div>\n",
       "<style>\n",
       "    .dataframe thead tr:only-child th {\n",
       "        text-align: right;\n",
       "    }\n",
       "\n",
       "    .dataframe thead th {\n",
       "        text-align: left;\n",
       "    }\n",
       "\n",
       "    .dataframe tbody tr th {\n",
       "        vertical-align: top;\n",
       "    }\n",
       "</style>\n",
       "<table border=\"1\" class=\"dataframe\">\n",
       "  <thead>\n",
       "    <tr style=\"text-align: right;\">\n",
       "      <th>Мобильность</th>\n",
       "      <th>0.0</th>\n",
       "      <th>0.5</th>\n",
       "      <th>1.0</th>\n",
       "      <th>All</th>\n",
       "    </tr>\n",
       "    <tr>\n",
       "      <th>Достижение цели</th>\n",
       "      <th></th>\n",
       "      <th></th>\n",
       "      <th></th>\n",
       "      <th></th>\n",
       "    </tr>\n",
       "  </thead>\n",
       "  <tbody>\n",
       "    <tr>\n",
       "      <th>0</th>\n",
       "      <td>849</td>\n",
       "      <td>5</td>\n",
       "      <td>2208</td>\n",
       "      <td>3062</td>\n",
       "    </tr>\n",
       "    <tr>\n",
       "      <th>1</th>\n",
       "      <td>18</td>\n",
       "      <td>0</td>\n",
       "      <td>69</td>\n",
       "      <td>87</td>\n",
       "    </tr>\n",
       "    <tr>\n",
       "      <th>All</th>\n",
       "      <td>867</td>\n",
       "      <td>5</td>\n",
       "      <td>2277</td>\n",
       "      <td>3149</td>\n",
       "    </tr>\n",
       "  </tbody>\n",
       "</table>\n",
       "</div>"
      ],
      "text/plain": [
       "Мобильность      0.0  0.5   1.0   All\n",
       "Достижение цели                      \n",
       "0                849    5  2208  3062\n",
       "1                 18    0    69    87\n",
       "All              867    5  2277  3149"
      ]
     },
     "execution_count": 81,
     "metadata": {},
     "output_type": "execute_result"
    }
   ],
   "source": [
    "mob_tab = pd.crosstab(df['Достижение цели'], df['Мобильность'], margins=True)\n",
    "mob_tab"
   ]
  },
  {
   "cell_type": "markdown",
   "metadata": {},
   "source": [
    "Давайте посмотрим в датасете на строки, которые соответсвуют этому аномальному значению 0.5"
   ]
  },
  {
   "cell_type": "code",
   "execution_count": 75,
   "metadata": {},
   "outputs": [
    {
     "data": {
      "text/html": [
       "<div>\n",
       "<style>\n",
       "    .dataframe thead tr:only-child th {\n",
       "        text-align: right;\n",
       "    }\n",
       "\n",
       "    .dataframe thead th {\n",
       "        text-align: left;\n",
       "    }\n",
       "\n",
       "    .dataframe tbody tr th {\n",
       "        vertical-align: top;\n",
       "    }\n",
       "</style>\n",
       "<table border=\"1\" class=\"dataframe\">\n",
       "  <thead>\n",
       "    <tr style=\"text-align: right;\">\n",
       "      <th></th>\n",
       "      <th>Дата и время визита</th>\n",
       "      <th>Возраст</th>\n",
       "      <th>Объявление</th>\n",
       "      <th>Сегмент</th>\n",
       "      <th>Визиты</th>\n",
       "      <th>Достижение цели</th>\n",
       "      <th>Поддержка сookies</th>\n",
       "      <th>Поддержка Java</th>\n",
       "      <th>Поддержка JavaScript</th>\n",
       "      <th>Поддержка Flash</th>\n",
       "      <th>...</th>\n",
       "      <th>Глубина просмотра</th>\n",
       "      <th>Время на сайте</th>\n",
       "      <th>Отказность</th>\n",
       "      <th>Является ли визит первым визитом посетителя</th>\n",
       "      <th>Визитов в истории</th>\n",
       "      <th>Дней от первого визита</th>\n",
       "      <th>Тип устройства</th>\n",
       "      <th>Группа операционных систем</th>\n",
       "      <th>Операционная система (детально)</th>\n",
       "      <th>Браузер</th>\n",
       "    </tr>\n",
       "  </thead>\n",
       "  <tbody>\n",
       "    <tr>\n",
       "      <th>583</th>\n",
       "      <td>2018-01-23 10:57:35</td>\n",
       "      <td>57</td>\n",
       "      <td>29071641</td>\n",
       "      <td>90x75_cpc_remont_F55-60</td>\n",
       "      <td>2.0</td>\n",
       "      <td>0</td>\n",
       "      <td>0.0</td>\n",
       "      <td>0.0</td>\n",
       "      <td>1.0</td>\n",
       "      <td>0.0</td>\n",
       "      <td>...</td>\n",
       "      <td>1</td>\n",
       "      <td>0 секунд (отказ)</td>\n",
       "      <td>Отказ</td>\n",
       "      <td>Новые посетители</td>\n",
       "      <td>1</td>\n",
       "      <td>0 дней</td>\n",
       "      <td>ПК</td>\n",
       "      <td>Windows</td>\n",
       "      <td>Windows 7 или 2008 Server</td>\n",
       "      <td>Opera</td>\n",
       "    </tr>\n",
       "    <tr>\n",
       "      <th>751</th>\n",
       "      <td>2018-01-25 09:26:04</td>\n",
       "      <td>41</td>\n",
       "      <td>29100965</td>\n",
       "      <td>native_mobile_cpc_remont_F40-45</td>\n",
       "      <td>2.0</td>\n",
       "      <td>0</td>\n",
       "      <td>0.5</td>\n",
       "      <td>0.0</td>\n",
       "      <td>1.0</td>\n",
       "      <td>0.5</td>\n",
       "      <td>...</td>\n",
       "      <td>1</td>\n",
       "      <td>0 секунд (отказ)</td>\n",
       "      <td>Отказ</td>\n",
       "      <td>Новые посетители</td>\n",
       "      <td>1</td>\n",
       "      <td>0 дней</td>\n",
       "      <td>ПК</td>\n",
       "      <td>Windows</td>\n",
       "      <td>Windows 7 или 2008 Server</td>\n",
       "      <td>Opera</td>\n",
       "    </tr>\n",
       "    <tr>\n",
       "      <th>752</th>\n",
       "      <td>2018-01-25 09:26:04</td>\n",
       "      <td>52</td>\n",
       "      <td>29072167</td>\n",
       "      <td>native_desktop_cpc_remont_F50-55</td>\n",
       "      <td>2.0</td>\n",
       "      <td>0</td>\n",
       "      <td>0.5</td>\n",
       "      <td>0.0</td>\n",
       "      <td>1.0</td>\n",
       "      <td>0.5</td>\n",
       "      <td>...</td>\n",
       "      <td>1</td>\n",
       "      <td>0 секунд (отказ)</td>\n",
       "      <td>Отказ</td>\n",
       "      <td>Новые посетители</td>\n",
       "      <td>1</td>\n",
       "      <td>0 дней</td>\n",
       "      <td>ПК</td>\n",
       "      <td>Windows</td>\n",
       "      <td>Windows 7 или 2008 Server</td>\n",
       "      <td>Opera</td>\n",
       "    </tr>\n",
       "    <tr>\n",
       "      <th>2099</th>\n",
       "      <td>2018-02-21 10:20:36</td>\n",
       "      <td>43</td>\n",
       "      <td>29270212</td>\n",
       "      <td>native_mobile_cpc_remont_F40-45</td>\n",
       "      <td>2.0</td>\n",
       "      <td>0</td>\n",
       "      <td>0.0</td>\n",
       "      <td>0.5</td>\n",
       "      <td>1.0</td>\n",
       "      <td>0.0</td>\n",
       "      <td>...</td>\n",
       "      <td>1</td>\n",
       "      <td>0 секунд (отказ)</td>\n",
       "      <td>Отказ</td>\n",
       "      <td>Вернувшиеся посетители</td>\n",
       "      <td>2-3</td>\n",
       "      <td>4‑7 дней</td>\n",
       "      <td>ПК</td>\n",
       "      <td>Windows</td>\n",
       "      <td>Windows 2003 Server или XP Pro x64</td>\n",
       "      <td>Google Chrome</td>\n",
       "    </tr>\n",
       "    <tr>\n",
       "      <th>2100</th>\n",
       "      <td>2018-02-21 10:20:36</td>\n",
       "      <td>53</td>\n",
       "      <td>29270215</td>\n",
       "      <td>native_mobile_cpc_remont_F50-55</td>\n",
       "      <td>2.0</td>\n",
       "      <td>0</td>\n",
       "      <td>0.0</td>\n",
       "      <td>0.5</td>\n",
       "      <td>1.0</td>\n",
       "      <td>0.0</td>\n",
       "      <td>...</td>\n",
       "      <td>1</td>\n",
       "      <td>0 секунд (отказ)</td>\n",
       "      <td>Отказ</td>\n",
       "      <td>Вернувшиеся посетители</td>\n",
       "      <td>2-3</td>\n",
       "      <td>4‑7 дней</td>\n",
       "      <td>ПК</td>\n",
       "      <td>Windows</td>\n",
       "      <td>Windows 2003 Server или XP Pro x64</td>\n",
       "      <td>Google Chrome</td>\n",
       "    </tr>\n",
       "  </tbody>\n",
       "</table>\n",
       "<p>5 rows × 23 columns</p>\n",
       "</div>"
      ],
      "text/plain": [
       "      Дата и время визита  Возраст  Объявление  \\\n",
       "583   2018-01-23 10:57:35       57    29071641   \n",
       "751   2018-01-25 09:26:04       41    29100965   \n",
       "752   2018-01-25 09:26:04       52    29072167   \n",
       "2099  2018-02-21 10:20:36       43    29270212   \n",
       "2100  2018-02-21 10:20:36       53    29270215   \n",
       "\n",
       "                               Сегмент  Визиты  Достижение цели  \\\n",
       "583            90x75_cpc_remont_F55-60     2.0                0   \n",
       "751    native_mobile_cpc_remont_F40-45     2.0                0   \n",
       "752   native_desktop_cpc_remont_F50-55     2.0                0   \n",
       "2099   native_mobile_cpc_remont_F40-45     2.0                0   \n",
       "2100   native_mobile_cpc_remont_F50-55     2.0                0   \n",
       "\n",
       "      Поддержка сookies  Поддержка Java  Поддержка JavaScript  \\\n",
       "583                 0.0             0.0                   1.0   \n",
       "751                 0.5             0.0                   1.0   \n",
       "752                 0.5             0.0                   1.0   \n",
       "2099                0.0             0.5                   1.0   \n",
       "2100                0.0             0.5                   1.0   \n",
       "\n",
       "      Поддержка Flash      ...        Глубина просмотра    Время на сайте  \\\n",
       "583               0.0      ...                        1  0 секунд (отказ)   \n",
       "751               0.5      ...                        1  0 секунд (отказ)   \n",
       "752               0.5      ...                        1  0 секунд (отказ)   \n",
       "2099              0.0      ...                        1  0 секунд (отказ)   \n",
       "2100              0.0      ...                        1  0 секунд (отказ)   \n",
       "\n",
       "      Отказность Является ли визит первым визитом посетителя  \\\n",
       "583        Отказ                            Новые посетители   \n",
       "751        Отказ                            Новые посетители   \n",
       "752        Отказ                            Новые посетители   \n",
       "2099       Отказ                      Вернувшиеся посетители   \n",
       "2100       Отказ                      Вернувшиеся посетители   \n",
       "\n",
       "     Визитов в истории Дней от первого визита Тип устройства  \\\n",
       "583                  1                 0 дней             ПК   \n",
       "751                  1                 0 дней             ПК   \n",
       "752                  1                 0 дней             ПК   \n",
       "2099               2-3               4‑7 дней             ПК   \n",
       "2100               2-3               4‑7 дней             ПК   \n",
       "\n",
       "     Группа операционных систем     Операционная система (детально)  \\\n",
       "583                     Windows           Windows 7 или 2008 Server   \n",
       "751                     Windows           Windows 7 или 2008 Server   \n",
       "752                     Windows           Windows 7 или 2008 Server   \n",
       "2099                    Windows  Windows 2003 Server или XP Pro x64   \n",
       "2100                    Windows  Windows 2003 Server или XP Pro x64   \n",
       "\n",
       "            Браузер  \n",
       "583           Opera  \n",
       "751           Opera  \n",
       "752           Opera  \n",
       "2099  Google Chrome  \n",
       "2100  Google Chrome  \n",
       "\n",
       "[5 rows x 23 columns]"
      ]
     },
     "execution_count": 75,
     "metadata": {},
     "output_type": "execute_result"
    }
   ],
   "source": [
    "df[df['Мобильность'] == 0.5]"
   ]
  },
  {
   "cell_type": "markdown",
   "metadata": {},
   "source": [
    "Ну тут уже все становится понятно. Обратим внимание на столбец Визиты. В рамках одной сесссии, посетитель захоил с разных устройств. Одно было мобильным, а другое десктопом. Отсюда и возникает путаница. "
   ]
  },
  {
   "cell_type": "markdown",
   "metadata": {},
   "source": [
    "По идее, было бы круто, если бы объекты со значением признака мобильности 0.5 имели принадлежность к искомому классу целевого признака. Тогда бы мы действительно стали использовать этот признак как весомый категориальный. Но нет. А вот напротив, мы видим, что как бинарный признак, он очень хорошо нам подходит.  Давайте посмотрим на конверсию сайта отдельно для мобильных и не мобильных устройств"
   ]
  },
  {
   "cell_type": "code",
   "execution_count": 105,
   "metadata": {},
   "outputs": [
    {
     "name": "stdout",
     "output_type": "stream",
     "text": [
      "немобильное устройство: 2.08%\n",
      "мобильное устройство: 3.0300000000000002%\n"
     ]
    }
   ],
   "source": [
    "conv_desctop = round(mob_tab[0][1]/mob_tab[0]['All'],4)*100\n",
    "conv_mob = round(mob_tab[1][1]/mob_tab[1]['All'],4)*100\n",
    "\n",
    "print('немобильное устройство: {}%\\nмобильное устройство: {}%'.format(conv_desctop, conv_mob))"
   ]
  },
  {
   "cell_type": "markdown",
   "metadata": {},
   "source": [
    "** Посетители с мобильных устройств в 1,5 чаще оставляют заявки на сайте! Запомним это. **"
   ]
  },
  {
   "cell_type": "markdown",
   "metadata": {},
   "source": [
    "### Тип устройства"
   ]
  },
  {
   "cell_type": "markdown",
   "metadata": {},
   "source": [
    "А что если посмотреть еще подробнее - не просто мобильные и не мобильные, а детальнее: ПК, Планшеты и Смартфоны. "
   ]
  },
  {
   "cell_type": "code",
   "execution_count": 110,
   "metadata": {},
   "outputs": [
    {
     "data": {
      "text/html": [
       "<div>\n",
       "<style>\n",
       "    .dataframe thead tr:only-child th {\n",
       "        text-align: right;\n",
       "    }\n",
       "\n",
       "    .dataframe thead th {\n",
       "        text-align: left;\n",
       "    }\n",
       "\n",
       "    .dataframe tbody tr th {\n",
       "        vertical-align: top;\n",
       "    }\n",
       "</style>\n",
       "<table border=\"1\" class=\"dataframe\">\n",
       "  <thead>\n",
       "    <tr style=\"text-align: right;\">\n",
       "      <th>Тип устройства</th>\n",
       "      <th>ПК</th>\n",
       "      <th>Планшеты</th>\n",
       "      <th>Смартфоны</th>\n",
       "      <th>All</th>\n",
       "    </tr>\n",
       "    <tr>\n",
       "      <th>Достижение цели</th>\n",
       "      <th></th>\n",
       "      <th></th>\n",
       "      <th></th>\n",
       "      <th></th>\n",
       "    </tr>\n",
       "  </thead>\n",
       "  <tbody>\n",
       "    <tr>\n",
       "      <th>0</th>\n",
       "      <td>854</td>\n",
       "      <td>282</td>\n",
       "      <td>1926</td>\n",
       "      <td>3062</td>\n",
       "    </tr>\n",
       "    <tr>\n",
       "      <th>1</th>\n",
       "      <td>18</td>\n",
       "      <td>8</td>\n",
       "      <td>61</td>\n",
       "      <td>87</td>\n",
       "    </tr>\n",
       "    <tr>\n",
       "      <th>All</th>\n",
       "      <td>872</td>\n",
       "      <td>290</td>\n",
       "      <td>1987</td>\n",
       "      <td>3149</td>\n",
       "    </tr>\n",
       "  </tbody>\n",
       "</table>\n",
       "</div>"
      ],
      "text/plain": [
       "Тип устройства    ПК  Планшеты  Смартфоны   All\n",
       "Достижение цели                                \n",
       "0                854       282       1926  3062\n",
       "1                 18         8         61    87\n",
       "All              872       290       1987  3149"
      ]
     },
     "execution_count": 110,
     "metadata": {},
     "output_type": "execute_result"
    }
   ],
   "source": [
    "tab = pd.crosstab(df['Достижение цели'], df['Тип устройства'], margins=True)\n",
    "tab"
   ]
  },
  {
   "cell_type": "code",
   "execution_count": 114,
   "metadata": {},
   "outputs": [
    {
     "name": "stdout",
     "output_type": "stream",
     "text": [
      "ПК: 2.06%\n",
      "Планшет: 2.76%\n",
      "Смартфон: 3.0700000000000003%\n"
     ]
    }
   ],
   "source": [
    "conv_pk = round(tab['ПК'][1]/tab['ПК']['All'],4)*100\n",
    "conv_tablet = round(tab['Планшеты'][1]/tab['Планшеты']['All'],4)*100\n",
    "conv_phone = round(tab['Смартфоны'][1]/tab['Смартфоны']['All'],4)*100\n",
    "\n",
    "print('ПК: {}%\\nПланшет: {}%\\nСмартфон: {}%'.format(conv_pk, conv_tablet, conv_phone))"
   ]
  },
  {
   "cell_type": "markdown",
   "metadata": {},
   "source": [
    "Видим, что посетители со смартфонов немного качественнее в смысле достижения целей. Это тоже важно, хотя вцелом конверсия не сильно повысилась"
   ]
  },
  {
   "cell_type": "markdown",
   "metadata": {},
   "source": [
    "### Отказность?"
   ]
  },
  {
   "cell_type": "code",
   "execution_count": 89,
   "metadata": {},
   "outputs": [
    {
     "data": {
      "text/html": [
       "<div>\n",
       "<style>\n",
       "    .dataframe thead tr:only-child th {\n",
       "        text-align: right;\n",
       "    }\n",
       "\n",
       "    .dataframe thead th {\n",
       "        text-align: left;\n",
       "    }\n",
       "\n",
       "    .dataframe tbody tr th {\n",
       "        vertical-align: top;\n",
       "    }\n",
       "</style>\n",
       "<table border=\"1\" class=\"dataframe\">\n",
       "  <thead>\n",
       "    <tr style=\"text-align: right;\">\n",
       "      <th>Отказность</th>\n",
       "      <th>Не отказ</th>\n",
       "      <th>Отказ</th>\n",
       "      <th>All</th>\n",
       "    </tr>\n",
       "    <tr>\n",
       "      <th>Достижение цели</th>\n",
       "      <th></th>\n",
       "      <th></th>\n",
       "      <th></th>\n",
       "    </tr>\n",
       "  </thead>\n",
       "  <tbody>\n",
       "    <tr>\n",
       "      <th>0</th>\n",
       "      <td>2300</td>\n",
       "      <td>762</td>\n",
       "      <td>3062</td>\n",
       "    </tr>\n",
       "    <tr>\n",
       "      <th>1</th>\n",
       "      <td>87</td>\n",
       "      <td>0</td>\n",
       "      <td>87</td>\n",
       "    </tr>\n",
       "    <tr>\n",
       "      <th>All</th>\n",
       "      <td>2387</td>\n",
       "      <td>762</td>\n",
       "      <td>3149</td>\n",
       "    </tr>\n",
       "  </tbody>\n",
       "</table>\n",
       "</div>"
      ],
      "text/plain": [
       "Отказность       Не отказ  Отказ   All\n",
       "Достижение цели                       \n",
       "0                    2300    762  3062\n",
       "1                      87      0    87\n",
       "All                  2387    762  3149"
      ]
     },
     "execution_count": 89,
     "metadata": {},
     "output_type": "execute_result"
    }
   ],
   "source": [
    "tab = pd.crosstab(df['Достижение цели'], df['Отказность'], margins=True)\n",
    "tab"
   ]
  },
  {
   "cell_type": "markdown",
   "metadata": {},
   "source": [
    "Вообще говоря, это очевиднейшая вещь - логично предположить, что посетители, которые провели на сайте менее 15 секунд просто не успеют изучить сайт и принять решение о том, чтобы выполнить на сайте какое-то действие. Но тут нам важны цифры. Оказывается мы просто теряем четверть посетителей. из 3000 человек около 750 просто закрыли сайт сразу. Это очень важный показатель качества самой страницы и **это сигнал о том, что нужно работать над сайтом!**"
   ]
  },
  {
   "cell_type": "markdown",
   "metadata": {},
   "source": [
    "### Операционные системы и браузеры"
   ]
  },
  {
   "cell_type": "markdown",
   "metadata": {},
   "source": [
    "А вот тут похоже у нас будет инсайт! Предпосылок для выделения этих признаков в \"мощные\" вроде бы никаких нет. Ну разве что можно сделать предположение о том, что  пользователи iOS вероятно более состоятельные, чем пользователи Android. Давайте посмотрим на наши кросстабы и посчитаем конверсию."
   ]
  },
  {
   "cell_type": "code",
   "execution_count": 97,
   "metadata": {},
   "outputs": [
    {
     "data": {
      "text/html": [
       "<div>\n",
       "<style>\n",
       "    .dataframe thead tr:only-child th {\n",
       "        text-align: right;\n",
       "    }\n",
       "\n",
       "    .dataframe thead th {\n",
       "        text-align: left;\n",
       "    }\n",
       "\n",
       "    .dataframe tbody tr th {\n",
       "        vertical-align: top;\n",
       "    }\n",
       "</style>\n",
       "<table border=\"1\" class=\"dataframe\">\n",
       "  <thead>\n",
       "    <tr style=\"text-align: right;\">\n",
       "      <th>Группа операционных систем</th>\n",
       "      <th>BlackBerry OS</th>\n",
       "      <th>GNU/Linux</th>\n",
       "      <th>Google Android</th>\n",
       "      <th>Mac OS</th>\n",
       "      <th>Windows</th>\n",
       "      <th>iOS</th>\n",
       "      <th>All</th>\n",
       "    </tr>\n",
       "    <tr>\n",
       "      <th>Достижение цели</th>\n",
       "      <th></th>\n",
       "      <th></th>\n",
       "      <th></th>\n",
       "      <th></th>\n",
       "      <th></th>\n",
       "      <th></th>\n",
       "      <th></th>\n",
       "    </tr>\n",
       "  </thead>\n",
       "  <tbody>\n",
       "    <tr>\n",
       "      <th>0</th>\n",
       "      <td>1</td>\n",
       "      <td>8</td>\n",
       "      <td>1888</td>\n",
       "      <td>10</td>\n",
       "      <td>856</td>\n",
       "      <td>299</td>\n",
       "      <td>3062</td>\n",
       "    </tr>\n",
       "    <tr>\n",
       "      <th>1</th>\n",
       "      <td>0</td>\n",
       "      <td>1</td>\n",
       "      <td>59</td>\n",
       "      <td>0</td>\n",
       "      <td>18</td>\n",
       "      <td>9</td>\n",
       "      <td>87</td>\n",
       "    </tr>\n",
       "    <tr>\n",
       "      <th>All</th>\n",
       "      <td>1</td>\n",
       "      <td>9</td>\n",
       "      <td>1947</td>\n",
       "      <td>10</td>\n",
       "      <td>874</td>\n",
       "      <td>308</td>\n",
       "      <td>3149</td>\n",
       "    </tr>\n",
       "  </tbody>\n",
       "</table>\n",
       "</div>"
      ],
      "text/plain": [
       "Группа операционных систем  BlackBerry OS  GNU/Linux  Google Android  Mac OS  \\\n",
       "Достижение цели                                                                \n",
       "0                                       1          8            1888      10   \n",
       "1                                       0          1              59       0   \n",
       "All                                     1          9            1947      10   \n",
       "\n",
       "Группа операционных систем  Windows  iOS   All  \n",
       "Достижение цели                                 \n",
       "0                               856  299  3062  \n",
       "1                                18    9    87  \n",
       "All                             874  308  3149  "
      ]
     },
     "execution_count": 97,
     "metadata": {},
     "output_type": "execute_result"
    }
   ],
   "source": [
    "os_group_tab = pd.crosstab(df['Достижение цели'], df['Группа операционных систем'], margins=True)\n",
    "os_group_tab"
   ]
  },
  {
   "cell_type": "code",
   "execution_count": 181,
   "metadata": {},
   "outputs": [
    {
     "name": "stdout",
     "output_type": "stream",
     "text": [
      "GNU/Linux: 11.110000000000001%\n",
      "Google Android: 3.0300000000000002%\n",
      "iOS: 2.92%\n",
      "Windows: 2.06%\n",
      "Mac OS: 0.0%\n"
     ]
    }
   ],
   "source": [
    "os_dict = {}\n",
    "for os in list(os_group_tab.columns.values):\n",
    "    conv = round(os_group_tab[os][1]/os_group_tab[os]['All'],4)*100\n",
    "    os_dict[conv] = os\n",
    "\n",
    "for conv in sorted(os_dict.keys(), reverse=True):\n",
    "    if(os_dict[conv] != 'All'):\n",
    "        print('{}: {}%'.format(os_dict[conv], conv))"
   ]
  },
  {
   "cell_type": "code",
   "execution_count": 188,
   "metadata": {},
   "outputs": [
    {
     "data": {
      "text/html": [
       "<div>\n",
       "<style>\n",
       "    .dataframe thead tr:only-child th {\n",
       "        text-align: right;\n",
       "    }\n",
       "\n",
       "    .dataframe thead th {\n",
       "        text-align: left;\n",
       "    }\n",
       "\n",
       "    .dataframe tbody tr th {\n",
       "        vertical-align: top;\n",
       "    }\n",
       "</style>\n",
       "<table border=\"1\" class=\"dataframe\">\n",
       "  <thead>\n",
       "    <tr style=\"text-align: right;\">\n",
       "      <th>Браузер</th>\n",
       "      <th>Amigo</th>\n",
       "      <th>Android Browser</th>\n",
       "      <th>BlackBerry</th>\n",
       "      <th>Chrome Mobile</th>\n",
       "      <th>Chromium</th>\n",
       "      <th>Edge</th>\n",
       "      <th>Firefox</th>\n",
       "      <th>Firefox Mobile</th>\n",
       "      <th>Google Chrome</th>\n",
       "      <th>Google: мобильное приложение</th>\n",
       "      <th>...</th>\n",
       "      <th>PaleMoon</th>\n",
       "      <th>Puffin</th>\n",
       "      <th>Safari</th>\n",
       "      <th>Samsung Internet</th>\n",
       "      <th>UCWEB</th>\n",
       "      <th>Интернет@Mail.ru</th>\n",
       "      <th>Яндекс.Браузер</th>\n",
       "      <th>Яндекс.Браузер lite</th>\n",
       "      <th>Яндекс: мобильное приложение</th>\n",
       "      <th>All</th>\n",
       "    </tr>\n",
       "    <tr>\n",
       "      <th>Достижение цели</th>\n",
       "      <th></th>\n",
       "      <th></th>\n",
       "      <th></th>\n",
       "      <th></th>\n",
       "      <th></th>\n",
       "      <th></th>\n",
       "      <th></th>\n",
       "      <th></th>\n",
       "      <th></th>\n",
       "      <th></th>\n",
       "      <th></th>\n",
       "      <th></th>\n",
       "      <th></th>\n",
       "      <th></th>\n",
       "      <th></th>\n",
       "      <th></th>\n",
       "      <th></th>\n",
       "      <th></th>\n",
       "      <th></th>\n",
       "      <th></th>\n",
       "      <th></th>\n",
       "    </tr>\n",
       "  </thead>\n",
       "  <tbody>\n",
       "    <tr>\n",
       "      <th>0</th>\n",
       "      <td>13</td>\n",
       "      <td>226</td>\n",
       "      <td>1</td>\n",
       "      <td>1020</td>\n",
       "      <td>2</td>\n",
       "      <td>30</td>\n",
       "      <td>131</td>\n",
       "      <td>2</td>\n",
       "      <td>418</td>\n",
       "      <td>4</td>\n",
       "      <td>...</td>\n",
       "      <td>1</td>\n",
       "      <td>4</td>\n",
       "      <td>7</td>\n",
       "      <td>208</td>\n",
       "      <td>45</td>\n",
       "      <td>4</td>\n",
       "      <td>332</td>\n",
       "      <td>5</td>\n",
       "      <td>67</td>\n",
       "      <td>3062</td>\n",
       "    </tr>\n",
       "    <tr>\n",
       "      <th>1</th>\n",
       "      <td>0</td>\n",
       "      <td>12</td>\n",
       "      <td>0</td>\n",
       "      <td>30</td>\n",
       "      <td>0</td>\n",
       "      <td>0</td>\n",
       "      <td>3</td>\n",
       "      <td>1</td>\n",
       "      <td>10</td>\n",
       "      <td>0</td>\n",
       "      <td>...</td>\n",
       "      <td>0</td>\n",
       "      <td>1</td>\n",
       "      <td>0</td>\n",
       "      <td>1</td>\n",
       "      <td>1</td>\n",
       "      <td>0</td>\n",
       "      <td>13</td>\n",
       "      <td>0</td>\n",
       "      <td>2</td>\n",
       "      <td>87</td>\n",
       "    </tr>\n",
       "    <tr>\n",
       "      <th>All</th>\n",
       "      <td>13</td>\n",
       "      <td>238</td>\n",
       "      <td>1</td>\n",
       "      <td>1050</td>\n",
       "      <td>2</td>\n",
       "      <td>30</td>\n",
       "      <td>134</td>\n",
       "      <td>3</td>\n",
       "      <td>428</td>\n",
       "      <td>4</td>\n",
       "      <td>...</td>\n",
       "      <td>1</td>\n",
       "      <td>5</td>\n",
       "      <td>7</td>\n",
       "      <td>209</td>\n",
       "      <td>46</td>\n",
       "      <td>4</td>\n",
       "      <td>345</td>\n",
       "      <td>5</td>\n",
       "      <td>69</td>\n",
       "      <td>3149</td>\n",
       "    </tr>\n",
       "  </tbody>\n",
       "</table>\n",
       "<p>3 rows × 28 columns</p>\n",
       "</div>"
      ],
      "text/plain": [
       "Браузер          Amigo  Android Browser  BlackBerry  Chrome Mobile  Chromium  \\\n",
       "Достижение цели                                                                \n",
       "0                   13              226           1           1020         2   \n",
       "1                    0               12           0             30         0   \n",
       "All                 13              238           1           1050         2   \n",
       "\n",
       "Браузер          Edge  Firefox  Firefox Mobile  Google Chrome  \\\n",
       "Достижение цели                                                 \n",
       "0                  30      131               2            418   \n",
       "1                   0        3               1             10   \n",
       "All                30      134               3            428   \n",
       "\n",
       "Браузер          Google: мобильное приложение  ...   PaleMoon  Puffin  Safari  \\\n",
       "Достижение цели                                ...                              \n",
       "0                                           4  ...          1       4       7   \n",
       "1                                           0  ...          0       1       0   \n",
       "All                                         4  ...          1       5       7   \n",
       "\n",
       "Браузер          Samsung Internet  UCWEB  Интернет@Mail.ru  Яндекс.Браузер  \\\n",
       "Достижение цели                                                              \n",
       "0                             208     45                 4             332   \n",
       "1                               1      1                 0              13   \n",
       "All                           209     46                 4             345   \n",
       "\n",
       "Браузер          Яндекс.Браузер lite  Яндекс: мобильное приложение   All  \n",
       "Достижение цели                                                           \n",
       "0                                  5                            67  3062  \n",
       "1                                  0                             2    87  \n",
       "All                                5                            69  3149  \n",
       "\n",
       "[3 rows x 28 columns]"
      ]
     },
     "execution_count": 188,
     "metadata": {},
     "output_type": "execute_result"
    }
   ],
   "source": [
    "browser_tab = pd.crosstab(df['Достижение цели'], df['Браузер'], margins=True)\n",
    "browser_tab"
   ]
  },
  {
   "cell_type": "code",
   "execution_count": 183,
   "metadata": {},
   "outputs": [
    {
     "name": "stdout",
     "output_type": "stream",
     "text": [
      "Firefox Mobile: 33.33%\n",
      "Puffin: 20.0%\n",
      "Android Browser: 5.04%\n",
      "Opera Mobile: 4.0%\n",
      "Яндекс.Браузер: 3.7699999999999996%\n",
      "Opera: 3.51%\n",
      "Яндекс: мобильное приложение: 2.9000000000000004%\n",
      "Chrome Mobile: 2.86%\n",
      "Mobile Safari: 2.75%\n",
      "Google Chrome: 2.34%\n",
      "Firefox: 2.2399999999999998%\n",
      "UCWEB: 2.17%\n",
      "MIUI: 1.3%\n",
      "MSIE: 1.15%\n",
      "Samsung Internet: 0.48%\n",
      "Яндекс.Браузер lite: 0.0%\n"
     ]
    }
   ],
   "source": [
    "browser_dict = {}\n",
    "for br in list(browser_tab.columns.values):\n",
    "    conv = round(browser_tab[br][1]/browser_tab[br]['All'],4)*100\n",
    "    browser_dict[conv] = br\n",
    "    \n",
    "for conv in sorted(browser_dict.keys(), reverse=True):\n",
    "    if(browser_dict[conv] != 'All'):\n",
    "        print('{}: {}%'.format(browser_dict[conv], conv))    "
   ]
  },
  {
   "cell_type": "markdown",
   "metadata": {},
   "source": [
    "Пока что можно еще раз убедиться, что посетители, использующие мобильные технологии (особенно заметно на браузерах) более склонны к выполнению целевых действий. Это может говорить о том, что пользоваться сайтом с телефона немного удобнее, чем с десктопа и опять же, хотя непосредственно к конечной задаче это отношения не имеет, но **вывод крайне важный вцелом для работы над проектом - нужно тщательнее работать с сайтом.**"
   ]
  },
  {
   "cell_type": "markdown",
   "metadata": {},
   "source": [
    "### Возраст\n"
   ]
  },
  {
   "cell_type": "markdown",
   "metadata": {},
   "source": [
    "А теперь посмотрим на признак Возраст. И здесь нас ждёт много интересного. Ну во-первых, есть совсем \"плохие\" возраста. Например видно, что за 1,5 месяца ни один человек в возрасте 47 лет не оставил заявку на сайте. Но на самом деле трудно себе представить, что женщины в 47 лет внезапно осознают, что они никогда не закажут натяжные потолки на таких сайтах как наш. И скорее тут все-таки мало статистики. \n",
    "\n",
    "Во-вторых, в повседневной практике принято смотреть распределения целевого признака не по каждому значению возраста, а по некоторым диапазонам. То есть можно сделать новые признаки: диапазоны по 2,3,4 и 5 лет и посмотреть на результаты. И интерпретируемость у таких признаков горзадо лучше, потому что рекламные платформы позволяют настраивать в таргетингах как раз диапазоны возрастов. \n",
    "\n",
    "** Тоже запомним на будущее, что неплохо было бы проверить модель на новых признаках - диапазонах возрастов.**"
   ]
  },
  {
   "cell_type": "code",
   "execution_count": 127,
   "metadata": {},
   "outputs": [
    {
     "data": {
      "image/png": "[encoded data removed]",
      "text/plain": [
       "<matplotlib.figure.Figure at 0xcc27780>"
      ]
     },
     "metadata": {},
     "output_type": "display_data"
    }
   ],
   "source": [
    "rcParams['figure.figsize'] = 12, 10\n",
    "sns.countplot(x='Возраст', hue='Достижение цели', data=df);"
   ]
  },
  {
   "cell_type": "markdown",
   "metadata": {},
   "source": [
    "### Объявление"
   ]
  },
  {
   "cell_type": "markdown",
   "metadata": {},
   "source": [
    "Одним из важнейшних параметров рекламной кампании является рекламное объявление. Давайте посмотрим, как то или иное объявление влияет на целевой признак\n"
   ]
  },
  {
   "cell_type": "code",
   "execution_count": 128,
   "metadata": {},
   "outputs": [
    {
     "data": {
      "image/png": "[encoded data removed]",
      "text/plain": [
       "<matplotlib.figure.Figure at 0xcdde3c8>"
      ]
     },
     "metadata": {},
     "output_type": "display_data"
    }
   ],
   "source": [
    "rcParams['figure.figsize'] = 18, 15\n",
    "p = sns.countplot(x='Объявление', hue='Достижение цели', data=df);\n",
    "p.set_xticklabels(labels = df['Объявление'], rotation=90);"
   ]
  },
  {
   "cell_type": "markdown",
   "metadata": {},
   "source": [
    "Здесь у нас очень много \"мусора\". Во время тестирования кампаний было создано много объявлений, часть из них показывалась непродолжительное количество времени, потому что эти объявления имели плохие показатели кликабельности и из-за этого стоимость привлечения посетителей была неконкурентной. Их мы хорошо видим на графике. Также есть объявления, переходы с которых, при количестве до 50!, не привели к достижению ни одного целевого действия.\n",
    "Давайте ради интереса расчитаем конверсию сайта относительно каждого из объявлений! И сразу отсортируем результаты по убыванию конверсии\n"
   ]
  },
  {
   "cell_type": "code",
   "execution_count": 184,
   "metadata": {},
   "outputs": [
    {
     "name": "stdout",
     "output_type": "stream",
     "text": [
      "29071644: 8.7%\n",
      "29072096: 8.33%\n",
      "29071649: 7.140000000000001%\n",
      "29072170: 6.67%\n",
      "29108574: 5.75%\n",
      "28728134: 5.13%\n",
      "29108569: 5.0%\n",
      "29270212: 4.37%\n",
      "28728200: 4.17%\n",
      "28728194: 4.08%\n",
      "28728192: 3.37%\n",
      "29270203: 2.82%\n",
      "29100965: 2.7%\n",
      "29270215: 2.64%\n",
      "29270226: 1.5599999999999998%\n",
      "29108577: 1.4500000000000002%\n",
      "28728143: 1.41%\n",
      "29230703: 0.0%\n"
     ]
    }
   ],
   "source": [
    "ads_tab = pd.crosstab(df['Достижение цели'], df['Объявление'], margins=True)\n",
    "ads_dict ={}\n",
    "for ad in list(ads_tab.columns.values):\n",
    "    conv = round(ads_tab[ad][1]/ads_tab[ad]['All'],4)*100\n",
    "    ads_dict[conv] = ad\n",
    "    \n",
    "for conv in sorted(ads_dict.keys(), reverse=True):\n",
    "    if(ads_dict[conv] != 'All'):\n",
    "        print('{}: {}%'.format(ads_dict[conv], conv))        "
   ]
  },
  {
   "cell_type": "markdown",
   "metadata": {},
   "source": [
    "** Сразу выделяются объвяления, переходы по которым дали конверсию почти до 9%!!! И напротив уже видно, какие объявления показывают крайне низкую эффективность **"
   ]
  },
  {
   "cell_type": "markdown",
   "metadata": {},
   "source": [
    "#### Подведем итоги\n",
    "\n",
    "Так как у нас всего один числовой признак - возраст, то строить матрицу корелляций просто не с чем. Поэтому на перечисленном выше предварительный анализ данных можно считать оконченым.\n",
    "\n",
    "На самом деле такой первичный анализ взаимосвязи признаков и в частности зависимоти целевого признака от прочих - это базовая функциональность любой системы аналитики и ,как уже было сказано, фундаметальная задача специалиста по интернет-рекламе - как раз поиск весомых признаков с помощью систем аналитики. Мы же проделали ту же самую работу но уже с помощью Pandas"
   ]
  },
  {
   "cell_type": "markdown",
   "metadata": {},
   "source": [
    "### 4. Найденные зависимости"
   ]
  },
  {
   "cell_type": "markdown",
   "metadata": {},
   "source": [
    "Предварительный анализ показывает, что вцелом посетители с мобильных устройств в 1,5 чаще оставляют заявки на сайте! Если подробнее проанализировать операционные системы, с которых заходили пользователи и браузеры, то видно, что процент конверсии растёт еще сильнее для некоторых значений этих признаков:\n",
    "\n",
    "** Например каждый 20й пользователь Android Browser на смартфонах с Android оставляет заявку на сайте. **"
   ]
  },
  {
   "cell_type": "code",
   "execution_count": 218,
   "metadata": {},
   "outputs": [
    {
     "name": "stdout",
     "output_type": "stream",
     "text": [
      "Конверсия сайта: 5.3%\n"
     ]
    }
   ],
   "source": [
    "counts = df[(df['Мобильность'] == 1) & (df['Браузер'] == 'Android Browser')]['Достижение цели'].value_counts()\n",
    "print(\"Конверсия сайта: {}%\".format(round(counts[1]/counts[0], 3) * 100))\n"
   ]
  },
  {
   "cell_type": "markdown",
   "metadata": {},
   "source": [
    "Очень интересную картину можно получить посмотрев на возраст. Мы решили, что **неплохо было бы проверить модель на новых признаках - диапазонах возрастов**, которые мы получим во время предобработки данных\n",
    "\n",
    "Также сразу выделяются **объвяления, переходы по которым дали конверсию почти до 9%!!!** И напротив уже видно, какие объявления показывают крайне низкую эффективность\n",
    "\n",
    "Помимо параметров рекламной кампании удалось получить даже информацию о сайте!!!\n",
    "Мы выяснили, что высокая **Отказность - сигнал о том, что нужно лучше работать над сайтом!** Также как анализ ОС и Браузеров показал, что по видимому **пользоваться сайтом с телефона немного удобнее, чем с десктопа.** \n",
    "\n",
    "### Вцелом мы уже получили набор некоторых признаков, которые уже можно использовать для повышения эффективности рекламной кампании"
   ]
  },
  {
   "cell_type": "markdown",
   "metadata": {},
   "source": [
    "### 5. Выбор метрики"
   ]
  },
  {
   "cell_type": "markdown",
   "metadata": {
    "collapsed": true
   },
   "source": [
    "https://www.coursera.org/learn/supervised-learning/lecture/M97UX/niesbalansirovannyie-dannyie - как работать с несбалансированными выборками"
   ]
  },
  {
   "cell_type": "markdown",
   "metadata": {
    "collapsed": true
   },
   "source": [
    "https://github.com/blue-yonder/tsfresh"
   ]
  },
  {
   "cell_type": "markdown",
   "metadata": {},
   "source": [
    "По аналогии делать\n",
    "\n",
    "http://nbviewer.jupyter.org/github/Yorko/mlcourse_open/blob/master/jupyter_russian/projects_individual/project_jigsaw_petukhov_dmitrii.ipynb?flush_cache=true\n",
    "\n",
    "\n",
    "+ Прочитать про бустинг из 10 урока тетрадки - там прям хорошо про применение при дисбалансе классов и т.д."
   ]
  },
  {
   "cell_type": "code",
   "execution_count": null,
   "metadata": {
    "collapsed": true
   },
   "outputs": [],
   "source": []
  }
 ],
 "metadata": {
  "kernelspec": {
   "display_name": "Python 3",
   "language": "python",
   "name": "python3"
  },
  "language_info": {
   "codemirror_mode": {
    "name": "ipython",
    "version": 3
   },
   "file_extension": ".py",
   "mimetype": "text/x-python",
   "name": "python",
   "nbconvert_exporter": "python",
   "pygments_lexer": "ipython3",
   "version": "3.6.3"
  }
 },
 "nbformat": 4,
 "nbformat_minor": 2
}
