{
 "cells": [
  {
   "cell_type": "markdown",
   "metadata": {},
   "source": [
    "# Определение параметров, влияющих на выполнение интернет-пользователями целевого действия при просмотре сайта \n",
    "\n",
    "                        Автор материала: Максим Сапрыкин\n",
    "                        \n",
    "План статьи\n",
    "1. Введение и постановка задачи\n",
    "2. Описание набора данных и признаков    \n",
    "3. Первичный анализ данных (в том числе визуальный)\n",
    "4. Найденные зависимости\n",
    "5. Выбор метрики\n",
    "6. Выбор модели\n",
    "7. Предобработка данных\n",
    "8. Кросс-валидация и настройка гиперпараметров модели "
   ]
  },
  {
   "cell_type": "markdown",
   "metadata": {},
   "source": [
    "# 1. Введение и постановка задачи\n",
    "\n",
    "В течение последних двух десятилетий в мире и в частности в нашей стране гармонично развивались совершенно новые профессии, связанные с бурной информатизацией общества и распространением сети Интернет. В частности, появились специалисты, занимающиеся электронной комерцией, продажей и продвижением продуктов (товаров или услуг) в интернете - интернет-маркетологи (или иногда digital-маркетологи). \n",
    "\n",
    "В настоящее время для любого специалиста в области интернет-рекламы актуальна задача оптимизации своих рекламных кампании, ввиду постоянного роста конкуренции, а следовательно и стоимости рекламы. Такая задача обычно решается с помощью анализа статистической информации о посетителях интернет-площадки, на которой происходит как торговля продуктом (интернет-магазины), так и создание спроса на продукт и плавное подведение посетителя к его покупке (так называемые посадочные страницы - **[landing pages](https://ru.wikipedia.org/wiki/%D0%A6%D0%B5%D0%BB%D0%B5%D0%B2%D0%B0%D1%8F_%D1%81%D1%82%D1%80%D0%B0%D0%BD%D0%B8%D1%86%D0%B0)**)\n",
    "\n",
    "Статистика обычно собирается с помощью двух наиболее популярных систем аналитики - Яндекс.Метрика или Google.Analytics. Затем специалист по интернет-рекламе проводит анализ данной статистики с целью поиска закономерностей, позволяющих скорректировать параметры рекламных кампаний таким образом, чтобы повысить их эффективность.\n",
    "\n",
    "Вот пример из одного из моих реальных проектов:\n",
    "\n",
    "<center>\n",
    "<img src=\"img/1.jpg\">\n",
    "\n",
    "В данном случае в системе аналитики слева в столбце закодирована информация о таких настраиваемых параметрах рекламных кампаний, как формат банера, устройства для отображения, формат оплаты рекламы, дополнительные таргетинги интересов, возраст и пол посетителя. Такие комбинации параметров (а по сути на языке машинного обучения - это подпространства признаков) генерируются исключительно исходя из опыта того или иного специалиста. По приведенному выше скриншоту видно, что данный \"срез\" аналитики позволяет выявить различия в показателе качества рекламы ([конверсии](https://goo.gl/xwstfU)) в 4! раза для некоторых комбинаций параметров. Таким образом появляется возможность \"отключить\" неэффективные рекламыне кампании (комбинации параметров) и повысить общую эффективность рекламного проекта. \n",
    "\n",
    "Еще раз необходимо подчеркнуть, что эффективность анализа зависит только от профессионализма специалиста, способного подобрать весомые метрики и составить из них нужные комбинации.\n",
    "\n",
    "Целью данного исследования является прикладное использование машинного обучения для **получения от обученной модели некоторого количества топ-признаков с их весами, которые могут быть легко интерпретированны, как настраиваемые параметры рекламных кампаний, вносящие наибольший вклад в достижение целевого действия на посещаемом сайте**. Таким образом, появляется идея уменьшить зависимоть эффективности анализа от профессионализма человека и переложить эту задачу на \"плечи\" математической модели."
   ]
  },
  {
   "cell_type": "markdown",
   "metadata": {
    "collapsed": true
   },
   "source": [
    "# 2. Описание набора данных и признаков"
   ]
  },
  {
   "cell_type": "markdown",
   "metadata": {},
   "source": [
    "<center>\n",
    "<img src=\"img/2.jpg\">"
   ]
  },
  {
   "cell_type": "markdown",
   "metadata": {
    "collapsed": true
   },
   "source": [
    "Мы будем работать с одним из моих реальных проектов. Я сотрудничаю с компанией, которая занимается установкой натяжных потолков в Москве и области. В течение 1,5 месяцев в начале 2018 года мы плотно тестировали один из наших рекламных сайтов в системе таргетированной рекламы myTarget. Было получено около 3200 переходов на сайт и посетители отправили с сайта около 100 заявок на замер. На этом, хоть и небольшом, количестве данных будем пытаться получить приемлимые результаты.\n",
    "\n",
    "Сбор данных проводился с помощью описанной в предыдущем параграфе системы аналитики Яндекс.Метрика. Для этого в системе аналитики были построены отчеты и выгружены в формате xls. Каждая строка соответствует посещению сайта одним уникальным посестителем. По столбцам таблицы расположены аналитические метрики, в языке машинного обучения - это и есть признаки, которые мы будем использовать для обучения модели. \n",
    "\n",
    "Подробное описание решаемой задачи уже приведено во вступительной части статьи - в пункте 1. Давайте перейдем к описанию признаков.\n",
    "\n",
    "**Целевой признак** - выполнение определенного действия посетителем на сайте. В нашем конкретном случае это - ввод в форму на сайте номера телефона посетителя и нажатие кнопки \"Отправить\". Отсюда следует, что **целевой признак - бинарный, а значит решаться будет задача бинарной классификации**. Целевой признак в таблице назвается **Достижение цели**\n",
    "\n",
    "Теперь опишем признаки, на которых будет обучаться наша модель. Для начала ограничимся признаками, которые можно \"вытащить\" из системы аналитики. А уже потом будет генерировать свои \"мощные\" фичи:\n",
    "\n",
    "**Дата и время визита** - время начала сессии, из которого мы потом будем генерировать новые признаки\n",
    "\n",
    "**Возраст** - возраст посетителя сайта (пол мы не учитываем, потому что изначально реклама настраивалась только на женщин и все посетители за исключением некоторой погрешности - женщины)\n",
    "\n",
    "**Объявление** - номер рекламного объявления в системе myTarget\n",
    "\n",
    "**Сегмент** - заведомо мощный признак, полученный экспертной оценкой, по поторому можно хорошо классифицировать модель. Что это такое и влияние этого признака описано в п.1, он нам нужен, чтобы впринципе оценить всю затею. Если с данным признаком модель будет выдавать ерунду, то значит мы что-то явно делаем не так. В дальнейшем мы его уберём из датасета\n",
    "\n",
    "**Визиты** - сколько всего раз этот пользователь заходил на сайт в течение сессии\n",
    "\n",
    "**Поддержка сookies** - поддержка сookies устройством пользователя\n",
    "\n",
    "**Поддержка Java** - поддержка Java устройством пользователя\n",
    "\n",
    "**Поддержка JavaScript** - поддержка JavaScript устройством пользователя\n",
    "\n",
    "**Поддержка Flash** - поддержка Flash устройством пользователя\n",
    "\n",
    "**Поддержка Silverlight** - поддержка Silverlight устройством пользователя\n",
    "\n",
    "**Мобильность** - мобильное устройство или нет\n",
    "\n",
    "**Блокировка рекламы** - установлен ли блокировщик рекламы\n",
    "\n",
    "**Глубина просмотра** - кол-во страниц, просмотренных посетителем\n",
    "\n",
    "**Время на сайте** - время, которое посетитель провел на сайте\n",
    "\n",
    "**Отказность** - Отказ означает, что посетитель провел на сайте менее 15 секунд\n",
    "\n",
    "**Является ли визит первым визитом посетителя** -  название говорит само за себя\n",
    "\n",
    "**Визитов в истории** - сколько всего раз этот пользователь заходил на сайт за всю историю\n",
    "\n",
    "**Дней от первого визита** - сколько прошло дней от первого визита\n",
    "\n",
    "**Тип устройства** - какой тип у устройства пользователя\n",
    "\n",
    "**Группа операционных систем** - какая группа операционных систем\n",
    "\n",
    "**Операционная система (детально)** - какая именно операционная система у пользователя\n",
    "\n",
    "**Браузер** - какой именно браузер\n",
    "\n",
    "Как видно, часть признаков - бинарные, часть - категориальные, но всех их еще надо будет привести к подобающему виду.\n",
    "\n",
    "А пока загрузим все необходимые нам библиотеки и сформируем DataFrame из полученного файла и посмотрим на его структуру и наполнение"
   ]
  },
  {
   "cell_type": "code",
   "execution_count": 49,
   "metadata": {
    "collapsed": true
   },
   "outputs": [],
   "source": [
    "from pandas import pandas as pd\n",
    "import numpy as np\n",
    "from sklearn.model_selection import train_test_split\n",
    "from sklearn.model_selection import StratifiedKFold\n",
    "from sklearn.model_selection import cross_val_score\n",
    "from sklearn.linear_model import LogisticRegressionCV\n",
    "from sklearn.ensemble import RandomForestClassifier\n",
    "#from catboost import CatBoostClassifier\n",
    "from sklearn.preprocessing import StandardScaler\n",
    "\n",
    "from sklearn.metrics import roc_auc_score\n",
    "from sklearn.metrics import precision_score\n",
    "from sklearn.metrics import recall_score\n",
    "from sklearn.metrics import f1_score\n",
    "from sklearn.metrics import precision_recall_curve\n",
    "from sklearn.metrics import auc\n",
    "\n",
    "# игнорируем warnings\n",
    "import warnings\n",
    "warnings.filterwarnings(\"ignore\")\n",
    "\n",
    "import seaborn as sns\n",
    "\n",
    "import matplotlib\n",
    "import matplotlib.pyplot as plt\n",
    "import matplotlib.ticker\n",
    "%matplotlib inline\n",
    "\n",
    "# настройка внешнего вида графиков в seaborn\n",
    "sns.set_context(\n",
    "    \"notebook\", \n",
    "    font_scale = 1.5,       \n",
    "    rc = { \n",
    "        \"figure.figsize\" : (28, 15), \n",
    "        \"axes.titlesize\" : 18 \n",
    "    }\n",
    ")\n",
    "\n",
    "from pylab import rcParams\n",
    "rcParams['figure.figsize'] = 12, 10"
   ]
  },
  {
   "cell_type": "code",
   "execution_count": 82,
   "metadata": {
    "collapsed": true
   },
   "outputs": [],
   "source": [
    "df_technologies = pd.read_excel('data/Технологии.xlsx')\n",
    "df_utm = pd.read_excel('data/UTM-метки.xlsx')\n",
    "df_behaviour = pd.read_excel('data/Поведение.xlsx')\n",
    "df_audience = pd.read_excel('data/Аудитория.xlsx')"
   ]
  },
  {
   "cell_type": "code",
   "execution_count": 83,
   "metadata": {
    "collapsed": true
   },
   "outputs": [],
   "source": [
    "df_technologies.drop('date1', axis = 1, inplace=True);\n",
    "df_technologies.drop('date2', axis = 1, inplace=True);\n",
    "df_utm.drop('date1', axis = 1, inplace=True);\n",
    "df_utm.drop('date2', axis = 1, inplace=True);\n",
    "df_behaviour.drop('date1', axis = 1, inplace=True);\n",
    "df_behaviour.drop('date2', axis = 1, inplace=True);\n",
    "df_audience.drop('date1', axis = 1, inplace=True);\n",
    "df_audience.drop('date2', axis = 1, inplace=True);"
   ]
  },
  {
   "cell_type": "code",
   "execution_count": 84,
   "metadata": {},
   "outputs": [
    {
     "data": {
      "text/plain": [
       "((168625, 10), (181470, 8), (268322, 10), (172683, 10))"
      ]
     },
     "execution_count": 84,
     "metadata": {},
     "output_type": "execute_result"
    }
   ],
   "source": [
    "df_technologies.shape, df_utm.shape, df_behaviour.shape, df_audience.shape "
   ]
  },
  {
   "cell_type": "code",
   "execution_count": 85,
   "metadata": {
    "collapsed": true
   },
   "outputs": [],
   "source": [
    "df_1 = pd.merge(df_technologies, df_utm, on = ['Дата и время первого визита', 'Визиты', 'Целевые посетители'])\n",
    "df_2 = pd.merge(df_behaviour, df_audience, on = ['Дата и время первого визита', 'Визиты', 'Целевые посетители'])\n",
    "df = pd.merge(df_1, df_2, on = ['Дата и время первого визита', 'Визиты', 'Целевые посетители'])"
   ]
  },
  {
   "cell_type": "code",
   "execution_count": 86,
   "metadata": {},
   "outputs": [
    {
     "data": {
      "text/plain": [
       "(159088, 29)"
      ]
     },
     "execution_count": 86,
     "metadata": {},
     "output_type": "execute_result"
    }
   ],
   "source": [
    "df.shape"
   ]
  },
  {
   "cell_type": "markdown",
   "metadata": {},
   "source": [
    "Всего как мы видим 159088 строк и 29 признаков, влючая целевой"
   ]
  },
  {
   "cell_type": "code",
   "execution_count": 87,
   "metadata": {},
   "outputs": [
    {
     "name": "stdout",
     "output_type": "stream",
     "text": [
      "<class 'pandas.core.frame.DataFrame'>\n",
      "Int64Index: 159088 entries, 0 to 159087\n",
      "Data columns (total 29 columns):\n",
      "Дата и время первого визита                    159088 non-null object\n",
      "Тип устройства                                 159088 non-null object\n",
      "Группа операционных систем                     158695 non-null object\n",
      "Браузер                                        158707 non-null object\n",
      "Наличие Cookie                                 159088 non-null object\n",
      "Наличие Javascript                             159088 non-null object\n",
      "Ориентация экрана                              159088 non-null object\n",
      "Разрешение                                     158664 non-null object\n",
      "Визиты                                         159088 non-null object\n",
      "Целевые посетители                             159088 non-null object\n",
      "UTM Campaign                                   138996 non-null object\n",
      "UTM Content                                    54888 non-null object\n",
      "UTM Medium                                     123660 non-null object\n",
      "UTM Source                                     139732 non-null object\n",
      "UTM Term                                       15966 non-null object\n",
      "Страница входа                                 159088 non-null object\n",
      "Глубина просмотра                              159088 non-null object\n",
      "Время на сайте                                 159088 non-null object\n",
      "Является ли визит первым визитом посетителя    159088 non-null object\n",
      "Визитов в истории                              159088 non-null object\n",
      "Дней от первого визита                         159088 non-null object\n",
      "Время c предыдущего визита                     23151 non-null object\n",
      "Город                                          129957 non-null object\n",
      "Размер города                                  159088 non-null object\n",
      "Unnamed: 7                                     0 non-null float64\n",
      "Unnamed: 8                                     4 non-null object\n",
      "Unnamed: 9                                     4 non-null object\n",
      "Unnamed: 10                                    4 non-null object\n",
      "Unnamed: 11                                    4 non-null object\n",
      "dtypes: float64(1), object(28)\n",
      "memory usage: 36.4+ MB\n"
     ]
    }
   ],
   "source": [
    "df.info()"
   ]
  },
  {
   "cell_type": "markdown",
   "metadata": {},
   "source": [
    "Из описания датафрейма ниже видно, что есть пропуски в данных. Это обсуловленно тем, что не все посетители приходят с одного и того же рекламного канала, а значит, не все записи обладают одинаковом набором признаков. Предлагаю удалить из датасета мусор и заполнить пропуски нулями\n",
    "\n",
    "Также видно, что у нас достаточно много категориальных признаков, из которых мы сможем построить в перспективе еще несколько бинарных признаков с помощью OneHotEncoder"
   ]
  },
  {
   "cell_type": "code",
   "execution_count": 88,
   "metadata": {},
   "outputs": [],
   "source": [
    "df.drop('Unnamed: 7', axis = 1, inplace=True);\n",
    "df.drop('Unnamed: 8', axis = 1, inplace=True);\n",
    "df.drop('Unnamed: 9', axis = 1, inplace=True);\n",
    "df.drop('Unnamed: 10', axis = 1, inplace=True);\n",
    "df.drop('Unnamed: 11', axis = 1, inplace=True);"
   ]
  },
  {
   "cell_type": "code",
   "execution_count": 89,
   "metadata": {
    "collapsed": true
   },
   "outputs": [],
   "source": [
    "df = df.fillna(0);"
   ]
  },
  {
   "cell_type": "code",
   "execution_count": 90,
   "metadata": {},
   "outputs": [
    {
     "name": "stdout",
     "output_type": "stream",
     "text": [
      "<class 'pandas.core.frame.DataFrame'>\n",
      "Int64Index: 159088 entries, 0 to 159087\n",
      "Data columns (total 24 columns):\n",
      "Дата и время первого визита                    159088 non-null object\n",
      "Тип устройства                                 159088 non-null object\n",
      "Группа операционных систем                     159088 non-null object\n",
      "Браузер                                        159088 non-null object\n",
      "Наличие Cookie                                 159088 non-null object\n",
      "Наличие Javascript                             159088 non-null object\n",
      "Ориентация экрана                              159088 non-null object\n",
      "Разрешение                                     159088 non-null object\n",
      "Визиты                                         159088 non-null object\n",
      "Целевые посетители                             159088 non-null object\n",
      "UTM Campaign                                   159088 non-null object\n",
      "UTM Content                                    159088 non-null object\n",
      "UTM Medium                                     159088 non-null object\n",
      "UTM Source                                     159088 non-null object\n",
      "UTM Term                                       159088 non-null object\n",
      "Страница входа                                 159088 non-null object\n",
      "Глубина просмотра                              159088 non-null object\n",
      "Время на сайте                                 159088 non-null object\n",
      "Является ли визит первым визитом посетителя    159088 non-null object\n",
      "Визитов в истории                              159088 non-null object\n",
      "Дней от первого визита                         159088 non-null object\n",
      "Время c предыдущего визита                     159088 non-null object\n",
      "Город                                          159088 non-null object\n",
      "Размер города                                  159088 non-null object\n",
      "dtypes: object(24)\n",
      "memory usage: 30.3+ MB\n"
     ]
    }
   ],
   "source": [
    "df.info()"
   ]
  },
  {
   "cell_type": "markdown",
   "metadata": {},
   "source": [
    "Вот теперь у нас готовый для анализа датасет со 160 тысячами записей. Посмотрим, что полезного можно из него достать"
   ]
  },
  {
   "cell_type": "markdown",
   "metadata": {},
   "source": [
    "# 3. Первичный анализ данных (в том числе визуальный)\n"
   ]
  },
  {
   "cell_type": "markdown",
   "metadata": {},
   "source": [
    "### Целевой признак\n",
    "Начнём с изучения распределения целевого признака. Уже исходя из описания задачи понятно, что **выборка будет несбалансированная**. При этом как видно дисбаланс классов не очень сильный."
   ]
  },
  {
   "cell_type": "code",
   "execution_count": 91,
   "metadata": {},
   "outputs": [
    {
     "data": {
      "text/plain": [
       "0                     132125\n",
       "1                      26959\n",
       "Целевые посетители         4\n",
       "Name: Целевые посетители, dtype: int64"
      ]
     },
     "execution_count": 91,
     "metadata": {},
     "output_type": "execute_result"
    }
   ],
   "source": [
    "df['Целевые посетители'].value_counts()"
   ]
  },
  {
   "cell_type": "markdown",
   "metadata": {},
   "source": [
    "Также видим есть 4 мусорные строки, которые мы не заметили в предыдущем пункте. Это судя по всему заголовки таблиц, которые мы мерджили между собой"
   ]
  },
  {
   "cell_type": "code",
   "execution_count": 92,
   "metadata": {},
   "outputs": [
    {
     "data": {
      "text/html": [
       "<div>\n",
       "<style>\n",
       "    .dataframe thead tr:only-child th {\n",
       "        text-align: right;\n",
       "    }\n",
       "\n",
       "    .dataframe thead th {\n",
       "        text-align: left;\n",
       "    }\n",
       "\n",
       "    .dataframe tbody tr th {\n",
       "        vertical-align: top;\n",
       "    }\n",
       "</style>\n",
       "<table border=\"1\" class=\"dataframe\">\n",
       "  <thead>\n",
       "    <tr style=\"text-align: right;\">\n",
       "      <th></th>\n",
       "      <th>Дата и время первого визита</th>\n",
       "      <th>Тип устройства</th>\n",
       "      <th>Группа операционных систем</th>\n",
       "      <th>Браузер</th>\n",
       "      <th>Наличие Cookie</th>\n",
       "      <th>Наличие Javascript</th>\n",
       "      <th>Ориентация экрана</th>\n",
       "      <th>Разрешение</th>\n",
       "      <th>Визиты</th>\n",
       "      <th>Целевые посетители</th>\n",
       "      <th>...</th>\n",
       "      <th>UTM Term</th>\n",
       "      <th>Страница входа</th>\n",
       "      <th>Глубина просмотра</th>\n",
       "      <th>Время на сайте</th>\n",
       "      <th>Является ли визит первым визитом посетителя</th>\n",
       "      <th>Визитов в истории</th>\n",
       "      <th>Дней от первого визита</th>\n",
       "      <th>Время c предыдущего визита</th>\n",
       "      <th>Город</th>\n",
       "      <th>Размер города</th>\n",
       "    </tr>\n",
       "  </thead>\n",
       "  <tbody>\n",
       "    <tr>\n",
       "      <th>84062</th>\n",
       "      <td>Дата и время первого визита</td>\n",
       "      <td>Тип устройства</td>\n",
       "      <td>Группа операционных систем</td>\n",
       "      <td>Браузер</td>\n",
       "      <td>Наличие Cookie</td>\n",
       "      <td>Наличие Javascript</td>\n",
       "      <td>Ориентация экрана</td>\n",
       "      <td>Разрешение</td>\n",
       "      <td>Визиты</td>\n",
       "      <td>Целевые посетители</td>\n",
       "      <td>...</td>\n",
       "      <td>UTM Term</td>\n",
       "      <td>Страница входа</td>\n",
       "      <td>Глубина просмотра</td>\n",
       "      <td>Время на сайте</td>\n",
       "      <td>Является ли визит первым визитом посетителя</td>\n",
       "      <td>Визитов в истории</td>\n",
       "      <td>Дней от первого визита</td>\n",
       "      <td>Время c предыдущего визита</td>\n",
       "      <td>Город</td>\n",
       "      <td>Размер города</td>\n",
       "    </tr>\n",
       "    <tr>\n",
       "      <th>84063</th>\n",
       "      <td>Дата и время первого визита</td>\n",
       "      <td>Тип устройства</td>\n",
       "      <td>Группа операционных систем</td>\n",
       "      <td>Браузер</td>\n",
       "      <td>Наличие Cookie</td>\n",
       "      <td>Наличие Javascript</td>\n",
       "      <td>Ориентация экрана</td>\n",
       "      <td>Разрешение</td>\n",
       "      <td>Визиты</td>\n",
       "      <td>Целевые посетители</td>\n",
       "      <td>...</td>\n",
       "      <td>UTM Term</td>\n",
       "      <td>Страница входа</td>\n",
       "      <td>Глубина просмотра</td>\n",
       "      <td>Время на сайте</td>\n",
       "      <td>Является ли визит первым визитом посетителя</td>\n",
       "      <td>Визитов в истории</td>\n",
       "      <td>Дней от первого визита</td>\n",
       "      <td>Время c предыдущего визита</td>\n",
       "      <td>Город</td>\n",
       "      <td>Размер города</td>\n",
       "    </tr>\n",
       "    <tr>\n",
       "      <th>84064</th>\n",
       "      <td>Дата и время первого визита</td>\n",
       "      <td>Тип устройства</td>\n",
       "      <td>Группа операционных систем</td>\n",
       "      <td>Браузер</td>\n",
       "      <td>Наличие Cookie</td>\n",
       "      <td>Наличие Javascript</td>\n",
       "      <td>Ориентация экрана</td>\n",
       "      <td>Разрешение</td>\n",
       "      <td>Визиты</td>\n",
       "      <td>Целевые посетители</td>\n",
       "      <td>...</td>\n",
       "      <td>UTM Term</td>\n",
       "      <td>Страница входа</td>\n",
       "      <td>Глубина просмотра</td>\n",
       "      <td>Время на сайте</td>\n",
       "      <td>Является ли визит первым визитом посетителя</td>\n",
       "      <td>Визитов в истории</td>\n",
       "      <td>Дней от первого визита</td>\n",
       "      <td>Время c предыдущего визита</td>\n",
       "      <td>Город</td>\n",
       "      <td>Размер города</td>\n",
       "    </tr>\n",
       "    <tr>\n",
       "      <th>84065</th>\n",
       "      <td>Дата и время первого визита</td>\n",
       "      <td>Тип устройства</td>\n",
       "      <td>Группа операционных систем</td>\n",
       "      <td>Браузер</td>\n",
       "      <td>Наличие Cookie</td>\n",
       "      <td>Наличие Javascript</td>\n",
       "      <td>Ориентация экрана</td>\n",
       "      <td>Разрешение</td>\n",
       "      <td>Визиты</td>\n",
       "      <td>Целевые посетители</td>\n",
       "      <td>...</td>\n",
       "      <td>UTM Term</td>\n",
       "      <td>Страница входа</td>\n",
       "      <td>Глубина просмотра</td>\n",
       "      <td>Время на сайте</td>\n",
       "      <td>Является ли визит первым визитом посетителя</td>\n",
       "      <td>Визитов в истории</td>\n",
       "      <td>Дней от первого визита</td>\n",
       "      <td>Время c предыдущего визита</td>\n",
       "      <td>Город</td>\n",
       "      <td>Размер города</td>\n",
       "    </tr>\n",
       "  </tbody>\n",
       "</table>\n",
       "<p>4 rows × 24 columns</p>\n",
       "</div>"
      ],
      "text/plain": [
       "       Дата и время первого визита  Тип устройства  \\\n",
       "84062  Дата и время первого визита  Тип устройства   \n",
       "84063  Дата и время первого визита  Тип устройства   \n",
       "84064  Дата и время первого визита  Тип устройства   \n",
       "84065  Дата и время первого визита  Тип устройства   \n",
       "\n",
       "       Группа операционных систем  Браузер  Наличие Cookie  \\\n",
       "84062  Группа операционных систем  Браузер  Наличие Cookie   \n",
       "84063  Группа операционных систем  Браузер  Наличие Cookie   \n",
       "84064  Группа операционных систем  Браузер  Наличие Cookie   \n",
       "84065  Группа операционных систем  Браузер  Наличие Cookie   \n",
       "\n",
       "       Наличие Javascript  Ориентация экрана  Разрешение  Визиты  \\\n",
       "84062  Наличие Javascript  Ориентация экрана  Разрешение  Визиты   \n",
       "84063  Наличие Javascript  Ориентация экрана  Разрешение  Визиты   \n",
       "84064  Наличие Javascript  Ориентация экрана  Разрешение  Визиты   \n",
       "84065  Наличие Javascript  Ориентация экрана  Разрешение  Визиты   \n",
       "\n",
       "       Целевые посетители      ...        UTM Term  Страница входа  \\\n",
       "84062  Целевые посетители      ...        UTM Term  Страница входа   \n",
       "84063  Целевые посетители      ...        UTM Term  Страница входа   \n",
       "84064  Целевые посетители      ...        UTM Term  Страница входа   \n",
       "84065  Целевые посетители      ...        UTM Term  Страница входа   \n",
       "\n",
       "       Глубина просмотра  Время на сайте  \\\n",
       "84062  Глубина просмотра  Время на сайте   \n",
       "84063  Глубина просмотра  Время на сайте   \n",
       "84064  Глубина просмотра  Время на сайте   \n",
       "84065  Глубина просмотра  Время на сайте   \n",
       "\n",
       "       Является ли визит первым визитом посетителя  Визитов в истории  \\\n",
       "84062  Является ли визит первым визитом посетителя  Визитов в истории   \n",
       "84063  Является ли визит первым визитом посетителя  Визитов в истории   \n",
       "84064  Является ли визит первым визитом посетителя  Визитов в истории   \n",
       "84065  Является ли визит первым визитом посетителя  Визитов в истории   \n",
       "\n",
       "       Дней от первого визита  Время c предыдущего визита  Город  \\\n",
       "84062  Дней от первого визита  Время c предыдущего визита  Город   \n",
       "84063  Дней от первого визита  Время c предыдущего визита  Город   \n",
       "84064  Дней от первого визита  Время c предыдущего визита  Город   \n",
       "84065  Дней от первого визита  Время c предыдущего визита  Город   \n",
       "\n",
       "       Размер города  \n",
       "84062  Размер города  \n",
       "84063  Размер города  \n",
       "84064  Размер города  \n",
       "84065  Размер города  \n",
       "\n",
       "[4 rows x 24 columns]"
      ]
     },
     "execution_count": 92,
     "metadata": {},
     "output_type": "execute_result"
    }
   ],
   "source": [
    "df.loc[df['Целевые посетители'] == 'Целевые посетители']"
   ]
  },
  {
   "cell_type": "markdown",
   "metadata": {},
   "source": [
    "Да, так и есть. Удалим их."
   ]
  },
  {
   "cell_type": "code",
   "execution_count": 93,
   "metadata": {},
   "outputs": [
    {
     "data": {
      "text/plain": [
       "(159084, 24)"
      ]
     },
     "execution_count": 93,
     "metadata": {},
     "output_type": "execute_result"
    }
   ],
   "source": [
    "df.drop(df.loc[df['Целевые посетители'] == 'Целевые посетители'].index, inplace=True)\n",
    "df.shape"
   ]
  },
  {
   "cell_type": "code",
   "execution_count": 94,
   "metadata": {},
   "outputs": [
    {
     "data": {
      "text/plain": [
       "0    132125\n",
       "1     26959\n",
       "Name: Целевые посетители, dtype: int64"
      ]
     },
     "execution_count": 94,
     "metadata": {},
     "output_type": "execute_result"
    }
   ],
   "source": [
    "df['Целевые посетители'].value_counts()"
   ]
  },
  {
   "cell_type": "code",
   "execution_count": 95,
   "metadata": {},
   "outputs": [
    {
     "name": "stdout",
     "output_type": "stream",
     "text": [
      "Конверсия сайта: 20.4%\n"
     ]
    }
   ],
   "source": [
    "counts = df['Целевые посетители'].value_counts()\n",
    "print(\"Конверсия сайта: {}%\".format(round(counts[1]/counts[0], 3) * 100))"
   ]
  },
  {
   "cell_type": "code",
   "execution_count": 96,
   "metadata": {},
   "outputs": [
    {
     "data": {
      "image/png": "[encoded data removed]",
      "text/plain": [
       "<matplotlib.figure.Figure at 0x176192e8>"
      ]
     },
     "metadata": {},
     "output_type": "display_data"
    }
   ],
   "source": [
    "rcParams['figure.figsize'] = 12, 10\n",
    "counts.plot(kind='bar');\n",
    "plt.legend();\n",
    "plt.title('Распределение целевого признака');"
   ]
  },
  {
   "cell_type": "markdown",
   "metadata": {},
   "source": [
    "### Дата и время\n",
    "Один из важнейших признаков, анализируя который можно построить много новых признаков. Посмотрим, зависимость целевого признака от месяца, дня недели, времени суток"
   ]
  },
  {
   "cell_type": "code",
   "execution_count": 179,
   "metadata": {},
   "outputs": [],
   "source": [
    "#Данные для графиков\n",
    "df_target_for_pics = df[df['Целевые посетители']==1]\n",
    "df_target_for_pics['month']  = df_target_for_pics['Дата и время первого визита'].apply(lambda time: pd.Timestamp(time).month)\n",
    "df_target_for_pics['year']  = df_target_for_pics['Дата и время первого визита'].apply(lambda time: pd.Timestamp(time).year)\n",
    "df_target_for_pics['day_of_week']  = df_target_for_pics['Дата и время первого визита'].apply(lambda time: pd.Timestamp(time).dayofweek)\n",
    "df_target_for_pics['days_in_month']  = df_target_for_pics['Дата и время первого визита'].apply(lambda time: pd.Timestamp(time).days_in_month)\n",
    "df_target_for_pics['week']  = df_target_for_pics['Дата и время первого визита'].apply(lambda time: pd.Timestamp(time).week)\n",
    "df_target_for_pics['hour']  = df_target_for_pics['Дата и время первого визита'].apply(lambda time: pd.Timestamp(time).hour)\n",
    "\n",
    "df_target_for_pics['early_morning']  = df_target_for_pics['Дата и время первого визита'].apply(lambda time: 1 if (pd.Timestamp(time).hour >= 6) and (pd.Timestamp(time).hour <= 8) else 0)\n",
    "df_target_for_pics['morning']        = df_target_for_pics['Дата и время первого визита'].apply(lambda time: 1 if (pd.Timestamp(time).hour >= 9) and (pd.Timestamp(time).hour <= 11) else 0)\n",
    "df_target_for_pics['day']            = df_target_for_pics['Дата и время первого визита'].apply(lambda time: 1 if (pd.Timestamp(time).hour >= 12) and (pd.Timestamp(time).hour <= 18) else 0)\n",
    "df_target_for_pics['evening']        = df_target_for_pics['Дата и время первого визита'].apply(lambda time: 1 if (pd.Timestamp(time).hour >= 19) and (pd.Timestamp(time).hour <= 23) else 0)\n",
    "df_target_for_pics['night']          = df_target_for_pics['Дата и время первого визита'].apply(lambda time: 1 if (pd.Timestamp(time).hour >= 0) and (pd.Timestamp(time).hour <= 5) else 0)  "
   ]
  },
  {
   "cell_type": "code",
   "execution_count": 186,
   "metadata": {},
   "outputs": [
    {
     "data": {
      "image/png": "[encoded data removed]",
      "text/plain": [
       "<matplotlib.figure.Figure at 0x1ed38748>"
      ]
     },
     "metadata": {},
     "output_type": "display_data"
    }
   ],
   "source": [
    "res = df_target_for_pics[df_target_for_pics['year'] == 2018]['early_morning'].value_counts()\n",
    "res.sort_index(inplace=True)\n",
    "res.plot(kind='bar');"
   ]
  },
  {
   "cell_type": "code",
   "execution_count": 168,
   "metadata": {},
   "outputs": [
    {
     "data": {
      "image/png": "[encoded data removed]",
      "text/plain": [
       "<matplotlib.figure.Figure at 0x10a8fc88>"
      ]
     },
     "metadata": {},
     "output_type": "display_data"
    }
   ],
   "source": [
    "res = df_target_for_pics[df_target_for_pics['year'] == 2018]['hour'].value_counts()\n",
    "res.sort_index(inplace=True)\n",
    "res.plot(kind='bar');"
   ]
  },
  {
   "cell_type": "markdown",
   "metadata": {},
   "source": [
    "Вот тут сразу видно хороший признак - раннее утро. с 5 до 9 часов включительно проглядывается сильный провал по количеству целевых посетителей"
   ]
  },
  {
   "cell_type": "markdown",
   "metadata": {},
   "source": [
    "### Сегмент\n",
    "Посмотрим, как влияют раличные признаки на целевой. Начнём с заведомо \"мощного\" признака - сегмент. И, к счастью, ничего удивительно, кроме пяти сегментов почти без данных и четырёх с малым количеством данных - посмотрим потом, как модель будет реагировать на этот признак"
   ]
  },
  {
   "cell_type": "code",
   "execution_count": 118,
   "metadata": {},
   "outputs": [
    {
     "ename": "TypeError",
     "evalue": "'<' not supported between instances of 'str' and 'int'",
     "output_type": "error",
     "traceback": [
      "\u001b[1;31m---------------------------------------------------------------------------\u001b[0m",
      "\u001b[1;31mTypeError\u001b[0m                                 Traceback (most recent call last)",
      "\u001b[1;32m<ipython-input-118-f97d1fedb37b>\u001b[0m in \u001b[0;36m<module>\u001b[1;34m()\u001b[0m\n\u001b[1;32m----> 1\u001b[1;33m \u001b[0mpd\u001b[0m\u001b[1;33m.\u001b[0m\u001b[0mcrosstab\u001b[0m\u001b[1;33m(\u001b[0m\u001b[0mdf\u001b[0m\u001b[1;33m[\u001b[0m\u001b[1;34m'Целевые посетители'\u001b[0m\u001b[1;33m]\u001b[0m\u001b[1;33m,\u001b[0m \u001b[0mdf\u001b[0m\u001b[1;33m[\u001b[0m\u001b[1;34m'UTM Source'\u001b[0m\u001b[1;33m]\u001b[0m\u001b[1;33m,\u001b[0m \u001b[0mmargins\u001b[0m\u001b[1;33m=\u001b[0m\u001b[1;32mTrue\u001b[0m\u001b[1;33m)\u001b[0m\u001b[1;33m\u001b[0m\u001b[0m\n\u001b[0m",
      "\u001b[1;32mC:\\ProgramData\\Anaconda3\\lib\\site-packages\\pandas\\core\\reshape\\pivot.py\u001b[0m in \u001b[0;36mcrosstab\u001b[1;34m(index, columns, values, rownames, colnames, aggfunc, margins, dropna, normalize)\u001b[0m\n\u001b[0;32m    491\u001b[0m         \u001b[0mdf\u001b[0m\u001b[1;33m[\u001b[0m\u001b[1;34m'__dummy__'\u001b[0m\u001b[1;33m]\u001b[0m \u001b[1;33m=\u001b[0m \u001b[1;36m0\u001b[0m\u001b[1;33m\u001b[0m\u001b[0m\n\u001b[0;32m    492\u001b[0m         table = df.pivot_table('__dummy__', index=rownames, columns=colnames,\n\u001b[1;32m--> 493\u001b[1;33m                                aggfunc=len, margins=margins, dropna=dropna)\n\u001b[0m\u001b[0;32m    494\u001b[0m         \u001b[0mtable\u001b[0m \u001b[1;33m=\u001b[0m \u001b[0mtable\u001b[0m\u001b[1;33m.\u001b[0m\u001b[0mfillna\u001b[0m\u001b[1;33m(\u001b[0m\u001b[1;36m0\u001b[0m\u001b[1;33m)\u001b[0m\u001b[1;33m.\u001b[0m\u001b[0mastype\u001b[0m\u001b[1;33m(\u001b[0m\u001b[0mnp\u001b[0m\u001b[1;33m.\u001b[0m\u001b[0mint64\u001b[0m\u001b[1;33m)\u001b[0m\u001b[1;33m\u001b[0m\u001b[0m\n\u001b[0;32m    495\u001b[0m \u001b[1;33m\u001b[0m\u001b[0m\n",
      "\u001b[1;32mC:\\ProgramData\\Anaconda3\\lib\\site-packages\\pandas\\core\\reshape\\pivot.py\u001b[0m in \u001b[0;36mpivot_table\u001b[1;34m(data, values, index, columns, aggfunc, fill_value, margins, dropna, margins_name)\u001b[0m\n\u001b[0;32m    158\u001b[0m \u001b[1;33m\u001b[0m\u001b[0m\n\u001b[0;32m    159\u001b[0m     \u001b[1;32mif\u001b[0m \u001b[0misinstance\u001b[0m\u001b[1;33m(\u001b[0m\u001b[0mtable\u001b[0m\u001b[1;33m,\u001b[0m \u001b[0mDataFrame\u001b[0m\u001b[1;33m)\u001b[0m\u001b[1;33m:\u001b[0m\u001b[1;33m\u001b[0m\u001b[0m\n\u001b[1;32m--> 160\u001b[1;33m         \u001b[0mtable\u001b[0m \u001b[1;33m=\u001b[0m \u001b[0mtable\u001b[0m\u001b[1;33m.\u001b[0m\u001b[0msort_index\u001b[0m\u001b[1;33m(\u001b[0m\u001b[0maxis\u001b[0m\u001b[1;33m=\u001b[0m\u001b[1;36m1\u001b[0m\u001b[1;33m)\u001b[0m\u001b[1;33m\u001b[0m\u001b[0m\n\u001b[0m\u001b[0;32m    161\u001b[0m \u001b[1;33m\u001b[0m\u001b[0m\n\u001b[0;32m    162\u001b[0m     \u001b[1;32mif\u001b[0m \u001b[0mfill_value\u001b[0m \u001b[1;32mis\u001b[0m \u001b[1;32mnot\u001b[0m \u001b[1;32mNone\u001b[0m\u001b[1;33m:\u001b[0m\u001b[1;33m\u001b[0m\u001b[0m\n",
      "\u001b[1;32mC:\\ProgramData\\Anaconda3\\lib\\site-packages\\pandas\\core\\frame.py\u001b[0m in \u001b[0;36msort_index\u001b[1;34m(self, axis, level, ascending, inplace, kind, na_position, sort_remaining, by)\u001b[0m\n\u001b[0;32m   3241\u001b[0m             \u001b[1;31m# make sure that the axis is lexsorted to start\u001b[0m\u001b[1;33m\u001b[0m\u001b[1;33m\u001b[0m\u001b[0m\n\u001b[0;32m   3242\u001b[0m             \u001b[1;31m# if not we need to reconstruct to get the correct indexer\u001b[0m\u001b[1;33m\u001b[0m\u001b[1;33m\u001b[0m\u001b[0m\n\u001b[1;32m-> 3243\u001b[1;33m             \u001b[0mlabels\u001b[0m \u001b[1;33m=\u001b[0m \u001b[0mlabels\u001b[0m\u001b[1;33m.\u001b[0m\u001b[0m_sort_levels_monotonic\u001b[0m\u001b[1;33m(\u001b[0m\u001b[1;33m)\u001b[0m\u001b[1;33m\u001b[0m\u001b[0m\n\u001b[0m\u001b[0;32m   3244\u001b[0m             indexer = lexsort_indexer(labels._get_labels_for_sorting(),\n\u001b[0;32m   3245\u001b[0m                                       \u001b[0morders\u001b[0m\u001b[1;33m=\u001b[0m\u001b[0mascending\u001b[0m\u001b[1;33m,\u001b[0m\u001b[1;33m\u001b[0m\u001b[0m\n",
      "\u001b[1;32mC:\\ProgramData\\Anaconda3\\lib\\site-packages\\pandas\\core\\indexes\\multi.py\u001b[0m in \u001b[0;36m_sort_levels_monotonic\u001b[1;34m(self)\u001b[0m\n\u001b[0;32m   1239\u001b[0m \u001b[1;33m\u001b[0m\u001b[0m\n\u001b[0;32m   1240\u001b[0m             \u001b[1;31m# indexer to reorder the levels\u001b[0m\u001b[1;33m\u001b[0m\u001b[1;33m\u001b[0m\u001b[0m\n\u001b[1;32m-> 1241\u001b[1;33m             \u001b[0mindexer\u001b[0m \u001b[1;33m=\u001b[0m \u001b[0mlev\u001b[0m\u001b[1;33m.\u001b[0m\u001b[0margsort\u001b[0m\u001b[1;33m(\u001b[0m\u001b[1;33m)\u001b[0m\u001b[1;33m\u001b[0m\u001b[0m\n\u001b[0m\u001b[0;32m   1242\u001b[0m             \u001b[0mlev\u001b[0m \u001b[1;33m=\u001b[0m \u001b[0mlev\u001b[0m\u001b[1;33m.\u001b[0m\u001b[0mtake\u001b[0m\u001b[1;33m(\u001b[0m\u001b[0mindexer\u001b[0m\u001b[1;33m)\u001b[0m\u001b[1;33m\u001b[0m\u001b[0m\n\u001b[0;32m   1243\u001b[0m \u001b[1;33m\u001b[0m\u001b[0m\n",
      "\u001b[1;32mC:\\ProgramData\\Anaconda3\\lib\\site-packages\\pandas\\core\\indexes\\base.py\u001b[0m in \u001b[0;36margsort\u001b[1;34m(self, *args, **kwargs)\u001b[0m\n\u001b[0;32m   2089\u001b[0m         \u001b[1;32mif\u001b[0m \u001b[0mresult\u001b[0m \u001b[1;32mis\u001b[0m \u001b[1;32mNone\u001b[0m\u001b[1;33m:\u001b[0m\u001b[1;33m\u001b[0m\u001b[0m\n\u001b[0;32m   2090\u001b[0m             \u001b[0mresult\u001b[0m \u001b[1;33m=\u001b[0m \u001b[0mnp\u001b[0m\u001b[1;33m.\u001b[0m\u001b[0marray\u001b[0m\u001b[1;33m(\u001b[0m\u001b[0mself\u001b[0m\u001b[1;33m)\u001b[0m\u001b[1;33m\u001b[0m\u001b[0m\n\u001b[1;32m-> 2091\u001b[1;33m         \u001b[1;32mreturn\u001b[0m \u001b[0mresult\u001b[0m\u001b[1;33m.\u001b[0m\u001b[0margsort\u001b[0m\u001b[1;33m(\u001b[0m\u001b[1;33m*\u001b[0m\u001b[0margs\u001b[0m\u001b[1;33m,\u001b[0m \u001b[1;33m**\u001b[0m\u001b[0mkwargs\u001b[0m\u001b[1;33m)\u001b[0m\u001b[1;33m\u001b[0m\u001b[0m\n\u001b[0m\u001b[0;32m   2092\u001b[0m \u001b[1;33m\u001b[0m\u001b[0m\n\u001b[0;32m   2093\u001b[0m     \u001b[1;32mdef\u001b[0m \u001b[0m__add__\u001b[0m\u001b[1;33m(\u001b[0m\u001b[0mself\u001b[0m\u001b[1;33m,\u001b[0m \u001b[0mother\u001b[0m\u001b[1;33m)\u001b[0m\u001b[1;33m:\u001b[0m\u001b[1;33m\u001b[0m\u001b[0m\n",
      "\u001b[1;31mTypeError\u001b[0m: '<' not supported between instances of 'str' and 'int'"
     ]
    }
   ],
   "source": [
    "pd.crosstab(df['Целевые посетители'], df['UTM Source'], margins=True)"
   ]
  },
  {
   "cell_type": "code",
   "execution_count": 119,
   "metadata": {},
   "outputs": [
    {
     "ename": "KeyError",
     "evalue": "'Сегмент'",
     "output_type": "error",
     "traceback": [
      "\u001b[1;31m---------------------------------------------------------------------------\u001b[0m",
      "\u001b[1;31mKeyError\u001b[0m                                  Traceback (most recent call last)",
      "\u001b[1;32mC:\\ProgramData\\Anaconda3\\lib\\site-packages\\pandas\\core\\indexes\\base.py\u001b[0m in \u001b[0;36mget_loc\u001b[1;34m(self, key, method, tolerance)\u001b[0m\n\u001b[0;32m   2441\u001b[0m             \u001b[1;32mtry\u001b[0m\u001b[1;33m:\u001b[0m\u001b[1;33m\u001b[0m\u001b[0m\n\u001b[1;32m-> 2442\u001b[1;33m                 \u001b[1;32mreturn\u001b[0m \u001b[0mself\u001b[0m\u001b[1;33m.\u001b[0m\u001b[0m_engine\u001b[0m\u001b[1;33m.\u001b[0m\u001b[0mget_loc\u001b[0m\u001b[1;33m(\u001b[0m\u001b[0mkey\u001b[0m\u001b[1;33m)\u001b[0m\u001b[1;33m\u001b[0m\u001b[0m\n\u001b[0m\u001b[0;32m   2443\u001b[0m             \u001b[1;32mexcept\u001b[0m \u001b[0mKeyError\u001b[0m\u001b[1;33m:\u001b[0m\u001b[1;33m\u001b[0m\u001b[0m\n",
      "\u001b[1;32mpandas\\_libs\\index.pyx\u001b[0m in \u001b[0;36mpandas._libs.index.IndexEngine.get_loc\u001b[1;34m()\u001b[0m\n",
      "\u001b[1;32mpandas\\_libs\\index.pyx\u001b[0m in \u001b[0;36mpandas._libs.index.IndexEngine.get_loc\u001b[1;34m()\u001b[0m\n",
      "\u001b[1;32mpandas\\_libs\\hashtable_class_helper.pxi\u001b[0m in \u001b[0;36mpandas._libs.hashtable.PyObjectHashTable.get_item\u001b[1;34m()\u001b[0m\n",
      "\u001b[1;32mpandas\\_libs\\hashtable_class_helper.pxi\u001b[0m in \u001b[0;36mpandas._libs.hashtable.PyObjectHashTable.get_item\u001b[1;34m()\u001b[0m\n",
      "\u001b[1;31mKeyError\u001b[0m: 'Сегмент'",
      "\nDuring handling of the above exception, another exception occurred:\n",
      "\u001b[1;31mKeyError\u001b[0m                                  Traceback (most recent call last)",
      "\u001b[1;32m<ipython-input-119-d2b9ac7cbd61>\u001b[0m in \u001b[0;36m<module>\u001b[1;34m()\u001b[0m\n\u001b[0;32m      1\u001b[0m \u001b[0mrcParams\u001b[0m\u001b[1;33m[\u001b[0m\u001b[1;34m'figure.figsize'\u001b[0m\u001b[1;33m]\u001b[0m \u001b[1;33m=\u001b[0m \u001b[1;36m12\u001b[0m\u001b[1;33m,\u001b[0m \u001b[1;36m10\u001b[0m\u001b[1;33m\u001b[0m\u001b[0m\n\u001b[0;32m      2\u001b[0m \u001b[0mp\u001b[0m \u001b[1;33m=\u001b[0m \u001b[0msns\u001b[0m\u001b[1;33m.\u001b[0m\u001b[0mcountplot\u001b[0m\u001b[1;33m(\u001b[0m\u001b[0mx\u001b[0m\u001b[1;33m=\u001b[0m\u001b[1;34m'UTM Source'\u001b[0m\u001b[1;33m,\u001b[0m \u001b[0mhue\u001b[0m\u001b[1;33m=\u001b[0m\u001b[1;34m'Целевые посетители'\u001b[0m\u001b[1;33m,\u001b[0m \u001b[0mdata\u001b[0m\u001b[1;33m=\u001b[0m\u001b[0mdf\u001b[0m\u001b[1;33m)\u001b[0m\u001b[1;33m;\u001b[0m\u001b[1;33m\u001b[0m\u001b[0m\n\u001b[1;32m----> 3\u001b[1;33m \u001b[0mp\u001b[0m\u001b[1;33m.\u001b[0m\u001b[0mset_xticklabels\u001b[0m\u001b[1;33m(\u001b[0m\u001b[0mlabels\u001b[0m \u001b[1;33m=\u001b[0m \u001b[0mdf\u001b[0m\u001b[1;33m[\u001b[0m\u001b[1;34m'Сегмент'\u001b[0m\u001b[1;33m]\u001b[0m\u001b[1;33m,\u001b[0m \u001b[0mrotation\u001b[0m\u001b[1;33m=\u001b[0m\u001b[1;36m90\u001b[0m\u001b[1;33m)\u001b[0m\u001b[1;33m;\u001b[0m\u001b[1;33m\u001b[0m\u001b[0m\n\u001b[0m",
      "\u001b[1;32mC:\\ProgramData\\Anaconda3\\lib\\site-packages\\pandas\\core\\frame.py\u001b[0m in \u001b[0;36m__getitem__\u001b[1;34m(self, key)\u001b[0m\n\u001b[0;32m   1962\u001b[0m             \u001b[1;32mreturn\u001b[0m \u001b[0mself\u001b[0m\u001b[1;33m.\u001b[0m\u001b[0m_getitem_multilevel\u001b[0m\u001b[1;33m(\u001b[0m\u001b[0mkey\u001b[0m\u001b[1;33m)\u001b[0m\u001b[1;33m\u001b[0m\u001b[0m\n\u001b[0;32m   1963\u001b[0m         \u001b[1;32melse\u001b[0m\u001b[1;33m:\u001b[0m\u001b[1;33m\u001b[0m\u001b[0m\n\u001b[1;32m-> 1964\u001b[1;33m             \u001b[1;32mreturn\u001b[0m \u001b[0mself\u001b[0m\u001b[1;33m.\u001b[0m\u001b[0m_getitem_column\u001b[0m\u001b[1;33m(\u001b[0m\u001b[0mkey\u001b[0m\u001b[1;33m)\u001b[0m\u001b[1;33m\u001b[0m\u001b[0m\n\u001b[0m\u001b[0;32m   1965\u001b[0m \u001b[1;33m\u001b[0m\u001b[0m\n\u001b[0;32m   1966\u001b[0m     \u001b[1;32mdef\u001b[0m \u001b[0m_getitem_column\u001b[0m\u001b[1;33m(\u001b[0m\u001b[0mself\u001b[0m\u001b[1;33m,\u001b[0m \u001b[0mkey\u001b[0m\u001b[1;33m)\u001b[0m\u001b[1;33m:\u001b[0m\u001b[1;33m\u001b[0m\u001b[0m\n",
      "\u001b[1;32mC:\\ProgramData\\Anaconda3\\lib\\site-packages\\pandas\\core\\frame.py\u001b[0m in \u001b[0;36m_getitem_column\u001b[1;34m(self, key)\u001b[0m\n\u001b[0;32m   1969\u001b[0m         \u001b[1;31m# get column\u001b[0m\u001b[1;33m\u001b[0m\u001b[1;33m\u001b[0m\u001b[0m\n\u001b[0;32m   1970\u001b[0m         \u001b[1;32mif\u001b[0m \u001b[0mself\u001b[0m\u001b[1;33m.\u001b[0m\u001b[0mcolumns\u001b[0m\u001b[1;33m.\u001b[0m\u001b[0mis_unique\u001b[0m\u001b[1;33m:\u001b[0m\u001b[1;33m\u001b[0m\u001b[0m\n\u001b[1;32m-> 1971\u001b[1;33m             \u001b[1;32mreturn\u001b[0m \u001b[0mself\u001b[0m\u001b[1;33m.\u001b[0m\u001b[0m_get_item_cache\u001b[0m\u001b[1;33m(\u001b[0m\u001b[0mkey\u001b[0m\u001b[1;33m)\u001b[0m\u001b[1;33m\u001b[0m\u001b[0m\n\u001b[0m\u001b[0;32m   1972\u001b[0m \u001b[1;33m\u001b[0m\u001b[0m\n\u001b[0;32m   1973\u001b[0m         \u001b[1;31m# duplicate columns & possible reduce dimensionality\u001b[0m\u001b[1;33m\u001b[0m\u001b[1;33m\u001b[0m\u001b[0m\n",
      "\u001b[1;32mC:\\ProgramData\\Anaconda3\\lib\\site-packages\\pandas\\core\\generic.py\u001b[0m in \u001b[0;36m_get_item_cache\u001b[1;34m(self, item)\u001b[0m\n\u001b[0;32m   1643\u001b[0m         \u001b[0mres\u001b[0m \u001b[1;33m=\u001b[0m \u001b[0mcache\u001b[0m\u001b[1;33m.\u001b[0m\u001b[0mget\u001b[0m\u001b[1;33m(\u001b[0m\u001b[0mitem\u001b[0m\u001b[1;33m)\u001b[0m\u001b[1;33m\u001b[0m\u001b[0m\n\u001b[0;32m   1644\u001b[0m         \u001b[1;32mif\u001b[0m \u001b[0mres\u001b[0m \u001b[1;32mis\u001b[0m \u001b[1;32mNone\u001b[0m\u001b[1;33m:\u001b[0m\u001b[1;33m\u001b[0m\u001b[0m\n\u001b[1;32m-> 1645\u001b[1;33m             \u001b[0mvalues\u001b[0m \u001b[1;33m=\u001b[0m \u001b[0mself\u001b[0m\u001b[1;33m.\u001b[0m\u001b[0m_data\u001b[0m\u001b[1;33m.\u001b[0m\u001b[0mget\u001b[0m\u001b[1;33m(\u001b[0m\u001b[0mitem\u001b[0m\u001b[1;33m)\u001b[0m\u001b[1;33m\u001b[0m\u001b[0m\n\u001b[0m\u001b[0;32m   1646\u001b[0m             \u001b[0mres\u001b[0m \u001b[1;33m=\u001b[0m \u001b[0mself\u001b[0m\u001b[1;33m.\u001b[0m\u001b[0m_box_item_values\u001b[0m\u001b[1;33m(\u001b[0m\u001b[0mitem\u001b[0m\u001b[1;33m,\u001b[0m \u001b[0mvalues\u001b[0m\u001b[1;33m)\u001b[0m\u001b[1;33m\u001b[0m\u001b[0m\n\u001b[0;32m   1647\u001b[0m             \u001b[0mcache\u001b[0m\u001b[1;33m[\u001b[0m\u001b[0mitem\u001b[0m\u001b[1;33m]\u001b[0m \u001b[1;33m=\u001b[0m \u001b[0mres\u001b[0m\u001b[1;33m\u001b[0m\u001b[0m\n",
      "\u001b[1;32mC:\\ProgramData\\Anaconda3\\lib\\site-packages\\pandas\\core\\internals.py\u001b[0m in \u001b[0;36mget\u001b[1;34m(self, item, fastpath)\u001b[0m\n\u001b[0;32m   3588\u001b[0m \u001b[1;33m\u001b[0m\u001b[0m\n\u001b[0;32m   3589\u001b[0m             \u001b[1;32mif\u001b[0m \u001b[1;32mnot\u001b[0m \u001b[0misnull\u001b[0m\u001b[1;33m(\u001b[0m\u001b[0mitem\u001b[0m\u001b[1;33m)\u001b[0m\u001b[1;33m:\u001b[0m\u001b[1;33m\u001b[0m\u001b[0m\n\u001b[1;32m-> 3590\u001b[1;33m                 \u001b[0mloc\u001b[0m \u001b[1;33m=\u001b[0m \u001b[0mself\u001b[0m\u001b[1;33m.\u001b[0m\u001b[0mitems\u001b[0m\u001b[1;33m.\u001b[0m\u001b[0mget_loc\u001b[0m\u001b[1;33m(\u001b[0m\u001b[0mitem\u001b[0m\u001b[1;33m)\u001b[0m\u001b[1;33m\u001b[0m\u001b[0m\n\u001b[0m\u001b[0;32m   3591\u001b[0m             \u001b[1;32melse\u001b[0m\u001b[1;33m:\u001b[0m\u001b[1;33m\u001b[0m\u001b[0m\n\u001b[0;32m   3592\u001b[0m                 \u001b[0mindexer\u001b[0m \u001b[1;33m=\u001b[0m \u001b[0mnp\u001b[0m\u001b[1;33m.\u001b[0m\u001b[0marange\u001b[0m\u001b[1;33m(\u001b[0m\u001b[0mlen\u001b[0m\u001b[1;33m(\u001b[0m\u001b[0mself\u001b[0m\u001b[1;33m.\u001b[0m\u001b[0mitems\u001b[0m\u001b[1;33m)\u001b[0m\u001b[1;33m)\u001b[0m\u001b[1;33m[\u001b[0m\u001b[0misnull\u001b[0m\u001b[1;33m(\u001b[0m\u001b[0mself\u001b[0m\u001b[1;33m.\u001b[0m\u001b[0mitems\u001b[0m\u001b[1;33m)\u001b[0m\u001b[1;33m]\u001b[0m\u001b[1;33m\u001b[0m\u001b[0m\n",
      "\u001b[1;32mC:\\ProgramData\\Anaconda3\\lib\\site-packages\\pandas\\core\\indexes\\base.py\u001b[0m in \u001b[0;36mget_loc\u001b[1;34m(self, key, method, tolerance)\u001b[0m\n\u001b[0;32m   2442\u001b[0m                 \u001b[1;32mreturn\u001b[0m \u001b[0mself\u001b[0m\u001b[1;33m.\u001b[0m\u001b[0m_engine\u001b[0m\u001b[1;33m.\u001b[0m\u001b[0mget_loc\u001b[0m\u001b[1;33m(\u001b[0m\u001b[0mkey\u001b[0m\u001b[1;33m)\u001b[0m\u001b[1;33m\u001b[0m\u001b[0m\n\u001b[0;32m   2443\u001b[0m             \u001b[1;32mexcept\u001b[0m \u001b[0mKeyError\u001b[0m\u001b[1;33m:\u001b[0m\u001b[1;33m\u001b[0m\u001b[0m\n\u001b[1;32m-> 2444\u001b[1;33m                 \u001b[1;32mreturn\u001b[0m \u001b[0mself\u001b[0m\u001b[1;33m.\u001b[0m\u001b[0m_engine\u001b[0m\u001b[1;33m.\u001b[0m\u001b[0mget_loc\u001b[0m\u001b[1;33m(\u001b[0m\u001b[0mself\u001b[0m\u001b[1;33m.\u001b[0m\u001b[0m_maybe_cast_indexer\u001b[0m\u001b[1;33m(\u001b[0m\u001b[0mkey\u001b[0m\u001b[1;33m)\u001b[0m\u001b[1;33m)\u001b[0m\u001b[1;33m\u001b[0m\u001b[0m\n\u001b[0m\u001b[0;32m   2445\u001b[0m \u001b[1;33m\u001b[0m\u001b[0m\n\u001b[0;32m   2446\u001b[0m         \u001b[0mindexer\u001b[0m \u001b[1;33m=\u001b[0m \u001b[0mself\u001b[0m\u001b[1;33m.\u001b[0m\u001b[0mget_indexer\u001b[0m\u001b[1;33m(\u001b[0m\u001b[1;33m[\u001b[0m\u001b[0mkey\u001b[0m\u001b[1;33m]\u001b[0m\u001b[1;33m,\u001b[0m \u001b[0mmethod\u001b[0m\u001b[1;33m=\u001b[0m\u001b[0mmethod\u001b[0m\u001b[1;33m,\u001b[0m \u001b[0mtolerance\u001b[0m\u001b[1;33m=\u001b[0m\u001b[0mtolerance\u001b[0m\u001b[1;33m)\u001b[0m\u001b[1;33m\u001b[0m\u001b[0m\n",
      "\u001b[1;32mpandas\\_libs\\index.pyx\u001b[0m in \u001b[0;36mpandas._libs.index.IndexEngine.get_loc\u001b[1;34m()\u001b[0m\n",
      "\u001b[1;32mpandas\\_libs\\index.pyx\u001b[0m in \u001b[0;36mpandas._libs.index.IndexEngine.get_loc\u001b[1;34m()\u001b[0m\n",
      "\u001b[1;32mpandas\\_libs\\hashtable_class_helper.pxi\u001b[0m in \u001b[0;36mpandas._libs.hashtable.PyObjectHashTable.get_item\u001b[1;34m()\u001b[0m\n",
      "\u001b[1;32mpandas\\_libs\\hashtable_class_helper.pxi\u001b[0m in \u001b[0;36mpandas._libs.hashtable.PyObjectHashTable.get_item\u001b[1;34m()\u001b[0m\n",
      "\u001b[1;31mKeyError\u001b[0m: 'Сегмент'"
     ]
    },
    {
     "data": {
      "image/png": "[encoded data removed]",
      "text/plain": [
       "<matplotlib.figure.Figure at 0x16275c18>"
      ]
     },
     "metadata": {},
     "output_type": "display_data"
    }
   ],
   "source": [
    "rcParams['figure.figsize'] = 12, 10\n",
    "p = sns.countplot(x='UTM Source', hue='Целевые посетители', data=df);\n",
    "p.set_xticklabels(labels = df['Сегмент'], rotation=90);"
   ]
  },
  {
   "cell_type": "markdown",
   "metadata": {},
   "source": [
    "### Мобильность устройства\n",
    "Теперь посмотрим, как влияет мобильность устройства на целевой признак. А тут уже достаточно интересно. Мы видим 5 аномальных значений, которые делают бинарный признак по сути категориальным. По идее, устройство может быть либо мобильным, либо нет. А у нас в табилце появляется некое значение 0.5! OMG! Устройство Шрёдингера????!!! "
   ]
  },
  {
   "cell_type": "code",
   "execution_count": 120,
   "metadata": {},
   "outputs": [
    {
     "data": {
      "text/html": [
       "<div>\n",
       "<style>\n",
       "    .dataframe thead tr:only-child th {\n",
       "        text-align: right;\n",
       "    }\n",
       "\n",
       "    .dataframe thead th {\n",
       "        text-align: left;\n",
       "    }\n",
       "\n",
       "    .dataframe tbody tr th {\n",
       "        vertical-align: top;\n",
       "    }\n",
       "</style>\n",
       "<table border=\"1\" class=\"dataframe\">\n",
       "  <thead>\n",
       "    <tr style=\"text-align: right;\">\n",
       "      <th>Тип устройства</th>\n",
       "      <th>ПК</th>\n",
       "      <th>Планшеты</th>\n",
       "      <th>Смартфоны</th>\n",
       "      <th>ТВ</th>\n",
       "      <th>All</th>\n",
       "    </tr>\n",
       "    <tr>\n",
       "      <th>Целевые посетители</th>\n",
       "      <th></th>\n",
       "      <th></th>\n",
       "      <th></th>\n",
       "      <th></th>\n",
       "      <th></th>\n",
       "    </tr>\n",
       "  </thead>\n",
       "  <tbody>\n",
       "    <tr>\n",
       "      <th>0</th>\n",
       "      <td>21574</td>\n",
       "      <td>4052</td>\n",
       "      <td>106475</td>\n",
       "      <td>24</td>\n",
       "      <td>132125</td>\n",
       "    </tr>\n",
       "    <tr>\n",
       "      <th>1</th>\n",
       "      <td>1542</td>\n",
       "      <td>638</td>\n",
       "      <td>24779</td>\n",
       "      <td>0</td>\n",
       "      <td>26959</td>\n",
       "    </tr>\n",
       "    <tr>\n",
       "      <th>All</th>\n",
       "      <td>23116</td>\n",
       "      <td>4690</td>\n",
       "      <td>131254</td>\n",
       "      <td>24</td>\n",
       "      <td>159084</td>\n",
       "    </tr>\n",
       "  </tbody>\n",
       "</table>\n",
       "</div>"
      ],
      "text/plain": [
       "Тип устройства         ПК  Планшеты  Смартфоны  ТВ     All\n",
       "Целевые посетители                                        \n",
       "0                   21574      4052     106475  24  132125\n",
       "1                    1542       638      24779   0   26959\n",
       "All                 23116      4690     131254  24  159084"
      ]
     },
     "execution_count": 120,
     "metadata": {},
     "output_type": "execute_result"
    }
   ],
   "source": [
    "mob_tab = pd.crosstab(df['Целевые посетители'], df['Тип устройства'], margins=True)\n",
    "mob_tab"
   ]
  },
  {
   "cell_type": "code",
   "execution_count": 121,
   "metadata": {},
   "outputs": [
    {
     "ename": "KeyError",
     "evalue": "'Мобильность'",
     "output_type": "error",
     "traceback": [
      "\u001b[1;31m---------------------------------------------------------------------------\u001b[0m",
      "\u001b[1;31mKeyError\u001b[0m                                  Traceback (most recent call last)",
      "\u001b[1;32mC:\\ProgramData\\Anaconda3\\lib\\site-packages\\pandas\\core\\indexes\\base.py\u001b[0m in \u001b[0;36mget_loc\u001b[1;34m(self, key, method, tolerance)\u001b[0m\n\u001b[0;32m   2441\u001b[0m             \u001b[1;32mtry\u001b[0m\u001b[1;33m:\u001b[0m\u001b[1;33m\u001b[0m\u001b[0m\n\u001b[1;32m-> 2442\u001b[1;33m                 \u001b[1;32mreturn\u001b[0m \u001b[0mself\u001b[0m\u001b[1;33m.\u001b[0m\u001b[0m_engine\u001b[0m\u001b[1;33m.\u001b[0m\u001b[0mget_loc\u001b[0m\u001b[1;33m(\u001b[0m\u001b[0mkey\u001b[0m\u001b[1;33m)\u001b[0m\u001b[1;33m\u001b[0m\u001b[0m\n\u001b[0m\u001b[0;32m   2443\u001b[0m             \u001b[1;32mexcept\u001b[0m \u001b[0mKeyError\u001b[0m\u001b[1;33m:\u001b[0m\u001b[1;33m\u001b[0m\u001b[0m\n",
      "\u001b[1;32mpandas\\_libs\\index.pyx\u001b[0m in \u001b[0;36mpandas._libs.index.IndexEngine.get_loc\u001b[1;34m()\u001b[0m\n",
      "\u001b[1;32mpandas\\_libs\\index.pyx\u001b[0m in \u001b[0;36mpandas._libs.index.IndexEngine.get_loc\u001b[1;34m()\u001b[0m\n",
      "\u001b[1;32mpandas\\_libs\\hashtable_class_helper.pxi\u001b[0m in \u001b[0;36mpandas._libs.hashtable.PyObjectHashTable.get_item\u001b[1;34m()\u001b[0m\n",
      "\u001b[1;32mpandas\\_libs\\hashtable_class_helper.pxi\u001b[0m in \u001b[0;36mpandas._libs.hashtable.PyObjectHashTable.get_item\u001b[1;34m()\u001b[0m\n",
      "\u001b[1;31mKeyError\u001b[0m: 'Мобильность'",
      "\nDuring handling of the above exception, another exception occurred:\n",
      "\u001b[1;31mKeyError\u001b[0m                                  Traceback (most recent call last)",
      "\u001b[1;32m<ipython-input-121-410d5cf67765>\u001b[0m in \u001b[0;36m<module>\u001b[1;34m()\u001b[0m\n\u001b[1;32m----> 1\u001b[1;33m \u001b[0mdf\u001b[0m\u001b[1;33m[\u001b[0m\u001b[0mdf\u001b[0m\u001b[1;33m[\u001b[0m\u001b[1;34m'Мобильность'\u001b[0m\u001b[1;33m]\u001b[0m \u001b[1;33m==\u001b[0m \u001b[1;36m1\u001b[0m\u001b[1;33m]\u001b[0m\u001b[1;33m\u001b[0m\u001b[0m\n\u001b[0m",
      "\u001b[1;32mC:\\ProgramData\\Anaconda3\\lib\\site-packages\\pandas\\core\\frame.py\u001b[0m in \u001b[0;36m__getitem__\u001b[1;34m(self, key)\u001b[0m\n\u001b[0;32m   1962\u001b[0m             \u001b[1;32mreturn\u001b[0m \u001b[0mself\u001b[0m\u001b[1;33m.\u001b[0m\u001b[0m_getitem_multilevel\u001b[0m\u001b[1;33m(\u001b[0m\u001b[0mkey\u001b[0m\u001b[1;33m)\u001b[0m\u001b[1;33m\u001b[0m\u001b[0m\n\u001b[0;32m   1963\u001b[0m         \u001b[1;32melse\u001b[0m\u001b[1;33m:\u001b[0m\u001b[1;33m\u001b[0m\u001b[0m\n\u001b[1;32m-> 1964\u001b[1;33m             \u001b[1;32mreturn\u001b[0m \u001b[0mself\u001b[0m\u001b[1;33m.\u001b[0m\u001b[0m_getitem_column\u001b[0m\u001b[1;33m(\u001b[0m\u001b[0mkey\u001b[0m\u001b[1;33m)\u001b[0m\u001b[1;33m\u001b[0m\u001b[0m\n\u001b[0m\u001b[0;32m   1965\u001b[0m \u001b[1;33m\u001b[0m\u001b[0m\n\u001b[0;32m   1966\u001b[0m     \u001b[1;32mdef\u001b[0m \u001b[0m_getitem_column\u001b[0m\u001b[1;33m(\u001b[0m\u001b[0mself\u001b[0m\u001b[1;33m,\u001b[0m \u001b[0mkey\u001b[0m\u001b[1;33m)\u001b[0m\u001b[1;33m:\u001b[0m\u001b[1;33m\u001b[0m\u001b[0m\n",
      "\u001b[1;32mC:\\ProgramData\\Anaconda3\\lib\\site-packages\\pandas\\core\\frame.py\u001b[0m in \u001b[0;36m_getitem_column\u001b[1;34m(self, key)\u001b[0m\n\u001b[0;32m   1969\u001b[0m         \u001b[1;31m# get column\u001b[0m\u001b[1;33m\u001b[0m\u001b[1;33m\u001b[0m\u001b[0m\n\u001b[0;32m   1970\u001b[0m         \u001b[1;32mif\u001b[0m \u001b[0mself\u001b[0m\u001b[1;33m.\u001b[0m\u001b[0mcolumns\u001b[0m\u001b[1;33m.\u001b[0m\u001b[0mis_unique\u001b[0m\u001b[1;33m:\u001b[0m\u001b[1;33m\u001b[0m\u001b[0m\n\u001b[1;32m-> 1971\u001b[1;33m             \u001b[1;32mreturn\u001b[0m \u001b[0mself\u001b[0m\u001b[1;33m.\u001b[0m\u001b[0m_get_item_cache\u001b[0m\u001b[1;33m(\u001b[0m\u001b[0mkey\u001b[0m\u001b[1;33m)\u001b[0m\u001b[1;33m\u001b[0m\u001b[0m\n\u001b[0m\u001b[0;32m   1972\u001b[0m \u001b[1;33m\u001b[0m\u001b[0m\n\u001b[0;32m   1973\u001b[0m         \u001b[1;31m# duplicate columns & possible reduce dimensionality\u001b[0m\u001b[1;33m\u001b[0m\u001b[1;33m\u001b[0m\u001b[0m\n",
      "\u001b[1;32mC:\\ProgramData\\Anaconda3\\lib\\site-packages\\pandas\\core\\generic.py\u001b[0m in \u001b[0;36m_get_item_cache\u001b[1;34m(self, item)\u001b[0m\n\u001b[0;32m   1643\u001b[0m         \u001b[0mres\u001b[0m \u001b[1;33m=\u001b[0m \u001b[0mcache\u001b[0m\u001b[1;33m.\u001b[0m\u001b[0mget\u001b[0m\u001b[1;33m(\u001b[0m\u001b[0mitem\u001b[0m\u001b[1;33m)\u001b[0m\u001b[1;33m\u001b[0m\u001b[0m\n\u001b[0;32m   1644\u001b[0m         \u001b[1;32mif\u001b[0m \u001b[0mres\u001b[0m \u001b[1;32mis\u001b[0m \u001b[1;32mNone\u001b[0m\u001b[1;33m:\u001b[0m\u001b[1;33m\u001b[0m\u001b[0m\n\u001b[1;32m-> 1645\u001b[1;33m             \u001b[0mvalues\u001b[0m \u001b[1;33m=\u001b[0m \u001b[0mself\u001b[0m\u001b[1;33m.\u001b[0m\u001b[0m_data\u001b[0m\u001b[1;33m.\u001b[0m\u001b[0mget\u001b[0m\u001b[1;33m(\u001b[0m\u001b[0mitem\u001b[0m\u001b[1;33m)\u001b[0m\u001b[1;33m\u001b[0m\u001b[0m\n\u001b[0m\u001b[0;32m   1646\u001b[0m             \u001b[0mres\u001b[0m \u001b[1;33m=\u001b[0m \u001b[0mself\u001b[0m\u001b[1;33m.\u001b[0m\u001b[0m_box_item_values\u001b[0m\u001b[1;33m(\u001b[0m\u001b[0mitem\u001b[0m\u001b[1;33m,\u001b[0m \u001b[0mvalues\u001b[0m\u001b[1;33m)\u001b[0m\u001b[1;33m\u001b[0m\u001b[0m\n\u001b[0;32m   1647\u001b[0m             \u001b[0mcache\u001b[0m\u001b[1;33m[\u001b[0m\u001b[0mitem\u001b[0m\u001b[1;33m]\u001b[0m \u001b[1;33m=\u001b[0m \u001b[0mres\u001b[0m\u001b[1;33m\u001b[0m\u001b[0m\n",
      "\u001b[1;32mC:\\ProgramData\\Anaconda3\\lib\\site-packages\\pandas\\core\\internals.py\u001b[0m in \u001b[0;36mget\u001b[1;34m(self, item, fastpath)\u001b[0m\n\u001b[0;32m   3588\u001b[0m \u001b[1;33m\u001b[0m\u001b[0m\n\u001b[0;32m   3589\u001b[0m             \u001b[1;32mif\u001b[0m \u001b[1;32mnot\u001b[0m \u001b[0misnull\u001b[0m\u001b[1;33m(\u001b[0m\u001b[0mitem\u001b[0m\u001b[1;33m)\u001b[0m\u001b[1;33m:\u001b[0m\u001b[1;33m\u001b[0m\u001b[0m\n\u001b[1;32m-> 3590\u001b[1;33m                 \u001b[0mloc\u001b[0m \u001b[1;33m=\u001b[0m \u001b[0mself\u001b[0m\u001b[1;33m.\u001b[0m\u001b[0mitems\u001b[0m\u001b[1;33m.\u001b[0m\u001b[0mget_loc\u001b[0m\u001b[1;33m(\u001b[0m\u001b[0mitem\u001b[0m\u001b[1;33m)\u001b[0m\u001b[1;33m\u001b[0m\u001b[0m\n\u001b[0m\u001b[0;32m   3591\u001b[0m             \u001b[1;32melse\u001b[0m\u001b[1;33m:\u001b[0m\u001b[1;33m\u001b[0m\u001b[0m\n\u001b[0;32m   3592\u001b[0m                 \u001b[0mindexer\u001b[0m \u001b[1;33m=\u001b[0m \u001b[0mnp\u001b[0m\u001b[1;33m.\u001b[0m\u001b[0marange\u001b[0m\u001b[1;33m(\u001b[0m\u001b[0mlen\u001b[0m\u001b[1;33m(\u001b[0m\u001b[0mself\u001b[0m\u001b[1;33m.\u001b[0m\u001b[0mitems\u001b[0m\u001b[1;33m)\u001b[0m\u001b[1;33m)\u001b[0m\u001b[1;33m[\u001b[0m\u001b[0misnull\u001b[0m\u001b[1;33m(\u001b[0m\u001b[0mself\u001b[0m\u001b[1;33m.\u001b[0m\u001b[0mitems\u001b[0m\u001b[1;33m)\u001b[0m\u001b[1;33m]\u001b[0m\u001b[1;33m\u001b[0m\u001b[0m\n",
      "\u001b[1;32mC:\\ProgramData\\Anaconda3\\lib\\site-packages\\pandas\\core\\indexes\\base.py\u001b[0m in \u001b[0;36mget_loc\u001b[1;34m(self, key, method, tolerance)\u001b[0m\n\u001b[0;32m   2442\u001b[0m                 \u001b[1;32mreturn\u001b[0m \u001b[0mself\u001b[0m\u001b[1;33m.\u001b[0m\u001b[0m_engine\u001b[0m\u001b[1;33m.\u001b[0m\u001b[0mget_loc\u001b[0m\u001b[1;33m(\u001b[0m\u001b[0mkey\u001b[0m\u001b[1;33m)\u001b[0m\u001b[1;33m\u001b[0m\u001b[0m\n\u001b[0;32m   2443\u001b[0m             \u001b[1;32mexcept\u001b[0m \u001b[0mKeyError\u001b[0m\u001b[1;33m:\u001b[0m\u001b[1;33m\u001b[0m\u001b[0m\n\u001b[1;32m-> 2444\u001b[1;33m                 \u001b[1;32mreturn\u001b[0m \u001b[0mself\u001b[0m\u001b[1;33m.\u001b[0m\u001b[0m_engine\u001b[0m\u001b[1;33m.\u001b[0m\u001b[0mget_loc\u001b[0m\u001b[1;33m(\u001b[0m\u001b[0mself\u001b[0m\u001b[1;33m.\u001b[0m\u001b[0m_maybe_cast_indexer\u001b[0m\u001b[1;33m(\u001b[0m\u001b[0mkey\u001b[0m\u001b[1;33m)\u001b[0m\u001b[1;33m)\u001b[0m\u001b[1;33m\u001b[0m\u001b[0m\n\u001b[0m\u001b[0;32m   2445\u001b[0m \u001b[1;33m\u001b[0m\u001b[0m\n\u001b[0;32m   2446\u001b[0m         \u001b[0mindexer\u001b[0m \u001b[1;33m=\u001b[0m \u001b[0mself\u001b[0m\u001b[1;33m.\u001b[0m\u001b[0mget_indexer\u001b[0m\u001b[1;33m(\u001b[0m\u001b[1;33m[\u001b[0m\u001b[0mkey\u001b[0m\u001b[1;33m]\u001b[0m\u001b[1;33m,\u001b[0m \u001b[0mmethod\u001b[0m\u001b[1;33m=\u001b[0m\u001b[0mmethod\u001b[0m\u001b[1;33m,\u001b[0m \u001b[0mtolerance\u001b[0m\u001b[1;33m=\u001b[0m\u001b[0mtolerance\u001b[0m\u001b[1;33m)\u001b[0m\u001b[1;33m\u001b[0m\u001b[0m\n",
      "\u001b[1;32mpandas\\_libs\\index.pyx\u001b[0m in \u001b[0;36mpandas._libs.index.IndexEngine.get_loc\u001b[1;34m()\u001b[0m\n",
      "\u001b[1;32mpandas\\_libs\\index.pyx\u001b[0m in \u001b[0;36mpandas._libs.index.IndexEngine.get_loc\u001b[1;34m()\u001b[0m\n",
      "\u001b[1;32mpandas\\_libs\\hashtable_class_helper.pxi\u001b[0m in \u001b[0;36mpandas._libs.hashtable.PyObjectHashTable.get_item\u001b[1;34m()\u001b[0m\n",
      "\u001b[1;32mpandas\\_libs\\hashtable_class_helper.pxi\u001b[0m in \u001b[0;36mpandas._libs.hashtable.PyObjectHashTable.get_item\u001b[1;34m()\u001b[0m\n",
      "\u001b[1;31mKeyError\u001b[0m: 'Мобильность'"
     ]
    }
   ],
   "source": [
    "df[df['Мобильность'] == 1]"
   ]
  },
  {
   "cell_type": "markdown",
   "metadata": {},
   "source": [
    "Ну тут уже все становится понятно. Обратим внимание на столбец Визиты. В рамках одной сесссии, посетитель захоил с разных устройств. Одно было мобильным, а другое десктопом. Отсюда и возникает путаница. "
   ]
  },
  {
   "cell_type": "markdown",
   "metadata": {},
   "source": [
    "По идее, было бы круто, если бы объекты со значением признака мобильности 0.5 имели принадлежность к искомому классу целевого признака. Тогда бы мы действительно стали использовать этот признак как весомый категориальный. Но нет. А вот напротив, мы видим, что как бинарный признак, он очень хорошо нам подходит.  Давайте посмотрим на конверсию сайта отдельно для мобильных и не мобильных устройств"
   ]
  },
  {
   "cell_type": "code",
   "execution_count": 17,
   "metadata": {},
   "outputs": [
    {
     "name": "stdout",
     "output_type": "stream",
     "text": [
      "немобильное устройство: 2.08%\n",
      "мобильное устройство: 3.0300000000000002%\n"
     ]
    }
   ],
   "source": [
    "conv_desctop = round(mob_tab[0][1]/mob_tab[0]['All'],4)*100\n",
    "conv_mob = round(mob_tab[1][1]/mob_tab[1]['All'],4)*100\n",
    "\n",
    "print('немобильное устройство: {}%\\nмобильное устройство: {}%'.format(conv_desctop, conv_mob))"
   ]
  },
  {
   "cell_type": "markdown",
   "metadata": {},
   "source": [
    "** Посетители с мобильных устройств в 1,5 чаще оставляют заявки на сайте! Запомним это. **"
   ]
  },
  {
   "cell_type": "markdown",
   "metadata": {},
   "source": [
    "### Тип устройства"
   ]
  },
  {
   "cell_type": "markdown",
   "metadata": {},
   "source": [
    "А что если посмотреть еще подробнее - не просто мобильные и не мобильные, а детальнее: ПК, Планшеты и Смартфоны. "
   ]
  },
  {
   "cell_type": "code",
   "execution_count": 18,
   "metadata": {},
   "outputs": [
    {
     "data": {
      "text/html": [
       "<div>\n",
       "<style>\n",
       "    .dataframe thead tr:only-child th {\n",
       "        text-align: right;\n",
       "    }\n",
       "\n",
       "    .dataframe thead th {\n",
       "        text-align: left;\n",
       "    }\n",
       "\n",
       "    .dataframe tbody tr th {\n",
       "        vertical-align: top;\n",
       "    }\n",
       "</style>\n",
       "<table border=\"1\" class=\"dataframe\">\n",
       "  <thead>\n",
       "    <tr style=\"text-align: right;\">\n",
       "      <th>Тип устройства</th>\n",
       "      <th>ПК</th>\n",
       "      <th>Планшеты</th>\n",
       "      <th>Смартфоны</th>\n",
       "      <th>All</th>\n",
       "    </tr>\n",
       "    <tr>\n",
       "      <th>Достижение цели</th>\n",
       "      <th></th>\n",
       "      <th></th>\n",
       "      <th></th>\n",
       "      <th></th>\n",
       "    </tr>\n",
       "  </thead>\n",
       "  <tbody>\n",
       "    <tr>\n",
       "      <th>0</th>\n",
       "      <td>854</td>\n",
       "      <td>282</td>\n",
       "      <td>1926</td>\n",
       "      <td>3062</td>\n",
       "    </tr>\n",
       "    <tr>\n",
       "      <th>1</th>\n",
       "      <td>18</td>\n",
       "      <td>8</td>\n",
       "      <td>61</td>\n",
       "      <td>87</td>\n",
       "    </tr>\n",
       "    <tr>\n",
       "      <th>All</th>\n",
       "      <td>872</td>\n",
       "      <td>290</td>\n",
       "      <td>1987</td>\n",
       "      <td>3149</td>\n",
       "    </tr>\n",
       "  </tbody>\n",
       "</table>\n",
       "</div>"
      ],
      "text/plain": [
       "Тип устройства    ПК  Планшеты  Смартфоны   All\n",
       "Достижение цели                                \n",
       "0                854       282       1926  3062\n",
       "1                 18         8         61    87\n",
       "All              872       290       1987  3149"
      ]
     },
     "execution_count": 18,
     "metadata": {},
     "output_type": "execute_result"
    }
   ],
   "source": [
    "tab = pd.crosstab(df['Достижение цели'], df['Тип устройства'], margins=True)\n",
    "tab"
   ]
  },
  {
   "cell_type": "code",
   "execution_count": 19,
   "metadata": {},
   "outputs": [
    {
     "name": "stdout",
     "output_type": "stream",
     "text": [
      "ПК: 2.06%\n",
      "Планшет: 2.76%\n",
      "Смартфон: 3.0700000000000003%\n"
     ]
    }
   ],
   "source": [
    "conv_pk = round(tab['ПК'][1]/tab['ПК']['All'],4)*100\n",
    "conv_tablet = round(tab['Планшеты'][1]/tab['Планшеты']['All'],4)*100\n",
    "conv_phone = round(tab['Смартфоны'][1]/tab['Смартфоны']['All'],4)*100\n",
    "\n",
    "print('ПК: {}%\\nПланшет: {}%\\nСмартфон: {}%'.format(conv_pk, conv_tablet, conv_phone))"
   ]
  },
  {
   "cell_type": "markdown",
   "metadata": {},
   "source": [
    "Видим, что посетители со смартфонов немного качественнее в смысле достижения целей. Это тоже важно, хотя вцелом конверсия не сильно повысилась"
   ]
  },
  {
   "cell_type": "markdown",
   "metadata": {},
   "source": [
    "### Отказность"
   ]
  },
  {
   "cell_type": "code",
   "execution_count": 187,
   "metadata": {},
   "outputs": [
    {
     "ename": "KeyError",
     "evalue": "'Отказность'",
     "output_type": "error",
     "traceback": [
      "\u001b[1;31m---------------------------------------------------------------------------\u001b[0m",
      "\u001b[1;31mKeyError\u001b[0m                                  Traceback (most recent call last)",
      "\u001b[1;32mC:\\ProgramData\\Anaconda3\\lib\\site-packages\\pandas\\core\\indexes\\base.py\u001b[0m in \u001b[0;36mget_loc\u001b[1;34m(self, key, method, tolerance)\u001b[0m\n\u001b[0;32m   2441\u001b[0m             \u001b[1;32mtry\u001b[0m\u001b[1;33m:\u001b[0m\u001b[1;33m\u001b[0m\u001b[0m\n\u001b[1;32m-> 2442\u001b[1;33m                 \u001b[1;32mreturn\u001b[0m \u001b[0mself\u001b[0m\u001b[1;33m.\u001b[0m\u001b[0m_engine\u001b[0m\u001b[1;33m.\u001b[0m\u001b[0mget_loc\u001b[0m\u001b[1;33m(\u001b[0m\u001b[0mkey\u001b[0m\u001b[1;33m)\u001b[0m\u001b[1;33m\u001b[0m\u001b[0m\n\u001b[0m\u001b[0;32m   2443\u001b[0m             \u001b[1;32mexcept\u001b[0m \u001b[0mKeyError\u001b[0m\u001b[1;33m:\u001b[0m\u001b[1;33m\u001b[0m\u001b[0m\n",
      "\u001b[1;32mpandas\\_libs\\index.pyx\u001b[0m in \u001b[0;36mpandas._libs.index.IndexEngine.get_loc\u001b[1;34m()\u001b[0m\n",
      "\u001b[1;32mpandas\\_libs\\index.pyx\u001b[0m in \u001b[0;36mpandas._libs.index.IndexEngine.get_loc\u001b[1;34m()\u001b[0m\n",
      "\u001b[1;32mpandas\\_libs\\hashtable_class_helper.pxi\u001b[0m in \u001b[0;36mpandas._libs.hashtable.PyObjectHashTable.get_item\u001b[1;34m()\u001b[0m\n",
      "\u001b[1;32mpandas\\_libs\\hashtable_class_helper.pxi\u001b[0m in \u001b[0;36mpandas._libs.hashtable.PyObjectHashTable.get_item\u001b[1;34m()\u001b[0m\n",
      "\u001b[1;31mKeyError\u001b[0m: 'Отказность'",
      "\nDuring handling of the above exception, another exception occurred:\n",
      "\u001b[1;31mKeyError\u001b[0m                                  Traceback (most recent call last)",
      "\u001b[1;32m<ipython-input-187-2ea03e109c61>\u001b[0m in \u001b[0;36m<module>\u001b[1;34m()\u001b[0m\n\u001b[1;32m----> 1\u001b[1;33m \u001b[0mtab\u001b[0m \u001b[1;33m=\u001b[0m \u001b[0mpd\u001b[0m\u001b[1;33m.\u001b[0m\u001b[0mcrosstab\u001b[0m\u001b[1;33m(\u001b[0m\u001b[0mdf\u001b[0m\u001b[1;33m[\u001b[0m\u001b[1;34m'Целевые посетители'\u001b[0m\u001b[1;33m]\u001b[0m\u001b[1;33m,\u001b[0m \u001b[0mdf\u001b[0m\u001b[1;33m[\u001b[0m\u001b[1;34m'Отказность'\u001b[0m\u001b[1;33m]\u001b[0m\u001b[1;33m,\u001b[0m \u001b[0mmargins\u001b[0m\u001b[1;33m=\u001b[0m\u001b[1;32mTrue\u001b[0m\u001b[1;33m)\u001b[0m\u001b[1;33m\u001b[0m\u001b[0m\n\u001b[0m\u001b[0;32m      2\u001b[0m \u001b[0mtab\u001b[0m\u001b[1;33m\u001b[0m\u001b[0m\n",
      "\u001b[1;32mC:\\ProgramData\\Anaconda3\\lib\\site-packages\\pandas\\core\\frame.py\u001b[0m in \u001b[0;36m__getitem__\u001b[1;34m(self, key)\u001b[0m\n\u001b[0;32m   1962\u001b[0m             \u001b[1;32mreturn\u001b[0m \u001b[0mself\u001b[0m\u001b[1;33m.\u001b[0m\u001b[0m_getitem_multilevel\u001b[0m\u001b[1;33m(\u001b[0m\u001b[0mkey\u001b[0m\u001b[1;33m)\u001b[0m\u001b[1;33m\u001b[0m\u001b[0m\n\u001b[0;32m   1963\u001b[0m         \u001b[1;32melse\u001b[0m\u001b[1;33m:\u001b[0m\u001b[1;33m\u001b[0m\u001b[0m\n\u001b[1;32m-> 1964\u001b[1;33m             \u001b[1;32mreturn\u001b[0m \u001b[0mself\u001b[0m\u001b[1;33m.\u001b[0m\u001b[0m_getitem_column\u001b[0m\u001b[1;33m(\u001b[0m\u001b[0mkey\u001b[0m\u001b[1;33m)\u001b[0m\u001b[1;33m\u001b[0m\u001b[0m\n\u001b[0m\u001b[0;32m   1965\u001b[0m \u001b[1;33m\u001b[0m\u001b[0m\n\u001b[0;32m   1966\u001b[0m     \u001b[1;32mdef\u001b[0m \u001b[0m_getitem_column\u001b[0m\u001b[1;33m(\u001b[0m\u001b[0mself\u001b[0m\u001b[1;33m,\u001b[0m \u001b[0mkey\u001b[0m\u001b[1;33m)\u001b[0m\u001b[1;33m:\u001b[0m\u001b[1;33m\u001b[0m\u001b[0m\n",
      "\u001b[1;32mC:\\ProgramData\\Anaconda3\\lib\\site-packages\\pandas\\core\\frame.py\u001b[0m in \u001b[0;36m_getitem_column\u001b[1;34m(self, key)\u001b[0m\n\u001b[0;32m   1969\u001b[0m         \u001b[1;31m# get column\u001b[0m\u001b[1;33m\u001b[0m\u001b[1;33m\u001b[0m\u001b[0m\n\u001b[0;32m   1970\u001b[0m         \u001b[1;32mif\u001b[0m \u001b[0mself\u001b[0m\u001b[1;33m.\u001b[0m\u001b[0mcolumns\u001b[0m\u001b[1;33m.\u001b[0m\u001b[0mis_unique\u001b[0m\u001b[1;33m:\u001b[0m\u001b[1;33m\u001b[0m\u001b[0m\n\u001b[1;32m-> 1971\u001b[1;33m             \u001b[1;32mreturn\u001b[0m \u001b[0mself\u001b[0m\u001b[1;33m.\u001b[0m\u001b[0m_get_item_cache\u001b[0m\u001b[1;33m(\u001b[0m\u001b[0mkey\u001b[0m\u001b[1;33m)\u001b[0m\u001b[1;33m\u001b[0m\u001b[0m\n\u001b[0m\u001b[0;32m   1972\u001b[0m \u001b[1;33m\u001b[0m\u001b[0m\n\u001b[0;32m   1973\u001b[0m         \u001b[1;31m# duplicate columns & possible reduce dimensionality\u001b[0m\u001b[1;33m\u001b[0m\u001b[1;33m\u001b[0m\u001b[0m\n",
      "\u001b[1;32mC:\\ProgramData\\Anaconda3\\lib\\site-packages\\pandas\\core\\generic.py\u001b[0m in \u001b[0;36m_get_item_cache\u001b[1;34m(self, item)\u001b[0m\n\u001b[0;32m   1643\u001b[0m         \u001b[0mres\u001b[0m \u001b[1;33m=\u001b[0m \u001b[0mcache\u001b[0m\u001b[1;33m.\u001b[0m\u001b[0mget\u001b[0m\u001b[1;33m(\u001b[0m\u001b[0mitem\u001b[0m\u001b[1;33m)\u001b[0m\u001b[1;33m\u001b[0m\u001b[0m\n\u001b[0;32m   1644\u001b[0m         \u001b[1;32mif\u001b[0m \u001b[0mres\u001b[0m \u001b[1;32mis\u001b[0m \u001b[1;32mNone\u001b[0m\u001b[1;33m:\u001b[0m\u001b[1;33m\u001b[0m\u001b[0m\n\u001b[1;32m-> 1645\u001b[1;33m             \u001b[0mvalues\u001b[0m \u001b[1;33m=\u001b[0m \u001b[0mself\u001b[0m\u001b[1;33m.\u001b[0m\u001b[0m_data\u001b[0m\u001b[1;33m.\u001b[0m\u001b[0mget\u001b[0m\u001b[1;33m(\u001b[0m\u001b[0mitem\u001b[0m\u001b[1;33m)\u001b[0m\u001b[1;33m\u001b[0m\u001b[0m\n\u001b[0m\u001b[0;32m   1646\u001b[0m             \u001b[0mres\u001b[0m \u001b[1;33m=\u001b[0m \u001b[0mself\u001b[0m\u001b[1;33m.\u001b[0m\u001b[0m_box_item_values\u001b[0m\u001b[1;33m(\u001b[0m\u001b[0mitem\u001b[0m\u001b[1;33m,\u001b[0m \u001b[0mvalues\u001b[0m\u001b[1;33m)\u001b[0m\u001b[1;33m\u001b[0m\u001b[0m\n\u001b[0;32m   1647\u001b[0m             \u001b[0mcache\u001b[0m\u001b[1;33m[\u001b[0m\u001b[0mitem\u001b[0m\u001b[1;33m]\u001b[0m \u001b[1;33m=\u001b[0m \u001b[0mres\u001b[0m\u001b[1;33m\u001b[0m\u001b[0m\n",
      "\u001b[1;32mC:\\ProgramData\\Anaconda3\\lib\\site-packages\\pandas\\core\\internals.py\u001b[0m in \u001b[0;36mget\u001b[1;34m(self, item, fastpath)\u001b[0m\n\u001b[0;32m   3588\u001b[0m \u001b[1;33m\u001b[0m\u001b[0m\n\u001b[0;32m   3589\u001b[0m             \u001b[1;32mif\u001b[0m \u001b[1;32mnot\u001b[0m \u001b[0misnull\u001b[0m\u001b[1;33m(\u001b[0m\u001b[0mitem\u001b[0m\u001b[1;33m)\u001b[0m\u001b[1;33m:\u001b[0m\u001b[1;33m\u001b[0m\u001b[0m\n\u001b[1;32m-> 3590\u001b[1;33m                 \u001b[0mloc\u001b[0m \u001b[1;33m=\u001b[0m \u001b[0mself\u001b[0m\u001b[1;33m.\u001b[0m\u001b[0mitems\u001b[0m\u001b[1;33m.\u001b[0m\u001b[0mget_loc\u001b[0m\u001b[1;33m(\u001b[0m\u001b[0mitem\u001b[0m\u001b[1;33m)\u001b[0m\u001b[1;33m\u001b[0m\u001b[0m\n\u001b[0m\u001b[0;32m   3591\u001b[0m             \u001b[1;32melse\u001b[0m\u001b[1;33m:\u001b[0m\u001b[1;33m\u001b[0m\u001b[0m\n\u001b[0;32m   3592\u001b[0m                 \u001b[0mindexer\u001b[0m \u001b[1;33m=\u001b[0m \u001b[0mnp\u001b[0m\u001b[1;33m.\u001b[0m\u001b[0marange\u001b[0m\u001b[1;33m(\u001b[0m\u001b[0mlen\u001b[0m\u001b[1;33m(\u001b[0m\u001b[0mself\u001b[0m\u001b[1;33m.\u001b[0m\u001b[0mitems\u001b[0m\u001b[1;33m)\u001b[0m\u001b[1;33m)\u001b[0m\u001b[1;33m[\u001b[0m\u001b[0misnull\u001b[0m\u001b[1;33m(\u001b[0m\u001b[0mself\u001b[0m\u001b[1;33m.\u001b[0m\u001b[0mitems\u001b[0m\u001b[1;33m)\u001b[0m\u001b[1;33m]\u001b[0m\u001b[1;33m\u001b[0m\u001b[0m\n",
      "\u001b[1;32mC:\\ProgramData\\Anaconda3\\lib\\site-packages\\pandas\\core\\indexes\\base.py\u001b[0m in \u001b[0;36mget_loc\u001b[1;34m(self, key, method, tolerance)\u001b[0m\n\u001b[0;32m   2442\u001b[0m                 \u001b[1;32mreturn\u001b[0m \u001b[0mself\u001b[0m\u001b[1;33m.\u001b[0m\u001b[0m_engine\u001b[0m\u001b[1;33m.\u001b[0m\u001b[0mget_loc\u001b[0m\u001b[1;33m(\u001b[0m\u001b[0mkey\u001b[0m\u001b[1;33m)\u001b[0m\u001b[1;33m\u001b[0m\u001b[0m\n\u001b[0;32m   2443\u001b[0m             \u001b[1;32mexcept\u001b[0m \u001b[0mKeyError\u001b[0m\u001b[1;33m:\u001b[0m\u001b[1;33m\u001b[0m\u001b[0m\n\u001b[1;32m-> 2444\u001b[1;33m                 \u001b[1;32mreturn\u001b[0m \u001b[0mself\u001b[0m\u001b[1;33m.\u001b[0m\u001b[0m_engine\u001b[0m\u001b[1;33m.\u001b[0m\u001b[0mget_loc\u001b[0m\u001b[1;33m(\u001b[0m\u001b[0mself\u001b[0m\u001b[1;33m.\u001b[0m\u001b[0m_maybe_cast_indexer\u001b[0m\u001b[1;33m(\u001b[0m\u001b[0mkey\u001b[0m\u001b[1;33m)\u001b[0m\u001b[1;33m)\u001b[0m\u001b[1;33m\u001b[0m\u001b[0m\n\u001b[0m\u001b[0;32m   2445\u001b[0m \u001b[1;33m\u001b[0m\u001b[0m\n\u001b[0;32m   2446\u001b[0m         \u001b[0mindexer\u001b[0m \u001b[1;33m=\u001b[0m \u001b[0mself\u001b[0m\u001b[1;33m.\u001b[0m\u001b[0mget_indexer\u001b[0m\u001b[1;33m(\u001b[0m\u001b[1;33m[\u001b[0m\u001b[0mkey\u001b[0m\u001b[1;33m]\u001b[0m\u001b[1;33m,\u001b[0m \u001b[0mmethod\u001b[0m\u001b[1;33m=\u001b[0m\u001b[0mmethod\u001b[0m\u001b[1;33m,\u001b[0m \u001b[0mtolerance\u001b[0m\u001b[1;33m=\u001b[0m\u001b[0mtolerance\u001b[0m\u001b[1;33m)\u001b[0m\u001b[1;33m\u001b[0m\u001b[0m\n",
      "\u001b[1;32mpandas\\_libs\\index.pyx\u001b[0m in \u001b[0;36mpandas._libs.index.IndexEngine.get_loc\u001b[1;34m()\u001b[0m\n",
      "\u001b[1;32mpandas\\_libs\\index.pyx\u001b[0m in \u001b[0;36mpandas._libs.index.IndexEngine.get_loc\u001b[1;34m()\u001b[0m\n",
      "\u001b[1;32mpandas\\_libs\\hashtable_class_helper.pxi\u001b[0m in \u001b[0;36mpandas._libs.hashtable.PyObjectHashTable.get_item\u001b[1;34m()\u001b[0m\n",
      "\u001b[1;32mpandas\\_libs\\hashtable_class_helper.pxi\u001b[0m in \u001b[0;36mpandas._libs.hashtable.PyObjectHashTable.get_item\u001b[1;34m()\u001b[0m\n",
      "\u001b[1;31mKeyError\u001b[0m: 'Отказность'"
     ]
    }
   ],
   "source": [
    "tab = pd.crosstab(df['Целевые посетители'], df['Отказность'], margins=True)\n",
    "tab"
   ]
  },
  {
   "cell_type": "markdown",
   "metadata": {},
   "source": [
    "Вообще говоря, это очевиднейшая вещь - логично предположить, что посетители, которые провели на сайте менее 15 секунд просто не успеют изучить сайт и принять решение о том, чтобы выполнить на сайте какое-то действие. Но тут нам важны цифры. Оказывается мы просто теряем четверть посетителей. из 3000 человек около 750 просто закрыли сайт сразу. Это очень важный показатель качества самой страницы и **это сигнал о том, что нужно работать над сайтом! Но это никак не настраиваемый параметр рекламной кампании, при этом заведомо сильный признак, поэтому его надо удалить из датасета**"
   ]
  },
  {
   "cell_type": "markdown",
   "metadata": {},
   "source": [
    "### Глубина просмотра."
   ]
  },
  {
   "cell_type": "code",
   "execution_count": 189,
   "metadata": {},
   "outputs": [
    {
     "ename": "TypeError",
     "evalue": "'<' not supported between instances of 'datetime.datetime' and 'int'",
     "output_type": "error",
     "traceback": [
      "\u001b[1;31m---------------------------------------------------------------------------\u001b[0m",
      "\u001b[1;31mTypeError\u001b[0m                                 Traceback (most recent call last)",
      "\u001b[1;32m<ipython-input-189-9664da663388>\u001b[0m in \u001b[0;36m<module>\u001b[1;34m()\u001b[0m\n\u001b[1;32m----> 1\u001b[1;33m \u001b[0mdeep_view_tab\u001b[0m \u001b[1;33m=\u001b[0m \u001b[0mpd\u001b[0m\u001b[1;33m.\u001b[0m\u001b[0mcrosstab\u001b[0m\u001b[1;33m(\u001b[0m\u001b[0mdf\u001b[0m\u001b[1;33m[\u001b[0m\u001b[1;34m'Целевые посетители'\u001b[0m\u001b[1;33m]\u001b[0m\u001b[1;33m,\u001b[0m \u001b[0mdf\u001b[0m\u001b[1;33m[\u001b[0m\u001b[1;34m'Глубина просмотра'\u001b[0m\u001b[1;33m]\u001b[0m\u001b[1;33m,\u001b[0m \u001b[0mmargins\u001b[0m\u001b[1;33m=\u001b[0m\u001b[1;32mTrue\u001b[0m\u001b[1;33m)\u001b[0m\u001b[1;33m\u001b[0m\u001b[0m\n\u001b[0m\u001b[0;32m      2\u001b[0m \u001b[0mdeep_view_tab\u001b[0m\u001b[1;33m\u001b[0m\u001b[0m\n",
      "\u001b[1;32mC:\\ProgramData\\Anaconda3\\lib\\site-packages\\pandas\\core\\reshape\\pivot.py\u001b[0m in \u001b[0;36mcrosstab\u001b[1;34m(index, columns, values, rownames, colnames, aggfunc, margins, dropna, normalize)\u001b[0m\n\u001b[0;32m    491\u001b[0m         \u001b[0mdf\u001b[0m\u001b[1;33m[\u001b[0m\u001b[1;34m'__dummy__'\u001b[0m\u001b[1;33m]\u001b[0m \u001b[1;33m=\u001b[0m \u001b[1;36m0\u001b[0m\u001b[1;33m\u001b[0m\u001b[0m\n\u001b[0;32m    492\u001b[0m         table = df.pivot_table('__dummy__', index=rownames, columns=colnames,\n\u001b[1;32m--> 493\u001b[1;33m                                aggfunc=len, margins=margins, dropna=dropna)\n\u001b[0m\u001b[0;32m    494\u001b[0m         \u001b[0mtable\u001b[0m \u001b[1;33m=\u001b[0m \u001b[0mtable\u001b[0m\u001b[1;33m.\u001b[0m\u001b[0mfillna\u001b[0m\u001b[1;33m(\u001b[0m\u001b[1;36m0\u001b[0m\u001b[1;33m)\u001b[0m\u001b[1;33m.\u001b[0m\u001b[0mastype\u001b[0m\u001b[1;33m(\u001b[0m\u001b[0mnp\u001b[0m\u001b[1;33m.\u001b[0m\u001b[0mint64\u001b[0m\u001b[1;33m)\u001b[0m\u001b[1;33m\u001b[0m\u001b[0m\n\u001b[0;32m    495\u001b[0m \u001b[1;33m\u001b[0m\u001b[0m\n",
      "\u001b[1;32mC:\\ProgramData\\Anaconda3\\lib\\site-packages\\pandas\\core\\reshape\\pivot.py\u001b[0m in \u001b[0;36mpivot_table\u001b[1;34m(data, values, index, columns, aggfunc, fill_value, margins, dropna, margins_name)\u001b[0m\n\u001b[0;32m    134\u001b[0m \u001b[1;33m\u001b[0m\u001b[0m\n\u001b[0;32m    135\u001b[0m     \u001b[0mgrouped\u001b[0m \u001b[1;33m=\u001b[0m \u001b[0mdata\u001b[0m\u001b[1;33m.\u001b[0m\u001b[0mgroupby\u001b[0m\u001b[1;33m(\u001b[0m\u001b[0mkeys\u001b[0m\u001b[1;33m)\u001b[0m\u001b[1;33m\u001b[0m\u001b[0m\n\u001b[1;32m--> 136\u001b[1;33m     \u001b[0magged\u001b[0m \u001b[1;33m=\u001b[0m \u001b[0mgrouped\u001b[0m\u001b[1;33m.\u001b[0m\u001b[0magg\u001b[0m\u001b[1;33m(\u001b[0m\u001b[0maggfunc\u001b[0m\u001b[1;33m)\u001b[0m\u001b[1;33m\u001b[0m\u001b[0m\n\u001b[0m\u001b[0;32m    137\u001b[0m \u001b[1;33m\u001b[0m\u001b[0m\n\u001b[0;32m    138\u001b[0m     \u001b[0mtable\u001b[0m \u001b[1;33m=\u001b[0m \u001b[0magged\u001b[0m\u001b[1;33m\u001b[0m\u001b[0m\n",
      "\u001b[1;32mC:\\ProgramData\\Anaconda3\\lib\\site-packages\\pandas\\core\\groupby.py\u001b[0m in \u001b[0;36maggregate\u001b[1;34m(self, arg, *args, **kwargs)\u001b[0m\n\u001b[0;32m   4034\u001b[0m         versionadded=''))\n\u001b[0;32m   4035\u001b[0m     \u001b[1;32mdef\u001b[0m \u001b[0maggregate\u001b[0m\u001b[1;33m(\u001b[0m\u001b[0mself\u001b[0m\u001b[1;33m,\u001b[0m \u001b[0marg\u001b[0m\u001b[1;33m,\u001b[0m \u001b[1;33m*\u001b[0m\u001b[0margs\u001b[0m\u001b[1;33m,\u001b[0m \u001b[1;33m**\u001b[0m\u001b[0mkwargs\u001b[0m\u001b[1;33m)\u001b[0m\u001b[1;33m:\u001b[0m\u001b[1;33m\u001b[0m\u001b[0m\n\u001b[1;32m-> 4036\u001b[1;33m         \u001b[1;32mreturn\u001b[0m \u001b[0msuper\u001b[0m\u001b[1;33m(\u001b[0m\u001b[0mDataFrameGroupBy\u001b[0m\u001b[1;33m,\u001b[0m \u001b[0mself\u001b[0m\u001b[1;33m)\u001b[0m\u001b[1;33m.\u001b[0m\u001b[0maggregate\u001b[0m\u001b[1;33m(\u001b[0m\u001b[0marg\u001b[0m\u001b[1;33m,\u001b[0m \u001b[1;33m*\u001b[0m\u001b[0margs\u001b[0m\u001b[1;33m,\u001b[0m \u001b[1;33m**\u001b[0m\u001b[0mkwargs\u001b[0m\u001b[1;33m)\u001b[0m\u001b[1;33m\u001b[0m\u001b[0m\n\u001b[0m\u001b[0;32m   4037\u001b[0m \u001b[1;33m\u001b[0m\u001b[0m\n\u001b[0;32m   4038\u001b[0m     \u001b[0magg\u001b[0m \u001b[1;33m=\u001b[0m \u001b[0maggregate\u001b[0m\u001b[1;33m\u001b[0m\u001b[0m\n",
      "\u001b[1;32mC:\\ProgramData\\Anaconda3\\lib\\site-packages\\pandas\\core\\groupby.py\u001b[0m in \u001b[0;36maggregate\u001b[1;34m(self, arg, *args, **kwargs)\u001b[0m\n\u001b[0;32m   3474\u001b[0m             \u001b[1;31m# grouper specific aggregations\u001b[0m\u001b[1;33m\u001b[0m\u001b[1;33m\u001b[0m\u001b[0m\n\u001b[0;32m   3475\u001b[0m             \u001b[1;32mif\u001b[0m \u001b[0mself\u001b[0m\u001b[1;33m.\u001b[0m\u001b[0mgrouper\u001b[0m\u001b[1;33m.\u001b[0m\u001b[0mnkeys\u001b[0m \u001b[1;33m>\u001b[0m \u001b[1;36m1\u001b[0m\u001b[1;33m:\u001b[0m\u001b[1;33m\u001b[0m\u001b[0m\n\u001b[1;32m-> 3476\u001b[1;33m                 \u001b[1;32mreturn\u001b[0m \u001b[0mself\u001b[0m\u001b[1;33m.\u001b[0m\u001b[0m_python_agg_general\u001b[0m\u001b[1;33m(\u001b[0m\u001b[0marg\u001b[0m\u001b[1;33m,\u001b[0m \u001b[1;33m*\u001b[0m\u001b[0margs\u001b[0m\u001b[1;33m,\u001b[0m \u001b[1;33m**\u001b[0m\u001b[0mkwargs\u001b[0m\u001b[1;33m)\u001b[0m\u001b[1;33m\u001b[0m\u001b[0m\n\u001b[0m\u001b[0;32m   3477\u001b[0m             \u001b[1;32melse\u001b[0m\u001b[1;33m:\u001b[0m\u001b[1;33m\u001b[0m\u001b[0m\n\u001b[0;32m   3478\u001b[0m \u001b[1;33m\u001b[0m\u001b[0m\n",
      "\u001b[1;32mC:\\ProgramData\\Anaconda3\\lib\\site-packages\\pandas\\core\\groupby.py\u001b[0m in \u001b[0;36m_python_agg_general\u001b[1;34m(self, func, *args, **kwargs)\u001b[0m\n\u001b[0;32m    852\u001b[0m \u001b[1;33m\u001b[0m\u001b[0m\n\u001b[0;32m    853\u001b[0m         \u001b[1;32mif\u001b[0m \u001b[0mlen\u001b[0m\u001b[1;33m(\u001b[0m\u001b[0moutput\u001b[0m\u001b[1;33m)\u001b[0m \u001b[1;33m==\u001b[0m \u001b[1;36m0\u001b[0m\u001b[1;33m:\u001b[0m\u001b[1;33m\u001b[0m\u001b[0m\n\u001b[1;32m--> 854\u001b[1;33m             \u001b[1;32mreturn\u001b[0m \u001b[0mself\u001b[0m\u001b[1;33m.\u001b[0m\u001b[0m_python_apply_general\u001b[0m\u001b[1;33m(\u001b[0m\u001b[0mf\u001b[0m\u001b[1;33m)\u001b[0m\u001b[1;33m\u001b[0m\u001b[0m\n\u001b[0m\u001b[0;32m    855\u001b[0m \u001b[1;33m\u001b[0m\u001b[0m\n\u001b[0;32m    856\u001b[0m         \u001b[1;32mif\u001b[0m \u001b[0mself\u001b[0m\u001b[1;33m.\u001b[0m\u001b[0mgrouper\u001b[0m\u001b[1;33m.\u001b[0m\u001b[0m_filter_empty_groups\u001b[0m\u001b[1;33m:\u001b[0m\u001b[1;33m\u001b[0m\u001b[0m\n",
      "\u001b[1;32mC:\\ProgramData\\Anaconda3\\lib\\site-packages\\pandas\\core\\groupby.py\u001b[0m in \u001b[0;36m_python_apply_general\u001b[1;34m(self, f)\u001b[0m\n\u001b[0;32m    718\u001b[0m     \u001b[1;32mdef\u001b[0m \u001b[0m_python_apply_general\u001b[0m\u001b[1;33m(\u001b[0m\u001b[0mself\u001b[0m\u001b[1;33m,\u001b[0m \u001b[0mf\u001b[0m\u001b[1;33m)\u001b[0m\u001b[1;33m:\u001b[0m\u001b[1;33m\u001b[0m\u001b[0m\n\u001b[0;32m    719\u001b[0m         keys, values, mutated = self.grouper.apply(f, self._selected_obj,\n\u001b[1;32m--> 720\u001b[1;33m                                                    self.axis)\n\u001b[0m\u001b[0;32m    721\u001b[0m \u001b[1;33m\u001b[0m\u001b[0m\n\u001b[0;32m    722\u001b[0m         return self._wrap_applied_output(\n",
      "\u001b[1;32mC:\\ProgramData\\Anaconda3\\lib\\site-packages\\pandas\\core\\groupby.py\u001b[0m in \u001b[0;36mapply\u001b[1;34m(self, f, data, axis)\u001b[0m\n\u001b[0;32m   1776\u001b[0m     \u001b[1;32mdef\u001b[0m \u001b[0mapply\u001b[0m\u001b[1;33m(\u001b[0m\u001b[0mself\u001b[0m\u001b[1;33m,\u001b[0m \u001b[0mf\u001b[0m\u001b[1;33m,\u001b[0m \u001b[0mdata\u001b[0m\u001b[1;33m,\u001b[0m \u001b[0maxis\u001b[0m\u001b[1;33m=\u001b[0m\u001b[1;36m0\u001b[0m\u001b[1;33m)\u001b[0m\u001b[1;33m:\u001b[0m\u001b[1;33m\u001b[0m\u001b[0m\n\u001b[0;32m   1777\u001b[0m         \u001b[0mmutated\u001b[0m \u001b[1;33m=\u001b[0m \u001b[0mself\u001b[0m\u001b[1;33m.\u001b[0m\u001b[0mmutated\u001b[0m\u001b[1;33m\u001b[0m\u001b[0m\n\u001b[1;32m-> 1778\u001b[1;33m         \u001b[0msplitter\u001b[0m \u001b[1;33m=\u001b[0m \u001b[0mself\u001b[0m\u001b[1;33m.\u001b[0m\u001b[0m_get_splitter\u001b[0m\u001b[1;33m(\u001b[0m\u001b[0mdata\u001b[0m\u001b[1;33m,\u001b[0m \u001b[0maxis\u001b[0m\u001b[1;33m=\u001b[0m\u001b[0maxis\u001b[0m\u001b[1;33m)\u001b[0m\u001b[1;33m\u001b[0m\u001b[0m\n\u001b[0m\u001b[0;32m   1779\u001b[0m         \u001b[0mgroup_keys\u001b[0m \u001b[1;33m=\u001b[0m \u001b[0mself\u001b[0m\u001b[1;33m.\u001b[0m\u001b[0m_get_group_keys\u001b[0m\u001b[1;33m(\u001b[0m\u001b[1;33m)\u001b[0m\u001b[1;33m\u001b[0m\u001b[0m\n\u001b[0;32m   1780\u001b[0m \u001b[1;33m\u001b[0m\u001b[0m\n",
      "\u001b[1;32mC:\\ProgramData\\Anaconda3\\lib\\site-packages\\pandas\\core\\groupby.py\u001b[0m in \u001b[0;36m_get_splitter\u001b[1;34m(self, data, axis)\u001b[0m\n\u001b[0;32m   1759\u001b[0m \u001b[1;33m\u001b[0m\u001b[0m\n\u001b[0;32m   1760\u001b[0m     \u001b[1;32mdef\u001b[0m \u001b[0m_get_splitter\u001b[0m\u001b[1;33m(\u001b[0m\u001b[0mself\u001b[0m\u001b[1;33m,\u001b[0m \u001b[0mdata\u001b[0m\u001b[1;33m,\u001b[0m \u001b[0maxis\u001b[0m\u001b[1;33m=\u001b[0m\u001b[1;36m0\u001b[0m\u001b[1;33m)\u001b[0m\u001b[1;33m:\u001b[0m\u001b[1;33m\u001b[0m\u001b[0m\n\u001b[1;32m-> 1761\u001b[1;33m         \u001b[0mcomp_ids\u001b[0m\u001b[1;33m,\u001b[0m \u001b[0m_\u001b[0m\u001b[1;33m,\u001b[0m \u001b[0mngroups\u001b[0m \u001b[1;33m=\u001b[0m \u001b[0mself\u001b[0m\u001b[1;33m.\u001b[0m\u001b[0mgroup_info\u001b[0m\u001b[1;33m\u001b[0m\u001b[0m\n\u001b[0m\u001b[0;32m   1762\u001b[0m         \u001b[1;32mreturn\u001b[0m \u001b[0mget_splitter\u001b[0m\u001b[1;33m(\u001b[0m\u001b[0mdata\u001b[0m\u001b[1;33m,\u001b[0m \u001b[0mcomp_ids\u001b[0m\u001b[1;33m,\u001b[0m \u001b[0mngroups\u001b[0m\u001b[1;33m,\u001b[0m \u001b[0maxis\u001b[0m\u001b[1;33m=\u001b[0m\u001b[0maxis\u001b[0m\u001b[1;33m)\u001b[0m\u001b[1;33m\u001b[0m\u001b[0m\n\u001b[0;32m   1763\u001b[0m \u001b[1;33m\u001b[0m\u001b[0m\n",
      "\u001b[1;32mpandas/_libs/src\\properties.pyx\u001b[0m in \u001b[0;36mpandas._libs.lib.cache_readonly.__get__\u001b[1;34m()\u001b[0m\n",
      "\u001b[1;32mC:\\ProgramData\\Anaconda3\\lib\\site-packages\\pandas\\core\\groupby.py\u001b[0m in \u001b[0;36mgroup_info\u001b[1;34m(self)\u001b[0m\n\u001b[0;32m   1871\u001b[0m     \u001b[1;33m@\u001b[0m\u001b[0mcache_readonly\u001b[0m\u001b[1;33m\u001b[0m\u001b[0m\n\u001b[0;32m   1872\u001b[0m     \u001b[1;32mdef\u001b[0m \u001b[0mgroup_info\u001b[0m\u001b[1;33m(\u001b[0m\u001b[0mself\u001b[0m\u001b[1;33m)\u001b[0m\u001b[1;33m:\u001b[0m\u001b[1;33m\u001b[0m\u001b[0m\n\u001b[1;32m-> 1873\u001b[1;33m         \u001b[0mcomp_ids\u001b[0m\u001b[1;33m,\u001b[0m \u001b[0mobs_group_ids\u001b[0m \u001b[1;33m=\u001b[0m \u001b[0mself\u001b[0m\u001b[1;33m.\u001b[0m\u001b[0m_get_compressed_labels\u001b[0m\u001b[1;33m(\u001b[0m\u001b[1;33m)\u001b[0m\u001b[1;33m\u001b[0m\u001b[0m\n\u001b[0m\u001b[0;32m   1874\u001b[0m \u001b[1;33m\u001b[0m\u001b[0m\n\u001b[0;32m   1875\u001b[0m         \u001b[0mngroups\u001b[0m \u001b[1;33m=\u001b[0m \u001b[0mlen\u001b[0m\u001b[1;33m(\u001b[0m\u001b[0mobs_group_ids\u001b[0m\u001b[1;33m)\u001b[0m\u001b[1;33m\u001b[0m\u001b[0m\n",
      "\u001b[1;32mC:\\ProgramData\\Anaconda3\\lib\\site-packages\\pandas\\core\\groupby.py\u001b[0m in \u001b[0;36m_get_compressed_labels\u001b[1;34m(self)\u001b[0m\n\u001b[0;32m   1878\u001b[0m \u001b[1;33m\u001b[0m\u001b[0m\n\u001b[0;32m   1879\u001b[0m     \u001b[1;32mdef\u001b[0m \u001b[0m_get_compressed_labels\u001b[0m\u001b[1;33m(\u001b[0m\u001b[0mself\u001b[0m\u001b[1;33m)\u001b[0m\u001b[1;33m:\u001b[0m\u001b[1;33m\u001b[0m\u001b[0m\n\u001b[1;32m-> 1880\u001b[1;33m         \u001b[0mall_labels\u001b[0m \u001b[1;33m=\u001b[0m \u001b[1;33m[\u001b[0m\u001b[0mping\u001b[0m\u001b[1;33m.\u001b[0m\u001b[0mlabels\u001b[0m \u001b[1;32mfor\u001b[0m \u001b[0mping\u001b[0m \u001b[1;32min\u001b[0m \u001b[0mself\u001b[0m\u001b[1;33m.\u001b[0m\u001b[0mgroupings\u001b[0m\u001b[1;33m]\u001b[0m\u001b[1;33m\u001b[0m\u001b[0m\n\u001b[0m\u001b[0;32m   1881\u001b[0m         \u001b[1;32mif\u001b[0m \u001b[0mlen\u001b[0m\u001b[1;33m(\u001b[0m\u001b[0mall_labels\u001b[0m\u001b[1;33m)\u001b[0m \u001b[1;33m>\u001b[0m \u001b[1;36m1\u001b[0m\u001b[1;33m:\u001b[0m\u001b[1;33m\u001b[0m\u001b[0m\n\u001b[0;32m   1882\u001b[0m             group_index = get_group_index(all_labels, self.shape,\n",
      "\u001b[1;32mC:\\ProgramData\\Anaconda3\\lib\\site-packages\\pandas\\core\\groupby.py\u001b[0m in \u001b[0;36m<listcomp>\u001b[1;34m(.0)\u001b[0m\n\u001b[0;32m   1878\u001b[0m \u001b[1;33m\u001b[0m\u001b[0m\n\u001b[0;32m   1879\u001b[0m     \u001b[1;32mdef\u001b[0m \u001b[0m_get_compressed_labels\u001b[0m\u001b[1;33m(\u001b[0m\u001b[0mself\u001b[0m\u001b[1;33m)\u001b[0m\u001b[1;33m:\u001b[0m\u001b[1;33m\u001b[0m\u001b[0m\n\u001b[1;32m-> 1880\u001b[1;33m         \u001b[0mall_labels\u001b[0m \u001b[1;33m=\u001b[0m \u001b[1;33m[\u001b[0m\u001b[0mping\u001b[0m\u001b[1;33m.\u001b[0m\u001b[0mlabels\u001b[0m \u001b[1;32mfor\u001b[0m \u001b[0mping\u001b[0m \u001b[1;32min\u001b[0m \u001b[0mself\u001b[0m\u001b[1;33m.\u001b[0m\u001b[0mgroupings\u001b[0m\u001b[1;33m]\u001b[0m\u001b[1;33m\u001b[0m\u001b[0m\n\u001b[0m\u001b[0;32m   1881\u001b[0m         \u001b[1;32mif\u001b[0m \u001b[0mlen\u001b[0m\u001b[1;33m(\u001b[0m\u001b[0mall_labels\u001b[0m\u001b[1;33m)\u001b[0m \u001b[1;33m>\u001b[0m \u001b[1;36m1\u001b[0m\u001b[1;33m:\u001b[0m\u001b[1;33m\u001b[0m\u001b[0m\n\u001b[0;32m   1882\u001b[0m             group_index = get_group_index(all_labels, self.shape,\n",
      "\u001b[1;32mC:\\ProgramData\\Anaconda3\\lib\\site-packages\\pandas\\core\\groupby.py\u001b[0m in \u001b[0;36mlabels\u001b[1;34m(self)\u001b[0m\n\u001b[0;32m   2531\u001b[0m     \u001b[1;32mdef\u001b[0m \u001b[0mlabels\u001b[0m\u001b[1;33m(\u001b[0m\u001b[0mself\u001b[0m\u001b[1;33m)\u001b[0m\u001b[1;33m:\u001b[0m\u001b[1;33m\u001b[0m\u001b[0m\n\u001b[0;32m   2532\u001b[0m         \u001b[1;32mif\u001b[0m \u001b[0mself\u001b[0m\u001b[1;33m.\u001b[0m\u001b[0m_labels\u001b[0m \u001b[1;32mis\u001b[0m \u001b[1;32mNone\u001b[0m\u001b[1;33m:\u001b[0m\u001b[1;33m\u001b[0m\u001b[0m\n\u001b[1;32m-> 2533\u001b[1;33m             \u001b[0mself\u001b[0m\u001b[1;33m.\u001b[0m\u001b[0m_make_labels\u001b[0m\u001b[1;33m(\u001b[0m\u001b[1;33m)\u001b[0m\u001b[1;33m\u001b[0m\u001b[0m\n\u001b[0m\u001b[0;32m   2534\u001b[0m         \u001b[1;32mreturn\u001b[0m \u001b[0mself\u001b[0m\u001b[1;33m.\u001b[0m\u001b[0m_labels\u001b[0m\u001b[1;33m\u001b[0m\u001b[0m\n\u001b[0;32m   2535\u001b[0m \u001b[1;33m\u001b[0m\u001b[0m\n",
      "\u001b[1;32mC:\\ProgramData\\Anaconda3\\lib\\site-packages\\pandas\\core\\groupby.py\u001b[0m in \u001b[0;36m_make_labels\u001b[1;34m(self)\u001b[0m\n\u001b[0;32m   2543\u001b[0m         \u001b[1;32mif\u001b[0m \u001b[0mself\u001b[0m\u001b[1;33m.\u001b[0m\u001b[0m_labels\u001b[0m \u001b[1;32mis\u001b[0m \u001b[1;32mNone\u001b[0m \u001b[1;32mor\u001b[0m \u001b[0mself\u001b[0m\u001b[1;33m.\u001b[0m\u001b[0m_group_index\u001b[0m \u001b[1;32mis\u001b[0m \u001b[1;32mNone\u001b[0m\u001b[1;33m:\u001b[0m\u001b[1;33m\u001b[0m\u001b[0m\n\u001b[0;32m   2544\u001b[0m             labels, uniques = algorithms.factorize(\n\u001b[1;32m-> 2545\u001b[1;33m                 self.grouper, sort=self.sort)\n\u001b[0m\u001b[0;32m   2546\u001b[0m             \u001b[0muniques\u001b[0m \u001b[1;33m=\u001b[0m \u001b[0mIndex\u001b[0m\u001b[1;33m(\u001b[0m\u001b[0muniques\u001b[0m\u001b[1;33m,\u001b[0m \u001b[0mname\u001b[0m\u001b[1;33m=\u001b[0m\u001b[0mself\u001b[0m\u001b[1;33m.\u001b[0m\u001b[0mname\u001b[0m\u001b[1;33m)\u001b[0m\u001b[1;33m\u001b[0m\u001b[0m\n\u001b[0;32m   2547\u001b[0m             \u001b[0mself\u001b[0m\u001b[1;33m.\u001b[0m\u001b[0m_labels\u001b[0m \u001b[1;33m=\u001b[0m \u001b[0mlabels\u001b[0m\u001b[1;33m\u001b[0m\u001b[0m\n",
      "\u001b[1;32mC:\\ProgramData\\Anaconda3\\lib\\site-packages\\pandas\\core\\algorithms.py\u001b[0m in \u001b[0;36mfactorize\u001b[1;34m(values, sort, order, na_sentinel, size_hint)\u001b[0m\n\u001b[0;32m    565\u001b[0m     \u001b[1;32mif\u001b[0m \u001b[0msort\u001b[0m \u001b[1;32mand\u001b[0m \u001b[0mlen\u001b[0m\u001b[1;33m(\u001b[0m\u001b[0muniques\u001b[0m\u001b[1;33m)\u001b[0m \u001b[1;33m>\u001b[0m \u001b[1;36m0\u001b[0m\u001b[1;33m:\u001b[0m\u001b[1;33m\u001b[0m\u001b[0m\n\u001b[0;32m    566\u001b[0m         uniques, labels = safe_sort(uniques, labels, na_sentinel=na_sentinel,\n\u001b[1;32m--> 567\u001b[1;33m                                     assume_unique=True)\n\u001b[0m\u001b[0;32m    568\u001b[0m \u001b[1;33m\u001b[0m\u001b[0m\n\u001b[0;32m    569\u001b[0m     \u001b[0muniques\u001b[0m \u001b[1;33m=\u001b[0m \u001b[0m_reconstruct_data\u001b[0m\u001b[1;33m(\u001b[0m\u001b[0muniques\u001b[0m\u001b[1;33m,\u001b[0m \u001b[0mdtype\u001b[0m\u001b[1;33m,\u001b[0m \u001b[0moriginal\u001b[0m\u001b[1;33m)\u001b[0m\u001b[1;33m\u001b[0m\u001b[0m\n",
      "\u001b[1;32mC:\\ProgramData\\Anaconda3\\lib\\site-packages\\pandas\\core\\algorithms.py\u001b[0m in \u001b[0;36msafe_sort\u001b[1;34m(values, labels, na_sentinel, assume_unique)\u001b[0m\n\u001b[0;32m    481\u001b[0m     \u001b[1;32mif\u001b[0m \u001b[0mcompat\u001b[0m\u001b[1;33m.\u001b[0m\u001b[0mPY3\u001b[0m \u001b[1;32mand\u001b[0m \u001b[0mlib\u001b[0m\u001b[1;33m.\u001b[0m\u001b[0minfer_dtype\u001b[0m\u001b[1;33m(\u001b[0m\u001b[0mvalues\u001b[0m\u001b[1;33m)\u001b[0m \u001b[1;33m==\u001b[0m \u001b[1;34m'mixed-integer'\u001b[0m\u001b[1;33m:\u001b[0m\u001b[1;33m\u001b[0m\u001b[0m\n\u001b[0;32m    482\u001b[0m         \u001b[1;31m# unorderable in py3 if mixed str/int\u001b[0m\u001b[1;33m\u001b[0m\u001b[1;33m\u001b[0m\u001b[0m\n\u001b[1;32m--> 483\u001b[1;33m         \u001b[0mordered\u001b[0m \u001b[1;33m=\u001b[0m \u001b[0msort_mixed\u001b[0m\u001b[1;33m(\u001b[0m\u001b[0mvalues\u001b[0m\u001b[1;33m)\u001b[0m\u001b[1;33m\u001b[0m\u001b[0m\n\u001b[0m\u001b[0;32m    484\u001b[0m     \u001b[1;32melse\u001b[0m\u001b[1;33m:\u001b[0m\u001b[1;33m\u001b[0m\u001b[0m\n\u001b[0;32m    485\u001b[0m         \u001b[1;32mtry\u001b[0m\u001b[1;33m:\u001b[0m\u001b[1;33m\u001b[0m\u001b[0m\n",
      "\u001b[1;32mC:\\ProgramData\\Anaconda3\\lib\\site-packages\\pandas\\core\\algorithms.py\u001b[0m in \u001b[0;36msort_mixed\u001b[1;34m(values)\u001b[0m\n\u001b[0;32m    474\u001b[0m         str_pos = np.array([isinstance(x, string_types) for x in values],\n\u001b[0;32m    475\u001b[0m                            dtype=bool)\n\u001b[1;32m--> 476\u001b[1;33m         \u001b[0mnums\u001b[0m \u001b[1;33m=\u001b[0m \u001b[0mnp\u001b[0m\u001b[1;33m.\u001b[0m\u001b[0msort\u001b[0m\u001b[1;33m(\u001b[0m\u001b[0mvalues\u001b[0m\u001b[1;33m[\u001b[0m\u001b[1;33m~\u001b[0m\u001b[0mstr_pos\u001b[0m\u001b[1;33m]\u001b[0m\u001b[1;33m)\u001b[0m\u001b[1;33m\u001b[0m\u001b[0m\n\u001b[0m\u001b[0;32m    477\u001b[0m         \u001b[0mstrs\u001b[0m \u001b[1;33m=\u001b[0m \u001b[0mnp\u001b[0m\u001b[1;33m.\u001b[0m\u001b[0msort\u001b[0m\u001b[1;33m(\u001b[0m\u001b[0mvalues\u001b[0m\u001b[1;33m[\u001b[0m\u001b[0mstr_pos\u001b[0m\u001b[1;33m]\u001b[0m\u001b[1;33m)\u001b[0m\u001b[1;33m\u001b[0m\u001b[0m\n\u001b[0;32m    478\u001b[0m         \u001b[1;32mreturn\u001b[0m \u001b[0m_ensure_object\u001b[0m\u001b[1;33m(\u001b[0m\u001b[0mnp\u001b[0m\u001b[1;33m.\u001b[0m\u001b[0mconcatenate\u001b[0m\u001b[1;33m(\u001b[0m\u001b[1;33m[\u001b[0m\u001b[0mnums\u001b[0m\u001b[1;33m,\u001b[0m \u001b[0mstrs\u001b[0m\u001b[1;33m]\u001b[0m\u001b[1;33m)\u001b[0m\u001b[1;33m)\u001b[0m\u001b[1;33m\u001b[0m\u001b[0m\n",
      "\u001b[1;32mC:\\ProgramData\\Anaconda3\\lib\\site-packages\\numpy\\core\\fromnumeric.py\u001b[0m in \u001b[0;36msort\u001b[1;34m(a, axis, kind, order)\u001b[0m\n\u001b[0;32m    820\u001b[0m     \u001b[1;32melse\u001b[0m\u001b[1;33m:\u001b[0m\u001b[1;33m\u001b[0m\u001b[0m\n\u001b[0;32m    821\u001b[0m         \u001b[0ma\u001b[0m \u001b[1;33m=\u001b[0m \u001b[0masanyarray\u001b[0m\u001b[1;33m(\u001b[0m\u001b[0ma\u001b[0m\u001b[1;33m)\u001b[0m\u001b[1;33m.\u001b[0m\u001b[0mcopy\u001b[0m\u001b[1;33m(\u001b[0m\u001b[0morder\u001b[0m\u001b[1;33m=\u001b[0m\u001b[1;34m\"K\"\u001b[0m\u001b[1;33m)\u001b[0m\u001b[1;33m\u001b[0m\u001b[0m\n\u001b[1;32m--> 822\u001b[1;33m     \u001b[0ma\u001b[0m\u001b[1;33m.\u001b[0m\u001b[0msort\u001b[0m\u001b[1;33m(\u001b[0m\u001b[0maxis\u001b[0m\u001b[1;33m=\u001b[0m\u001b[0maxis\u001b[0m\u001b[1;33m,\u001b[0m \u001b[0mkind\u001b[0m\u001b[1;33m=\u001b[0m\u001b[0mkind\u001b[0m\u001b[1;33m,\u001b[0m \u001b[0morder\u001b[0m\u001b[1;33m=\u001b[0m\u001b[0morder\u001b[0m\u001b[1;33m)\u001b[0m\u001b[1;33m\u001b[0m\u001b[0m\n\u001b[0m\u001b[0;32m    823\u001b[0m     \u001b[1;32mreturn\u001b[0m \u001b[0ma\u001b[0m\u001b[1;33m\u001b[0m\u001b[0m\n\u001b[0;32m    824\u001b[0m \u001b[1;33m\u001b[0m\u001b[0m\n",
      "\u001b[1;31mTypeError\u001b[0m: '<' not supported between instances of 'datetime.datetime' and 'int'"
     ]
    }
   ],
   "source": [
    "deep_view_tab = pd.crosstab(df['Целевые посетители'], df['Глубина просмотра'], margins=True)\n",
    "deep_view_tab"
   ]
  },
  {
   "cell_type": "markdown",
   "metadata": {},
   "source": [
    "### Операционные системы и браузеры"
   ]
  },
  {
   "cell_type": "markdown",
   "metadata": {},
   "source": [
    "А вот тут похоже у нас будет инсайт! Предпосылок для выделения этих признаков в \"мощные\" вроде бы никаких нет. Ну разве что можно сделать предположение о том, что  пользователи iOS вероятно более состоятельные, чем пользователи Android. Давайте посмотрим на наши кросстабы и посчитаем конверсию."
   ]
  },
  {
   "cell_type": "code",
   "execution_count": 190,
   "metadata": {},
   "outputs": [
    {
     "ename": "TypeError",
     "evalue": "'<' not supported between instances of 'str' and 'int'",
     "output_type": "error",
     "traceback": [
      "\u001b[1;31m---------------------------------------------------------------------------\u001b[0m",
      "\u001b[1;31mTypeError\u001b[0m                                 Traceback (most recent call last)",
      "\u001b[1;32m<ipython-input-190-09d9c9111940>\u001b[0m in \u001b[0;36m<module>\u001b[1;34m()\u001b[0m\n\u001b[1;32m----> 1\u001b[1;33m \u001b[0mos_group_tab\u001b[0m \u001b[1;33m=\u001b[0m \u001b[0mpd\u001b[0m\u001b[1;33m.\u001b[0m\u001b[0mcrosstab\u001b[0m\u001b[1;33m(\u001b[0m\u001b[0mdf\u001b[0m\u001b[1;33m[\u001b[0m\u001b[1;34m'Целевые посетители'\u001b[0m\u001b[1;33m]\u001b[0m\u001b[1;33m,\u001b[0m \u001b[0mdf\u001b[0m\u001b[1;33m[\u001b[0m\u001b[1;34m'Группа операционных систем'\u001b[0m\u001b[1;33m]\u001b[0m\u001b[1;33m,\u001b[0m \u001b[0mmargins\u001b[0m\u001b[1;33m=\u001b[0m\u001b[1;32mTrue\u001b[0m\u001b[1;33m)\u001b[0m\u001b[1;33m\u001b[0m\u001b[0m\n\u001b[0m\u001b[0;32m      2\u001b[0m \u001b[0mos_group_tab\u001b[0m\u001b[1;33m\u001b[0m\u001b[0m\n",
      "\u001b[1;32mC:\\ProgramData\\Anaconda3\\lib\\site-packages\\pandas\\core\\reshape\\pivot.py\u001b[0m in \u001b[0;36mcrosstab\u001b[1;34m(index, columns, values, rownames, colnames, aggfunc, margins, dropna, normalize)\u001b[0m\n\u001b[0;32m    491\u001b[0m         \u001b[0mdf\u001b[0m\u001b[1;33m[\u001b[0m\u001b[1;34m'__dummy__'\u001b[0m\u001b[1;33m]\u001b[0m \u001b[1;33m=\u001b[0m \u001b[1;36m0\u001b[0m\u001b[1;33m\u001b[0m\u001b[0m\n\u001b[0;32m    492\u001b[0m         table = df.pivot_table('__dummy__', index=rownames, columns=colnames,\n\u001b[1;32m--> 493\u001b[1;33m                                aggfunc=len, margins=margins, dropna=dropna)\n\u001b[0m\u001b[0;32m    494\u001b[0m         \u001b[0mtable\u001b[0m \u001b[1;33m=\u001b[0m \u001b[0mtable\u001b[0m\u001b[1;33m.\u001b[0m\u001b[0mfillna\u001b[0m\u001b[1;33m(\u001b[0m\u001b[1;36m0\u001b[0m\u001b[1;33m)\u001b[0m\u001b[1;33m.\u001b[0m\u001b[0mastype\u001b[0m\u001b[1;33m(\u001b[0m\u001b[0mnp\u001b[0m\u001b[1;33m.\u001b[0m\u001b[0mint64\u001b[0m\u001b[1;33m)\u001b[0m\u001b[1;33m\u001b[0m\u001b[0m\n\u001b[0;32m    495\u001b[0m \u001b[1;33m\u001b[0m\u001b[0m\n",
      "\u001b[1;32mC:\\ProgramData\\Anaconda3\\lib\\site-packages\\pandas\\core\\reshape\\pivot.py\u001b[0m in \u001b[0;36mpivot_table\u001b[1;34m(data, values, index, columns, aggfunc, fill_value, margins, dropna, margins_name)\u001b[0m\n\u001b[0;32m    158\u001b[0m \u001b[1;33m\u001b[0m\u001b[0m\n\u001b[0;32m    159\u001b[0m     \u001b[1;32mif\u001b[0m \u001b[0misinstance\u001b[0m\u001b[1;33m(\u001b[0m\u001b[0mtable\u001b[0m\u001b[1;33m,\u001b[0m \u001b[0mDataFrame\u001b[0m\u001b[1;33m)\u001b[0m\u001b[1;33m:\u001b[0m\u001b[1;33m\u001b[0m\u001b[0m\n\u001b[1;32m--> 160\u001b[1;33m         \u001b[0mtable\u001b[0m \u001b[1;33m=\u001b[0m \u001b[0mtable\u001b[0m\u001b[1;33m.\u001b[0m\u001b[0msort_index\u001b[0m\u001b[1;33m(\u001b[0m\u001b[0maxis\u001b[0m\u001b[1;33m=\u001b[0m\u001b[1;36m1\u001b[0m\u001b[1;33m)\u001b[0m\u001b[1;33m\u001b[0m\u001b[0m\n\u001b[0m\u001b[0;32m    161\u001b[0m \u001b[1;33m\u001b[0m\u001b[0m\n\u001b[0;32m    162\u001b[0m     \u001b[1;32mif\u001b[0m \u001b[0mfill_value\u001b[0m \u001b[1;32mis\u001b[0m \u001b[1;32mnot\u001b[0m \u001b[1;32mNone\u001b[0m\u001b[1;33m:\u001b[0m\u001b[1;33m\u001b[0m\u001b[0m\n",
      "\u001b[1;32mC:\\ProgramData\\Anaconda3\\lib\\site-packages\\pandas\\core\\frame.py\u001b[0m in \u001b[0;36msort_index\u001b[1;34m(self, axis, level, ascending, inplace, kind, na_position, sort_remaining, by)\u001b[0m\n\u001b[0;32m   3241\u001b[0m             \u001b[1;31m# make sure that the axis is lexsorted to start\u001b[0m\u001b[1;33m\u001b[0m\u001b[1;33m\u001b[0m\u001b[0m\n\u001b[0;32m   3242\u001b[0m             \u001b[1;31m# if not we need to reconstruct to get the correct indexer\u001b[0m\u001b[1;33m\u001b[0m\u001b[1;33m\u001b[0m\u001b[0m\n\u001b[1;32m-> 3243\u001b[1;33m             \u001b[0mlabels\u001b[0m \u001b[1;33m=\u001b[0m \u001b[0mlabels\u001b[0m\u001b[1;33m.\u001b[0m\u001b[0m_sort_levels_monotonic\u001b[0m\u001b[1;33m(\u001b[0m\u001b[1;33m)\u001b[0m\u001b[1;33m\u001b[0m\u001b[0m\n\u001b[0m\u001b[0;32m   3244\u001b[0m             indexer = lexsort_indexer(labels._get_labels_for_sorting(),\n\u001b[0;32m   3245\u001b[0m                                       \u001b[0morders\u001b[0m\u001b[1;33m=\u001b[0m\u001b[0mascending\u001b[0m\u001b[1;33m,\u001b[0m\u001b[1;33m\u001b[0m\u001b[0m\n",
      "\u001b[1;32mC:\\ProgramData\\Anaconda3\\lib\\site-packages\\pandas\\core\\indexes\\multi.py\u001b[0m in \u001b[0;36m_sort_levels_monotonic\u001b[1;34m(self)\u001b[0m\n\u001b[0;32m   1239\u001b[0m \u001b[1;33m\u001b[0m\u001b[0m\n\u001b[0;32m   1240\u001b[0m             \u001b[1;31m# indexer to reorder the levels\u001b[0m\u001b[1;33m\u001b[0m\u001b[1;33m\u001b[0m\u001b[0m\n\u001b[1;32m-> 1241\u001b[1;33m             \u001b[0mindexer\u001b[0m \u001b[1;33m=\u001b[0m \u001b[0mlev\u001b[0m\u001b[1;33m.\u001b[0m\u001b[0margsort\u001b[0m\u001b[1;33m(\u001b[0m\u001b[1;33m)\u001b[0m\u001b[1;33m\u001b[0m\u001b[0m\n\u001b[0m\u001b[0;32m   1242\u001b[0m             \u001b[0mlev\u001b[0m \u001b[1;33m=\u001b[0m \u001b[0mlev\u001b[0m\u001b[1;33m.\u001b[0m\u001b[0mtake\u001b[0m\u001b[1;33m(\u001b[0m\u001b[0mindexer\u001b[0m\u001b[1;33m)\u001b[0m\u001b[1;33m\u001b[0m\u001b[0m\n\u001b[0;32m   1243\u001b[0m \u001b[1;33m\u001b[0m\u001b[0m\n",
      "\u001b[1;32mC:\\ProgramData\\Anaconda3\\lib\\site-packages\\pandas\\core\\indexes\\base.py\u001b[0m in \u001b[0;36margsort\u001b[1;34m(self, *args, **kwargs)\u001b[0m\n\u001b[0;32m   2089\u001b[0m         \u001b[1;32mif\u001b[0m \u001b[0mresult\u001b[0m \u001b[1;32mis\u001b[0m \u001b[1;32mNone\u001b[0m\u001b[1;33m:\u001b[0m\u001b[1;33m\u001b[0m\u001b[0m\n\u001b[0;32m   2090\u001b[0m             \u001b[0mresult\u001b[0m \u001b[1;33m=\u001b[0m \u001b[0mnp\u001b[0m\u001b[1;33m.\u001b[0m\u001b[0marray\u001b[0m\u001b[1;33m(\u001b[0m\u001b[0mself\u001b[0m\u001b[1;33m)\u001b[0m\u001b[1;33m\u001b[0m\u001b[0m\n\u001b[1;32m-> 2091\u001b[1;33m         \u001b[1;32mreturn\u001b[0m \u001b[0mresult\u001b[0m\u001b[1;33m.\u001b[0m\u001b[0margsort\u001b[0m\u001b[1;33m(\u001b[0m\u001b[1;33m*\u001b[0m\u001b[0margs\u001b[0m\u001b[1;33m,\u001b[0m \u001b[1;33m**\u001b[0m\u001b[0mkwargs\u001b[0m\u001b[1;33m)\u001b[0m\u001b[1;33m\u001b[0m\u001b[0m\n\u001b[0m\u001b[0;32m   2092\u001b[0m \u001b[1;33m\u001b[0m\u001b[0m\n\u001b[0;32m   2093\u001b[0m     \u001b[1;32mdef\u001b[0m \u001b[0m__add__\u001b[0m\u001b[1;33m(\u001b[0m\u001b[0mself\u001b[0m\u001b[1;33m,\u001b[0m \u001b[0mother\u001b[0m\u001b[1;33m)\u001b[0m\u001b[1;33m:\u001b[0m\u001b[1;33m\u001b[0m\u001b[0m\n",
      "\u001b[1;31mTypeError\u001b[0m: '<' not supported between instances of 'str' and 'int'"
     ]
    }
   ],
   "source": [
    "os_group_tab = pd.crosstab(df['Целевые посетители'], df['Группа операционных систем'], margins=True)\n",
    "os_group_tab"
   ]
  },
  {
   "cell_type": "code",
   "execution_count": 22,
   "metadata": {},
   "outputs": [
    {
     "name": "stdout",
     "output_type": "stream",
     "text": [
      "GNU/Linux: 11.110000000000001%\n",
      "Google Android: 3.0300000000000002%\n",
      "iOS: 2.92%\n",
      "Windows: 2.06%\n",
      "Mac OS: 0.0%\n"
     ]
    }
   ],
   "source": [
    "os_dict = {}\n",
    "for os in list(os_group_tab.columns.values):\n",
    "    conv = round(os_group_tab[os][1]/os_group_tab[os]['All'],4)*100\n",
    "    os_dict[conv] = os\n",
    "\n",
    "for conv in sorted(os_dict.keys(), reverse=True):\n",
    "    if(os_dict[conv] != 'All'):\n",
    "        print('{}: {}%'.format(os_dict[conv], conv))"
   ]
  },
  {
   "cell_type": "code",
   "execution_count": 202,
   "metadata": {},
   "outputs": [
    {
     "ename": "ValueError",
     "evalue": "labels [False False False ..., False False False] not contained in axis",
     "output_type": "error",
     "traceback": [
      "\u001b[1;31m---------------------------------------------------------------------------\u001b[0m",
      "\u001b[1;31mValueError\u001b[0m                                Traceback (most recent call last)",
      "\u001b[1;32m<ipython-input-202-b6a52a6b4873>\u001b[0m in \u001b[0;36m<module>\u001b[1;34m()\u001b[0m\n\u001b[1;32m----> 1\u001b[1;33m \u001b[0mdf\u001b[0m\u001b[1;33m.\u001b[0m\u001b[0mdrop\u001b[0m\u001b[1;33m(\u001b[0m\u001b[0mdf\u001b[0m\u001b[1;33m[\u001b[0m\u001b[1;34m'Браузер'\u001b[0m\u001b[1;33m]\u001b[0m \u001b[1;33m==\u001b[0m \u001b[1;36m0\u001b[0m\u001b[1;33m,\u001b[0m \u001b[0minplace\u001b[0m\u001b[1;33m=\u001b[0m\u001b[1;32mTrue\u001b[0m\u001b[1;33m)\u001b[0m\u001b[1;33m\u001b[0m\u001b[0m\n\u001b[0m",
      "\u001b[1;32mC:\\ProgramData\\Anaconda3\\lib\\site-packages\\pandas\\core\\generic.py\u001b[0m in \u001b[0;36mdrop\u001b[1;34m(self, labels, axis, level, inplace, errors)\u001b[0m\n\u001b[0;32m   2159\u001b[0m                 \u001b[0mnew_axis\u001b[0m \u001b[1;33m=\u001b[0m \u001b[0maxis\u001b[0m\u001b[1;33m.\u001b[0m\u001b[0mdrop\u001b[0m\u001b[1;33m(\u001b[0m\u001b[0mlabels\u001b[0m\u001b[1;33m,\u001b[0m \u001b[0mlevel\u001b[0m\u001b[1;33m=\u001b[0m\u001b[0mlevel\u001b[0m\u001b[1;33m,\u001b[0m \u001b[0merrors\u001b[0m\u001b[1;33m=\u001b[0m\u001b[0merrors\u001b[0m\u001b[1;33m)\u001b[0m\u001b[1;33m\u001b[0m\u001b[0m\n\u001b[0;32m   2160\u001b[0m             \u001b[1;32melse\u001b[0m\u001b[1;33m:\u001b[0m\u001b[1;33m\u001b[0m\u001b[0m\n\u001b[1;32m-> 2161\u001b[1;33m                 \u001b[0mnew_axis\u001b[0m \u001b[1;33m=\u001b[0m \u001b[0maxis\u001b[0m\u001b[1;33m.\u001b[0m\u001b[0mdrop\u001b[0m\u001b[1;33m(\u001b[0m\u001b[0mlabels\u001b[0m\u001b[1;33m,\u001b[0m \u001b[0merrors\u001b[0m\u001b[1;33m=\u001b[0m\u001b[0merrors\u001b[0m\u001b[1;33m)\u001b[0m\u001b[1;33m\u001b[0m\u001b[0m\n\u001b[0m\u001b[0;32m   2162\u001b[0m             \u001b[0mdropped\u001b[0m \u001b[1;33m=\u001b[0m \u001b[0mself\u001b[0m\u001b[1;33m.\u001b[0m\u001b[0mreindex\u001b[0m\u001b[1;33m(\u001b[0m\u001b[1;33m**\u001b[0m\u001b[1;33m{\u001b[0m\u001b[0maxis_name\u001b[0m\u001b[1;33m:\u001b[0m \u001b[0mnew_axis\u001b[0m\u001b[1;33m}\u001b[0m\u001b[1;33m)\u001b[0m\u001b[1;33m\u001b[0m\u001b[0m\n\u001b[0;32m   2163\u001b[0m             \u001b[1;32mtry\u001b[0m\u001b[1;33m:\u001b[0m\u001b[1;33m\u001b[0m\u001b[0m\n",
      "\u001b[1;32mC:\\ProgramData\\Anaconda3\\lib\\site-packages\\pandas\\core\\indexes\\base.py\u001b[0m in \u001b[0;36mdrop\u001b[1;34m(self, labels, errors)\u001b[0m\n\u001b[0;32m   3622\u001b[0m             \u001b[1;32mif\u001b[0m \u001b[0merrors\u001b[0m \u001b[1;33m!=\u001b[0m \u001b[1;34m'ignore'\u001b[0m\u001b[1;33m:\u001b[0m\u001b[1;33m\u001b[0m\u001b[0m\n\u001b[0;32m   3623\u001b[0m                 raise ValueError('labels %s not contained in axis' %\n\u001b[1;32m-> 3624\u001b[1;33m                                  labels[mask])\n\u001b[0m\u001b[0;32m   3625\u001b[0m             \u001b[0mindexer\u001b[0m \u001b[1;33m=\u001b[0m \u001b[0mindexer\u001b[0m\u001b[1;33m[\u001b[0m\u001b[1;33m~\u001b[0m\u001b[0mmask\u001b[0m\u001b[1;33m]\u001b[0m\u001b[1;33m\u001b[0m\u001b[0m\n\u001b[0;32m   3626\u001b[0m         \u001b[1;32mreturn\u001b[0m \u001b[0mself\u001b[0m\u001b[1;33m.\u001b[0m\u001b[0mdelete\u001b[0m\u001b[1;33m(\u001b[0m\u001b[0mindexer\u001b[0m\u001b[1;33m)\u001b[0m\u001b[1;33m\u001b[0m\u001b[0m\n",
      "\u001b[1;31mValueError\u001b[0m: labels [False False False ..., False False False] not contained in axis"
     ]
    }
   ],
   "source": [
    "df.drop(df['Браузер'] == 0, inplace=True)"
   ]
  },
  {
   "cell_type": "code",
   "execution_count": 203,
   "metadata": {},
   "outputs": [
    {
     "data": {
      "text/plain": [
       "Mobile Safari                   61262\n",
       "Android Browser                 52157\n",
       "Chrome Mobile                   16727\n",
       "Google Chrome                   13268\n",
       "Яндекс.Браузер                   3562\n",
       "Firefox                          2210\n",
       "Samsung Internet                 1740\n",
       "Safari                           1606\n",
       "Opera                            1391\n",
       "MIUI                             1142\n",
       "Edge                              858\n",
       "MSIE                              397\n",
       "0                                 381\n",
       "Opera Mobile                      381\n",
       "WebKit, другие                    347\n",
       "MZBrowser                         245\n",
       "UCWEB                             239\n",
       "Яндекс: мобильное приложение      213\n",
       "Opera Mini                        204\n",
       "MSIE Mobile                       155\n",
       "Amigo                             145\n",
       "Google: мобильное приложение      144\n",
       "Firefox Mobile                     92\n",
       "Puffin                             54\n",
       "Chromium                           30\n",
       "BlackBerry                         30\n",
       "WeChat                             20\n",
       "Maxthon                            18\n",
       "CM Browser                         16\n",
       "MQQBrowser                          9\n",
       "Vivaldi                             8\n",
       "Яндекс.Браузер lite                 7\n",
       "Elements Browser                    6\n",
       "Интернет@Mail.ru                    3\n",
       "EUI                                 3\n",
       "PaleMoon                            2\n",
       "CocCoc                              2\n",
       "K-Meleon                            2\n",
       "Tizen                               1\n",
       "Iron                                1\n",
       "Яндекс.Интернет                     1\n",
       "Coast                               1\n",
       "Baidu                               1\n",
       "QtWeb                               1\n",
       "Name: Браузер, dtype: int64"
      ]
     },
     "execution_count": 203,
     "metadata": {},
     "output_type": "execute_result"
    }
   ],
   "source": [
    "df['Браузер'].value_counts()"
   ]
  },
  {
   "cell_type": "code",
   "execution_count": 201,
   "metadata": {},
   "outputs": [
    {
     "ename": "TypeError",
     "evalue": "'<' not supported between instances of 'str' and 'int'",
     "output_type": "error",
     "traceback": [
      "\u001b[1;31m---------------------------------------------------------------------------\u001b[0m",
      "\u001b[1;31mTypeError\u001b[0m                                 Traceback (most recent call last)",
      "\u001b[1;32m<ipython-input-201-0e4ef406bc49>\u001b[0m in \u001b[0;36m<module>\u001b[1;34m()\u001b[0m\n\u001b[1;32m----> 1\u001b[1;33m \u001b[0mbrowser_tab\u001b[0m \u001b[1;33m=\u001b[0m \u001b[0mpd\u001b[0m\u001b[1;33m.\u001b[0m\u001b[0mcrosstab\u001b[0m\u001b[1;33m(\u001b[0m\u001b[0mdf\u001b[0m\u001b[1;33m[\u001b[0m\u001b[1;34m'Целевые посетители'\u001b[0m\u001b[1;33m]\u001b[0m\u001b[1;33m,\u001b[0m \u001b[0mdf\u001b[0m\u001b[1;33m[\u001b[0m\u001b[1;34m'Браузер'\u001b[0m\u001b[1;33m]\u001b[0m\u001b[1;33m,\u001b[0m \u001b[0mmargins\u001b[0m\u001b[1;33m=\u001b[0m\u001b[1;32mTrue\u001b[0m\u001b[1;33m)\u001b[0m\u001b[1;33m\u001b[0m\u001b[0m\n\u001b[0m\u001b[0;32m      2\u001b[0m \u001b[0mbrowser_tab\u001b[0m\u001b[1;33m\u001b[0m\u001b[0m\n",
      "\u001b[1;32mC:\\ProgramData\\Anaconda3\\lib\\site-packages\\pandas\\core\\reshape\\pivot.py\u001b[0m in \u001b[0;36mcrosstab\u001b[1;34m(index, columns, values, rownames, colnames, aggfunc, margins, dropna, normalize)\u001b[0m\n\u001b[0;32m    491\u001b[0m         \u001b[0mdf\u001b[0m\u001b[1;33m[\u001b[0m\u001b[1;34m'__dummy__'\u001b[0m\u001b[1;33m]\u001b[0m \u001b[1;33m=\u001b[0m \u001b[1;36m0\u001b[0m\u001b[1;33m\u001b[0m\u001b[0m\n\u001b[0;32m    492\u001b[0m         table = df.pivot_table('__dummy__', index=rownames, columns=colnames,\n\u001b[1;32m--> 493\u001b[1;33m                                aggfunc=len, margins=margins, dropna=dropna)\n\u001b[0m\u001b[0;32m    494\u001b[0m         \u001b[0mtable\u001b[0m \u001b[1;33m=\u001b[0m \u001b[0mtable\u001b[0m\u001b[1;33m.\u001b[0m\u001b[0mfillna\u001b[0m\u001b[1;33m(\u001b[0m\u001b[1;36m0\u001b[0m\u001b[1;33m)\u001b[0m\u001b[1;33m.\u001b[0m\u001b[0mastype\u001b[0m\u001b[1;33m(\u001b[0m\u001b[0mnp\u001b[0m\u001b[1;33m.\u001b[0m\u001b[0mint64\u001b[0m\u001b[1;33m)\u001b[0m\u001b[1;33m\u001b[0m\u001b[0m\n\u001b[0;32m    495\u001b[0m \u001b[1;33m\u001b[0m\u001b[0m\n",
      "\u001b[1;32mC:\\ProgramData\\Anaconda3\\lib\\site-packages\\pandas\\core\\reshape\\pivot.py\u001b[0m in \u001b[0;36mpivot_table\u001b[1;34m(data, values, index, columns, aggfunc, fill_value, margins, dropna, margins_name)\u001b[0m\n\u001b[0;32m    158\u001b[0m \u001b[1;33m\u001b[0m\u001b[0m\n\u001b[0;32m    159\u001b[0m     \u001b[1;32mif\u001b[0m \u001b[0misinstance\u001b[0m\u001b[1;33m(\u001b[0m\u001b[0mtable\u001b[0m\u001b[1;33m,\u001b[0m \u001b[0mDataFrame\u001b[0m\u001b[1;33m)\u001b[0m\u001b[1;33m:\u001b[0m\u001b[1;33m\u001b[0m\u001b[0m\n\u001b[1;32m--> 160\u001b[1;33m         \u001b[0mtable\u001b[0m \u001b[1;33m=\u001b[0m \u001b[0mtable\u001b[0m\u001b[1;33m.\u001b[0m\u001b[0msort_index\u001b[0m\u001b[1;33m(\u001b[0m\u001b[0maxis\u001b[0m\u001b[1;33m=\u001b[0m\u001b[1;36m1\u001b[0m\u001b[1;33m)\u001b[0m\u001b[1;33m\u001b[0m\u001b[0m\n\u001b[0m\u001b[0;32m    161\u001b[0m \u001b[1;33m\u001b[0m\u001b[0m\n\u001b[0;32m    162\u001b[0m     \u001b[1;32mif\u001b[0m \u001b[0mfill_value\u001b[0m \u001b[1;32mis\u001b[0m \u001b[1;32mnot\u001b[0m \u001b[1;32mNone\u001b[0m\u001b[1;33m:\u001b[0m\u001b[1;33m\u001b[0m\u001b[0m\n",
      "\u001b[1;32mC:\\ProgramData\\Anaconda3\\lib\\site-packages\\pandas\\core\\frame.py\u001b[0m in \u001b[0;36msort_index\u001b[1;34m(self, axis, level, ascending, inplace, kind, na_position, sort_remaining, by)\u001b[0m\n\u001b[0;32m   3241\u001b[0m             \u001b[1;31m# make sure that the axis is lexsorted to start\u001b[0m\u001b[1;33m\u001b[0m\u001b[1;33m\u001b[0m\u001b[0m\n\u001b[0;32m   3242\u001b[0m             \u001b[1;31m# if not we need to reconstruct to get the correct indexer\u001b[0m\u001b[1;33m\u001b[0m\u001b[1;33m\u001b[0m\u001b[0m\n\u001b[1;32m-> 3243\u001b[1;33m             \u001b[0mlabels\u001b[0m \u001b[1;33m=\u001b[0m \u001b[0mlabels\u001b[0m\u001b[1;33m.\u001b[0m\u001b[0m_sort_levels_monotonic\u001b[0m\u001b[1;33m(\u001b[0m\u001b[1;33m)\u001b[0m\u001b[1;33m\u001b[0m\u001b[0m\n\u001b[0m\u001b[0;32m   3244\u001b[0m             indexer = lexsort_indexer(labels._get_labels_for_sorting(),\n\u001b[0;32m   3245\u001b[0m                                       \u001b[0morders\u001b[0m\u001b[1;33m=\u001b[0m\u001b[0mascending\u001b[0m\u001b[1;33m,\u001b[0m\u001b[1;33m\u001b[0m\u001b[0m\n",
      "\u001b[1;32mC:\\ProgramData\\Anaconda3\\lib\\site-packages\\pandas\\core\\indexes\\multi.py\u001b[0m in \u001b[0;36m_sort_levels_monotonic\u001b[1;34m(self)\u001b[0m\n\u001b[0;32m   1239\u001b[0m \u001b[1;33m\u001b[0m\u001b[0m\n\u001b[0;32m   1240\u001b[0m             \u001b[1;31m# indexer to reorder the levels\u001b[0m\u001b[1;33m\u001b[0m\u001b[1;33m\u001b[0m\u001b[0m\n\u001b[1;32m-> 1241\u001b[1;33m             \u001b[0mindexer\u001b[0m \u001b[1;33m=\u001b[0m \u001b[0mlev\u001b[0m\u001b[1;33m.\u001b[0m\u001b[0margsort\u001b[0m\u001b[1;33m(\u001b[0m\u001b[1;33m)\u001b[0m\u001b[1;33m\u001b[0m\u001b[0m\n\u001b[0m\u001b[0;32m   1242\u001b[0m             \u001b[0mlev\u001b[0m \u001b[1;33m=\u001b[0m \u001b[0mlev\u001b[0m\u001b[1;33m.\u001b[0m\u001b[0mtake\u001b[0m\u001b[1;33m(\u001b[0m\u001b[0mindexer\u001b[0m\u001b[1;33m)\u001b[0m\u001b[1;33m\u001b[0m\u001b[0m\n\u001b[0;32m   1243\u001b[0m \u001b[1;33m\u001b[0m\u001b[0m\n",
      "\u001b[1;32mC:\\ProgramData\\Anaconda3\\lib\\site-packages\\pandas\\core\\indexes\\base.py\u001b[0m in \u001b[0;36margsort\u001b[1;34m(self, *args, **kwargs)\u001b[0m\n\u001b[0;32m   2089\u001b[0m         \u001b[1;32mif\u001b[0m \u001b[0mresult\u001b[0m \u001b[1;32mis\u001b[0m \u001b[1;32mNone\u001b[0m\u001b[1;33m:\u001b[0m\u001b[1;33m\u001b[0m\u001b[0m\n\u001b[0;32m   2090\u001b[0m             \u001b[0mresult\u001b[0m \u001b[1;33m=\u001b[0m \u001b[0mnp\u001b[0m\u001b[1;33m.\u001b[0m\u001b[0marray\u001b[0m\u001b[1;33m(\u001b[0m\u001b[0mself\u001b[0m\u001b[1;33m)\u001b[0m\u001b[1;33m\u001b[0m\u001b[0m\n\u001b[1;32m-> 2091\u001b[1;33m         \u001b[1;32mreturn\u001b[0m \u001b[0mresult\u001b[0m\u001b[1;33m.\u001b[0m\u001b[0margsort\u001b[0m\u001b[1;33m(\u001b[0m\u001b[1;33m*\u001b[0m\u001b[0margs\u001b[0m\u001b[1;33m,\u001b[0m \u001b[1;33m**\u001b[0m\u001b[0mkwargs\u001b[0m\u001b[1;33m)\u001b[0m\u001b[1;33m\u001b[0m\u001b[0m\n\u001b[0m\u001b[0;32m   2092\u001b[0m \u001b[1;33m\u001b[0m\u001b[0m\n\u001b[0;32m   2093\u001b[0m     \u001b[1;32mdef\u001b[0m \u001b[0m__add__\u001b[0m\u001b[1;33m(\u001b[0m\u001b[0mself\u001b[0m\u001b[1;33m,\u001b[0m \u001b[0mother\u001b[0m\u001b[1;33m)\u001b[0m\u001b[1;33m:\u001b[0m\u001b[1;33m\u001b[0m\u001b[0m\n",
      "\u001b[1;31mTypeError\u001b[0m: '<' not supported between instances of 'str' and 'int'"
     ]
    }
   ],
   "source": [
    "browser_tab = pd.crosstab(df['Целевые посетители'], df['Браузер'], margins=True)\n",
    "browser_tab"
   ]
  },
  {
   "cell_type": "code",
   "execution_count": 192,
   "metadata": {},
   "outputs": [
    {
     "ename": "NameError",
     "evalue": "name 'browser_tab' is not defined",
     "output_type": "error",
     "traceback": [
      "\u001b[1;31m---------------------------------------------------------------------------\u001b[0m",
      "\u001b[1;31mNameError\u001b[0m                                 Traceback (most recent call last)",
      "\u001b[1;32m<ipython-input-192-88e421f61650>\u001b[0m in \u001b[0;36m<module>\u001b[1;34m()\u001b[0m\n\u001b[0;32m      1\u001b[0m \u001b[0mbrowser_dict\u001b[0m \u001b[1;33m=\u001b[0m \u001b[1;33m{\u001b[0m\u001b[1;33m}\u001b[0m\u001b[1;33m\u001b[0m\u001b[0m\n\u001b[1;32m----> 2\u001b[1;33m \u001b[1;32mfor\u001b[0m \u001b[0mbr\u001b[0m \u001b[1;32min\u001b[0m \u001b[0mlist\u001b[0m\u001b[1;33m(\u001b[0m\u001b[0mbrowser_tab\u001b[0m\u001b[1;33m.\u001b[0m\u001b[0mcolumns\u001b[0m\u001b[1;33m.\u001b[0m\u001b[0mvalues\u001b[0m\u001b[1;33m)\u001b[0m\u001b[1;33m:\u001b[0m\u001b[1;33m\u001b[0m\u001b[0m\n\u001b[0m\u001b[0;32m      3\u001b[0m     \u001b[0mconv\u001b[0m \u001b[1;33m=\u001b[0m \u001b[0mround\u001b[0m\u001b[1;33m(\u001b[0m\u001b[0mbrowser_tab\u001b[0m\u001b[1;33m[\u001b[0m\u001b[0mbr\u001b[0m\u001b[1;33m]\u001b[0m\u001b[1;33m[\u001b[0m\u001b[1;36m1\u001b[0m\u001b[1;33m]\u001b[0m\u001b[1;33m/\u001b[0m\u001b[0mbrowser_tab\u001b[0m\u001b[1;33m[\u001b[0m\u001b[0mbr\u001b[0m\u001b[1;33m]\u001b[0m\u001b[1;33m[\u001b[0m\u001b[1;34m'All'\u001b[0m\u001b[1;33m]\u001b[0m\u001b[1;33m,\u001b[0m\u001b[1;36m4\u001b[0m\u001b[1;33m)\u001b[0m\u001b[1;33m*\u001b[0m\u001b[1;36m100\u001b[0m\u001b[1;33m\u001b[0m\u001b[0m\n\u001b[0;32m      4\u001b[0m     \u001b[0mbrowser_dict\u001b[0m\u001b[1;33m[\u001b[0m\u001b[0mconv\u001b[0m\u001b[1;33m]\u001b[0m \u001b[1;33m=\u001b[0m \u001b[0mbr\u001b[0m\u001b[1;33m\u001b[0m\u001b[0m\n\u001b[0;32m      5\u001b[0m \u001b[1;33m\u001b[0m\u001b[0m\n",
      "\u001b[1;31mNameError\u001b[0m: name 'browser_tab' is not defined"
     ]
    }
   ],
   "source": [
    "browser_dict = {}\n",
    "for br in list(browser_tab.columns.values):\n",
    "    conv = round(browser_tab[br][1]/browser_tab[br]['All'],4)*100\n",
    "    browser_dict[conv] = br\n",
    "    \n",
    "for conv in sorted(browser_dict.keys(), reverse=True):\n",
    "    if(browser_dict[conv] != 'All'):\n",
    "        print('{}: {}%'.format(browser_dict[conv], conv))    "
   ]
  },
  {
   "cell_type": "markdown",
   "metadata": {},
   "source": [
    "Пока что можно еще раз убедиться, что посетители, использующие мобильные технологии (особенно заметно на браузерах) более склонны к выполнению целевых действий. Это может говорить о том, что пользоваться сайтом с телефона немного удобнее, чем с десктопа и опять же, хотя непосредственно к конечной задаче это отношения не имеет, но **вывод крайне важный вцелом для работы над проектом - нужно тщательнее работать с сайтом.**"
   ]
  },
  {
   "cell_type": "markdown",
   "metadata": {},
   "source": [
    "### Возраст\n"
   ]
  },
  {
   "cell_type": "markdown",
   "metadata": {},
   "source": [
    "А теперь посмотрим на признак Возраст. И здесь нас ждёт много интересного. Ну во-первых, есть совсем \"плохие\" возраста. Например видно, что за 1,5 месяца ни один человек в возрасте 47 лет не оставил заявку на сайте. Но на самом деле трудно себе представить, что женщины в 47 лет внезапно осознают, что они никогда не закажут натяжные потолки на таких сайтах как наш. И скорее тут все-таки мало статистики. \n",
    "\n",
    "Во-вторых, в повседневной практике принято смотреть распределения целевого признака не по каждому значению возраста, а по некоторым диапазонам. То есть можно сделать новые признаки: диапазоны по 2,3,4 и 5 лет и посмотреть на результаты. И интерпретируемость у таких признаков горзадо лучше, потому что рекламные платформы позволяют настраивать в таргетингах как раз диапазоны возрастов. \n",
    "\n",
    "** Тоже запомним на будущее, что неплохо было бы проверить модель на новых признаках - диапазонах возрастов.**"
   ]
  },
  {
   "cell_type": "code",
   "execution_count": 20,
   "metadata": {},
   "outputs": [
    {
     "ename": "ValueError",
     "evalue": "Could not interpret input 'Возраст'",
     "output_type": "error",
     "traceback": [
      "\u001b[1;31m---------------------------------------------------------------------------\u001b[0m",
      "\u001b[1;31mValueError\u001b[0m                                Traceback (most recent call last)",
      "\u001b[1;32m<ipython-input-20-189fd5acee55>\u001b[0m in \u001b[0;36m<module>\u001b[1;34m()\u001b[0m\n\u001b[0;32m      1\u001b[0m \u001b[0mrcParams\u001b[0m\u001b[1;33m[\u001b[0m\u001b[1;34m'figure.figsize'\u001b[0m\u001b[1;33m]\u001b[0m \u001b[1;33m=\u001b[0m \u001b[1;36m12\u001b[0m\u001b[1;33m,\u001b[0m \u001b[1;36m10\u001b[0m\u001b[1;33m\u001b[0m\u001b[0m\n\u001b[1;32m----> 2\u001b[1;33m \u001b[0msns\u001b[0m\u001b[1;33m.\u001b[0m\u001b[0mcountplot\u001b[0m\u001b[1;33m(\u001b[0m\u001b[0mx\u001b[0m\u001b[1;33m=\u001b[0m\u001b[1;34m'Возраст'\u001b[0m\u001b[1;33m,\u001b[0m \u001b[0mhue\u001b[0m\u001b[1;33m=\u001b[0m\u001b[1;34m'Целевые посетители'\u001b[0m\u001b[1;33m,\u001b[0m \u001b[0mdata\u001b[0m\u001b[1;33m=\u001b[0m\u001b[0mdf\u001b[0m\u001b[1;33m)\u001b[0m\u001b[1;33m;\u001b[0m\u001b[1;33m\u001b[0m\u001b[0m\n\u001b[0m",
      "\u001b[1;32mC:\\ProgramData\\Anaconda3\\lib\\site-packages\\seaborn\\categorical.py\u001b[0m in \u001b[0;36mcountplot\u001b[1;34m(x, y, hue, data, order, hue_order, orient, color, palette, saturation, dodge, ax, **kwargs)\u001b[0m\n\u001b[0;32m   3338\u001b[0m                           \u001b[0mestimator\u001b[0m\u001b[1;33m,\u001b[0m \u001b[0mci\u001b[0m\u001b[1;33m,\u001b[0m \u001b[0mn_boot\u001b[0m\u001b[1;33m,\u001b[0m \u001b[0munits\u001b[0m\u001b[1;33m,\u001b[0m\u001b[1;33m\u001b[0m\u001b[0m\n\u001b[0;32m   3339\u001b[0m                           \u001b[0morient\u001b[0m\u001b[1;33m,\u001b[0m \u001b[0mcolor\u001b[0m\u001b[1;33m,\u001b[0m \u001b[0mpalette\u001b[0m\u001b[1;33m,\u001b[0m \u001b[0msaturation\u001b[0m\u001b[1;33m,\u001b[0m\u001b[1;33m\u001b[0m\u001b[0m\n\u001b[1;32m-> 3340\u001b[1;33m                           errcolor, errwidth, capsize, dodge)\n\u001b[0m\u001b[0;32m   3341\u001b[0m \u001b[1;33m\u001b[0m\u001b[0m\n\u001b[0;32m   3342\u001b[0m     \u001b[0mplotter\u001b[0m\u001b[1;33m.\u001b[0m\u001b[0mvalue_label\u001b[0m \u001b[1;33m=\u001b[0m \u001b[1;34m\"count\"\u001b[0m\u001b[1;33m\u001b[0m\u001b[0m\n",
      "\u001b[1;32mC:\\ProgramData\\Anaconda3\\lib\\site-packages\\seaborn\\categorical.py\u001b[0m in \u001b[0;36m__init__\u001b[1;34m(self, x, y, hue, data, order, hue_order, estimator, ci, n_boot, units, orient, color, palette, saturation, errcolor, errwidth, capsize, dodge)\u001b[0m\n\u001b[0;32m   1584\u001b[0m         \u001b[1;34m\"\"\"Initialize the plotter.\"\"\"\u001b[0m\u001b[1;33m\u001b[0m\u001b[0m\n\u001b[0;32m   1585\u001b[0m         self.establish_variables(x, y, hue, data, orient,\n\u001b[1;32m-> 1586\u001b[1;33m                                  order, hue_order, units)\n\u001b[0m\u001b[0;32m   1587\u001b[0m         \u001b[0mself\u001b[0m\u001b[1;33m.\u001b[0m\u001b[0mestablish_colors\u001b[0m\u001b[1;33m(\u001b[0m\u001b[0mcolor\u001b[0m\u001b[1;33m,\u001b[0m \u001b[0mpalette\u001b[0m\u001b[1;33m,\u001b[0m \u001b[0msaturation\u001b[0m\u001b[1;33m)\u001b[0m\u001b[1;33m\u001b[0m\u001b[0m\n\u001b[0;32m   1588\u001b[0m         \u001b[0mself\u001b[0m\u001b[1;33m.\u001b[0m\u001b[0mestimate_statistic\u001b[0m\u001b[1;33m(\u001b[0m\u001b[0mestimator\u001b[0m\u001b[1;33m,\u001b[0m \u001b[0mci\u001b[0m\u001b[1;33m,\u001b[0m \u001b[0mn_boot\u001b[0m\u001b[1;33m)\u001b[0m\u001b[1;33m\u001b[0m\u001b[0m\n",
      "\u001b[1;32mC:\\ProgramData\\Anaconda3\\lib\\site-packages\\seaborn\\categorical.py\u001b[0m in \u001b[0;36mestablish_variables\u001b[1;34m(self, x, y, hue, data, orient, order, hue_order, units)\u001b[0m\n\u001b[0;32m    149\u001b[0m                 \u001b[1;32mif\u001b[0m \u001b[0misinstance\u001b[0m\u001b[1;33m(\u001b[0m\u001b[0minput\u001b[0m\u001b[1;33m,\u001b[0m \u001b[0mstring_types\u001b[0m\u001b[1;33m)\u001b[0m\u001b[1;33m:\u001b[0m\u001b[1;33m\u001b[0m\u001b[0m\n\u001b[0;32m    150\u001b[0m                     \u001b[0merr\u001b[0m \u001b[1;33m=\u001b[0m \u001b[1;34m\"Could not interpret input '{}'\"\u001b[0m\u001b[1;33m.\u001b[0m\u001b[0mformat\u001b[0m\u001b[1;33m(\u001b[0m\u001b[0minput\u001b[0m\u001b[1;33m)\u001b[0m\u001b[1;33m\u001b[0m\u001b[0m\n\u001b[1;32m--> 151\u001b[1;33m                     \u001b[1;32mraise\u001b[0m \u001b[0mValueError\u001b[0m\u001b[1;33m(\u001b[0m\u001b[0merr\u001b[0m\u001b[1;33m)\u001b[0m\u001b[1;33m\u001b[0m\u001b[0m\n\u001b[0m\u001b[0;32m    152\u001b[0m \u001b[1;33m\u001b[0m\u001b[0m\n\u001b[0;32m    153\u001b[0m             \u001b[1;31m# Figure out the plotting orientation\u001b[0m\u001b[1;33m\u001b[0m\u001b[1;33m\u001b[0m\u001b[0m\n",
      "\u001b[1;31mValueError\u001b[0m: Could not interpret input 'Возраст'"
     ]
    }
   ],
   "source": [
    "rcParams['figure.figsize'] = 12, 10\n",
    "sns.countplot(x='Возраст', hue='Целевые посетители', data=df);"
   ]
  },
  {
   "cell_type": "markdown",
   "metadata": {},
   "source": [
    "### Объявление"
   ]
  },
  {
   "cell_type": "markdown",
   "metadata": {},
   "source": [
    "Одним из важнейшних параметров рекламной кампании является рекламное объявление. Давайте посмотрим, как то или иное объявление влияет на целевой признак\n"
   ]
  },
  {
   "cell_type": "code",
   "execution_count": 26,
   "metadata": {},
   "outputs": [
    {
     "data": {
      "image/png": "[encoded data removed]",
      "text/plain": [
       "<matplotlib.figure.Figure at 0xc4f7cc0>"
      ]
     },
     "metadata": {},
     "output_type": "display_data"
    }
   ],
   "source": [
    "rcParams['figure.figsize'] = 18, 15\n",
    "p = sns.countplot(x='Объявление', hue='Достижение цели', data=df);\n",
    "p.set_xticklabels(labels = df['Объявление'], rotation=90);"
   ]
  },
  {
   "cell_type": "markdown",
   "metadata": {},
   "source": [
    "Здесь у нас очень много \"мусора\". Во время тестирования кампаний было создано много объявлений, часть из них показывалась непродолжительное количество времени, потому что эти объявления имели плохие показатели кликабельности и из-за этого стоимость привлечения посетителей была неконкурентной. Их мы хорошо видим на графике. Также есть объявления, переходы с которых, при количестве до 50!, не привели к достижению ни одного целевого действия.\n",
    "Давайте ради интереса расчитаем конверсию сайта относительно каждого из объявлений! И сразу отсортируем результаты по убыванию конверсии\n"
   ]
  },
  {
   "cell_type": "code",
   "execution_count": 27,
   "metadata": {},
   "outputs": [
    {
     "name": "stdout",
     "output_type": "stream",
     "text": [
      "29071644: 8.7%\n",
      "29072096: 8.33%\n",
      "29071649: 7.140000000000001%\n",
      "29072170: 6.67%\n",
      "29108574: 5.75%\n",
      "28728134: 5.13%\n",
      "29108569: 5.0%\n",
      "29270212: 4.37%\n",
      "28728200: 4.17%\n",
      "28728194: 4.08%\n",
      "28728192: 3.37%\n",
      "29270203: 2.82%\n",
      "29100965: 2.7%\n",
      "29270215: 2.64%\n",
      "29270226: 1.5599999999999998%\n",
      "29108577: 1.4500000000000002%\n",
      "28728143: 1.41%\n",
      "29230703: 0.0%\n"
     ]
    }
   ],
   "source": [
    "ads_tab = pd.crosstab(df['Достижение цели'], df['Объявление'], margins=True)\n",
    "ads_dict ={}\n",
    "for ad in list(ads_tab.columns.values):\n",
    "    conv = round(ads_tab[ad][1]/ads_tab[ad]['All'],4)*100\n",
    "    ads_dict[conv] = ad\n",
    "    \n",
    "for conv in sorted(ads_dict.keys(), reverse=True):\n",
    "    if(ads_dict[conv] != 'All'):\n",
    "        print('{}: {}%'.format(ads_dict[conv], conv))        "
   ]
  },
  {
   "cell_type": "markdown",
   "metadata": {},
   "source": [
    "** Сразу выделяются объвяления, переходы по которым дали конверсию почти до 9%!!! И напротив уже видно, какие объявления показывают крайне низкую эффективность **"
   ]
  },
  {
   "cell_type": "markdown",
   "metadata": {},
   "source": [
    "#### Подведем итоги\n",
    "\n",
    "Так как у нас всего один числовой признак - возраст, то строить матрицу корелляций просто не с чем. Поэтому на перечисленном выше предварительный анализ данных можно считать оконченым.\n",
    "\n",
    "На самом деле такой первичный анализ взаимосвязи признаков и в частности зависимоти целевого признака от прочих - это базовая функциональность любой системы аналитики и ,как уже было сказано, фундаметальная задача специалиста по интернет-рекламе - как раз поиск весомых признаков с помощью систем аналитики. Мы же проделали ту же самую работу но уже с помощью Pandas"
   ]
  },
  {
   "cell_type": "markdown",
   "metadata": {},
   "source": [
    "### 4. Найденные зависимости"
   ]
  },
  {
   "cell_type": "markdown",
   "metadata": {},
   "source": [
    "Предварительный анализ показывает, что вцелом посетители с мобильных устройств в 1,5 раза чаще оставляют заявки на сайте! Если подробнее проанализировать операционные системы, с которых заходили пользователи и браузеры, то видно, что процент конверсии растёт еще сильнее для некоторых значений этих признаков:\n",
    "\n",
    "** Например каждый 20й пользователь Android Browser на смартфонах с Android оставляет заявку на сайте. **"
   ]
  },
  {
   "cell_type": "code",
   "execution_count": 28,
   "metadata": {},
   "outputs": [
    {
     "name": "stdout",
     "output_type": "stream",
     "text": [
      "Конверсия сайта: 5.3%\n"
     ]
    }
   ],
   "source": [
    "counts = df[(df['Мобильность'] == 1) & (df['Браузер'] == 'Android Browser')]['Достижение цели'].value_counts()\n",
    "print(\"Конверсия сайта: {}%\".format(round(counts[1]/counts[0], 3) * 100))\n"
   ]
  },
  {
   "cell_type": "markdown",
   "metadata": {},
   "source": [
    "Очень интересную картину можно получить посмотрев на возраст. Мы решили, что **неплохо будет в перспективе проверить модель на новых признаках - диапазонах возрастов**, которые мы получим во время предобработки данных\n",
    "\n",
    "Также сразу выделяются **объвяления, переходы по которым дали конверсию почти до 9%!!!** И напротив уже видно, какие объявления показывают крайне низкую эффективность\n",
    "\n",
    "Помимо параметров рекламной кампании удалось получить даже информацию о сайте!!!\n",
    "Мы выяснили, что высокая **Отказность - сигнал о том, что нужно лучше работать над сайтом!**. При этом Показатель отказов, как признак, надо исключить. Также как анализ ОС и Браузеров показал, что по видимому **пользоваться сайтом с телефона немного удобнее, чем с десктопа.** \n",
    "\n",
    "### Вцелом мы получили набор некоторых признаков, которые уже можно использовать для повышения эффективности рекламной кампании"
   ]
  },
  {
   "cell_type": "markdown",
   "metadata": {},
   "source": [
    "### 5. Выбор метрики"
   ]
  },
  {
   "cell_type": "markdown",
   "metadata": {},
   "source": [
    "Для задач бинарной классификации существует несколько метрик качества, но не все из них нам подходят.\n",
    "\n",
    "** Доля правильных ответов (Accuracy) ** - не подходит, потому что в случае с дисбалансом классов оказывается совершенно бесполезным показтелем\n",
    "\n",
    "** Функция логистических потерь (LogLoss) ** - не подходит, потому что крайне сильно штрафует модель за уверенность классификатора в неверном ответе.\n",
    "\n",
    "** Полнота (Recall), Точность (Precision), F-мера ** - подходят, потому что совершенно не зависят от соотношения классов в выборке, но требуют выбора конретного порога для отнесения объекта к тому или иному классу. \n",
    "\n",
    "В случае, когда хочется оценить модель без привязки на данный момент к какому-то порогу, обычно используется ** Площадь под ROC кривой (ROC-AUC) **, но эта метрика сильно зависит от соотношения классов в выборке. Если положительный класс существенно меньше по размеру, то AUC-ROC может давать неадекватную оценку качества работы алгоритма, поскольку измеряет долю неверно принятых объектов относительно общего числа отрицательных.\n",
    "\n",
    "Избавиться от указанной проблемы с несбалансированными классами можно, перейдя от ROC-кривой к **Precision-Recall кривой**. Она определяется аналогично ROC-кривой, только по осям откладываются не FPR и TPR, а полнота (по оси абсцисс) и точность (по оси ординат)\n",
    "\n",
    "Этой метрикой мы и будем пользоваться. Но она к сожалению не реализована в пакете sklearn. Поэтому напишем функцию для вычисления этой метрики сами:"
   ]
  },
  {
   "cell_type": "code",
   "execution_count": 285,
   "metadata": {
    "collapsed": true
   },
   "outputs": [],
   "source": [
    "def pr_auc_score (y_true, y_pred):\n",
    "    precision, recall, thresholds = precision_recall_curve(y_true, y_pred)    \n",
    "    return auc(precision, recall)"
   ]
  },
  {
   "cell_type": "markdown",
   "metadata": {},
   "source": [
    "### 6. Выбор модели\n"
   ]
  },
  {
   "cell_type": "markdown",
   "metadata": {},
   "source": [
    "Выбор модели мы будем проводить отталкиваясь от конечной цели задачи. В нашем случае нам нужно получить количественные показатели важности признаков.\n",
    "\n",
    "Линейные модели нам не очень подойдут, потому что возникнут проблемы с интерпретируемостью коэффициентов. В самом деле, для линейных моделей признаки придется бинаризировать и в итоге мы получим коэффициенты для сотен бинарных признаков, в то время как нам нужно знать вклад каждого исходного признака.\n",
    "\n",
    "В нашей задаче признаков немного и выборка небольшая, поэтому мы можем обратить внимание на бустинг. По опыту работы с категориальными признаками очень хорошо показала себя модель CatBoost. В нашей задаче почти все, кроме одного, признаки - категориальные. И дальше мы будем добавлять новые категориальные признаки на основе уже имеющихся.\n",
    "\n",
    "В дополнение к уже сказанному, CatBoost позволяет получить напрямую значения важности для каждогого признака"
   ]
  },
  {
   "cell_type": "markdown",
   "metadata": {},
   "source": [
    "### 7. Предобработка данных"
   ]
  },
  {
   "cell_type": "markdown",
   "metadata": {},
   "source": [
    "Для начала удалим из датасета признак \"Отказность\", т.к. он является заведомо сильным признаком, но при этом никаким образом не является настраеваемым параметром рекламной кампании.\n",
    "\n",
    "Также удалим Дату и время визита, т.к. без генерирование на его основе новых признаков, сам по себе этот признак не особо информативен. Позже мы, как уже было сказано, будем из него получать новые признаки.\n",
    "\n",
    "Посмотрим на пропуски в данных. В пункте 2 мы уже обсуждали пропуски. Видно, что у нас есть два объекта, для которых не описана большая часть признаков. Полагаю, что правильнее было бы удалить эти объекты."
   ]
  },
  {
   "cell_type": "code",
   "execution_count": 399,
   "metadata": {
    "collapsed": true
   },
   "outputs": [],
   "source": [
    "df.drop('Отказность', axis = 1, inplace = True)\n",
    "df.drop('Дата и время визита', axis = 1, inplace = True)"
   ]
  },
  {
   "cell_type": "code",
   "execution_count": 431,
   "metadata": {},
   "outputs": [
    {
     "ename": "ValueError",
     "evalue": "labels ['Глубина просмотра'] not contained in axis",
     "output_type": "error",
     "traceback": [
      "\u001b[1;31m---------------------------------------------------------------------------\u001b[0m",
      "\u001b[1;31mValueError\u001b[0m                                Traceback (most recent call last)",
      "\u001b[1;32m<ipython-input-431-9077cc0766b8>\u001b[0m in \u001b[0;36m<module>\u001b[1;34m()\u001b[0m\n\u001b[1;32m----> 1\u001b[1;33m \u001b[0mdf\u001b[0m\u001b[1;33m.\u001b[0m\u001b[0mdrop\u001b[0m\u001b[1;33m(\u001b[0m\u001b[1;34m'Глубина просмотра'\u001b[0m\u001b[1;33m,\u001b[0m \u001b[0maxis\u001b[0m \u001b[1;33m=\u001b[0m \u001b[1;36m1\u001b[0m\u001b[1;33m,\u001b[0m \u001b[0minplace\u001b[0m \u001b[1;33m=\u001b[0m \u001b[1;32mTrue\u001b[0m\u001b[1;33m)\u001b[0m\u001b[1;33m\u001b[0m\u001b[0m\n\u001b[0m",
      "\u001b[1;32mC:\\Anaconda\\lib\\site-packages\\pandas\\core\\generic.py\u001b[0m in \u001b[0;36mdrop\u001b[1;34m(self, labels, axis, level, inplace, errors)\u001b[0m\n\u001b[0;32m   2159\u001b[0m                 \u001b[0mnew_axis\u001b[0m \u001b[1;33m=\u001b[0m \u001b[0maxis\u001b[0m\u001b[1;33m.\u001b[0m\u001b[0mdrop\u001b[0m\u001b[1;33m(\u001b[0m\u001b[0mlabels\u001b[0m\u001b[1;33m,\u001b[0m \u001b[0mlevel\u001b[0m\u001b[1;33m=\u001b[0m\u001b[0mlevel\u001b[0m\u001b[1;33m,\u001b[0m \u001b[0merrors\u001b[0m\u001b[1;33m=\u001b[0m\u001b[0merrors\u001b[0m\u001b[1;33m)\u001b[0m\u001b[1;33m\u001b[0m\u001b[0m\n\u001b[0;32m   2160\u001b[0m             \u001b[1;32melse\u001b[0m\u001b[1;33m:\u001b[0m\u001b[1;33m\u001b[0m\u001b[0m\n\u001b[1;32m-> 2161\u001b[1;33m                 \u001b[0mnew_axis\u001b[0m \u001b[1;33m=\u001b[0m \u001b[0maxis\u001b[0m\u001b[1;33m.\u001b[0m\u001b[0mdrop\u001b[0m\u001b[1;33m(\u001b[0m\u001b[0mlabels\u001b[0m\u001b[1;33m,\u001b[0m \u001b[0merrors\u001b[0m\u001b[1;33m=\u001b[0m\u001b[0merrors\u001b[0m\u001b[1;33m)\u001b[0m\u001b[1;33m\u001b[0m\u001b[0m\n\u001b[0m\u001b[0;32m   2162\u001b[0m             \u001b[0mdropped\u001b[0m \u001b[1;33m=\u001b[0m \u001b[0mself\u001b[0m\u001b[1;33m.\u001b[0m\u001b[0mreindex\u001b[0m\u001b[1;33m(\u001b[0m\u001b[1;33m**\u001b[0m\u001b[1;33m{\u001b[0m\u001b[0maxis_name\u001b[0m\u001b[1;33m:\u001b[0m \u001b[0mnew_axis\u001b[0m\u001b[1;33m}\u001b[0m\u001b[1;33m)\u001b[0m\u001b[1;33m\u001b[0m\u001b[0m\n\u001b[0;32m   2163\u001b[0m             \u001b[1;32mtry\u001b[0m\u001b[1;33m:\u001b[0m\u001b[1;33m\u001b[0m\u001b[0m\n",
      "\u001b[1;32mC:\\Anaconda\\lib\\site-packages\\pandas\\core\\indexes\\base.py\u001b[0m in \u001b[0;36mdrop\u001b[1;34m(self, labels, errors)\u001b[0m\n\u001b[0;32m   3622\u001b[0m             \u001b[1;32mif\u001b[0m \u001b[0merrors\u001b[0m \u001b[1;33m!=\u001b[0m \u001b[1;34m'ignore'\u001b[0m\u001b[1;33m:\u001b[0m\u001b[1;33m\u001b[0m\u001b[0m\n\u001b[0;32m   3623\u001b[0m                 raise ValueError('labels %s not contained in axis' %\n\u001b[1;32m-> 3624\u001b[1;33m                                  labels[mask])\n\u001b[0m\u001b[0;32m   3625\u001b[0m             \u001b[0mindexer\u001b[0m \u001b[1;33m=\u001b[0m \u001b[0mindexer\u001b[0m\u001b[1;33m[\u001b[0m\u001b[1;33m~\u001b[0m\u001b[0mmask\u001b[0m\u001b[1;33m]\u001b[0m\u001b[1;33m\u001b[0m\u001b[0m\n\u001b[0;32m   3626\u001b[0m         \u001b[1;32mreturn\u001b[0m \u001b[0mself\u001b[0m\u001b[1;33m.\u001b[0m\u001b[0mdelete\u001b[0m\u001b[1;33m(\u001b[0m\u001b[0mindexer\u001b[0m\u001b[1;33m)\u001b[0m\u001b[1;33m\u001b[0m\u001b[0m\n",
      "\u001b[1;31mValueError\u001b[0m: labels ['Глубина просмотра'] not contained in axis"
     ]
    }
   ],
   "source": [
    "df.drop('Глубина просмотра', axis = 1, inplace = True)"
   ]
  },
  {
   "cell_type": "code",
   "execution_count": 456,
   "metadata": {
    "collapsed": true
   },
   "outputs": [],
   "source": [
    "df= df.dropna()\n",
    "df.info?"
   ]
  },
  {
   "cell_type": "markdown",
   "metadata": {},
   "source": [
    "Примерно половина признаков - категориальные. Как уже было сказано заранее, мы не будем их бинаризировать, а будем использовать модель, хорошо работающую именно с категориальными признаками"
   ]
  },
  {
   "cell_type": "markdown",
   "metadata": {},
   "source": [
    "Разобьем наши данные на обучающую и отложенную выборки, при этом явно укажем, что нам нужна стратификация по целевому признаку, т.к. в нашей задаче мы имеем сильный дисбаланс классов"
   ]
  },
  {
   "cell_type": "code",
   "execution_count": 433,
   "metadata": {
    "collapsed": true
   },
   "outputs": [],
   "source": [
    "#y = df['Достижение цели']\n",
    "#df.drop('Достижение цели', axis = 1, inplace = True)\n",
    "X_train, X_valid, y_train, y_valid = train_test_split(df, y, test_size=0.3, stratify=y, random_state=17)"
   ]
  },
  {
   "cell_type": "markdown",
   "metadata": {},
   "source": [
    "### 8. Кросс-валидация и настройка гиперпараметров модели "
   ]
  },
  {
   "cell_type": "markdown",
   "metadata": {},
   "source": [
    "Сохраним в отдельный список индексы категориальных признаков. И дополнительно вручную добавим туда второй признак \"Объявление\", потому что он тоже категориальный, хотя и является числом (id объявления)"
   ]
  },
  {
   "cell_type": "code",
   "execution_count": 459,
   "metadata": {
    "collapsed": true
   },
   "outputs": [],
   "source": [
    "cat_features_idx = np.where(X_train.dtypes == 'object')[0].tolist()\n",
    "cat_features_idx.append(1)\n",
    "skf = StratifiedKFold(n_splits=3, shuffle=True)\n",
    "ctb = CatBoostClassifier(random_seed=17)"
   ]
  },
  {
   "cell_type": "code",
   "execution_count": 460,
   "metadata": {},
   "outputs": [
    {
     "name": "stdout",
     "output_type": "stream",
     "text": [
      "0:\tlearn: 0.6439830\ttotal: 59ms\tremaining: 58.9s\n",
      "1:\tlearn: 0.5992283\ttotal: 104ms\tremaining: 52s\n",
      "2:\tlearn: 0.5582747\ttotal: 122ms\tremaining: 40.6s\n",
      "3:\tlearn: 0.5209930\ttotal: 142ms\tremaining: 35.4s\n",
      "4:\tlearn: 0.4866405\ttotal: 164ms\tremaining: 32.6s\n",
      "5:\tlearn: 0.4557647\ttotal: 197ms\tremaining: 32.6s\n",
      "6:\tlearn: 0.4273160\ttotal: 212ms\tremaining: 30s\n",
      "7:\tlearn: 0.4016336\ttotal: 230ms\tremaining: 28.6s\n",
      "8:\tlearn: 0.3781430\ttotal: 245ms\tremaining: 27s\n",
      "9:\tlearn: 0.3568359\ttotal: 251ms\tremaining: 24.9s\n",
      "10:\tlearn: 0.3374313\ttotal: 268ms\tremaining: 24.1s\n",
      "11:\tlearn: 0.3033605\ttotal: 297ms\tremaining: 24.4s\n",
      "12:\tlearn: 0.2724825\ttotal: 326ms\tremaining: 24.8s\n",
      "13:\tlearn: 0.2492850\ttotal: 353ms\tremaining: 24.9s\n",
      "14:\tlearn: 0.2260470\ttotal: 368ms\tremaining: 24.2s\n",
      "15:\tlearn: 0.2064067\ttotal: 401ms\tremaining: 24.7s\n",
      "16:\tlearn: 0.1929804\ttotal: 425ms\tremaining: 24.5s\n",
      "17:\tlearn: 0.1772210\ttotal: 455ms\tremaining: 24.8s\n",
      "18:\tlearn: 0.1649002\ttotal: 483ms\tremaining: 25s\n",
      "19:\tlearn: 0.1551063\ttotal: 520ms\tremaining: 25.5s\n",
      "20:\tlearn: 0.1446683\ttotal: 554ms\tremaining: 25.8s\n",
      "21:\tlearn: 0.1353007\ttotal: 588ms\tremaining: 26.2s\n",
      "22:\tlearn: 0.1270238\ttotal: 612ms\tremaining: 26s\n",
      "23:\tlearn: 0.1199541\ttotal: 631ms\tremaining: 25.7s\n",
      "24:\tlearn: 0.1142405\ttotal: 663ms\tremaining: 25.8s\n",
      "25:\tlearn: 0.1083564\ttotal: 689ms\tremaining: 25.8s\n",
      "26:\tlearn: 0.1051103\ttotal: 702ms\tremaining: 25.3s\n",
      "27:\tlearn: 0.1010122\ttotal: 736ms\tremaining: 25.5s\n",
      "28:\tlearn: 0.0973204\ttotal: 772ms\tremaining: 25.8s\n",
      "29:\tlearn: 0.0964010\ttotal: 779ms\tremaining: 25.2s\n",
      "30:\tlearn: 0.0955463\ttotal: 786ms\tremaining: 24.6s\n",
      "31:\tlearn: 0.0922148\ttotal: 821ms\tremaining: 24.8s\n",
      "32:\tlearn: 0.0915436\ttotal: 828ms\tremaining: 24.3s\n",
      "33:\tlearn: 0.0894785\ttotal: 842ms\tremaining: 23.9s\n",
      "34:\tlearn: 0.0868245\ttotal: 877ms\tremaining: 24.2s\n",
      "35:\tlearn: 0.0843650\ttotal: 902ms\tremaining: 24.1s\n",
      "36:\tlearn: 0.0826527\ttotal: 917ms\tremaining: 23.9s\n",
      "37:\tlearn: 0.0803644\ttotal: 957ms\tremaining: 24.2s\n",
      "38:\tlearn: 0.0785656\ttotal: 995ms\tremaining: 24.5s\n",
      "39:\tlearn: 0.0783260\ttotal: 1s\tremaining: 24s\n",
      "40:\tlearn: 0.0766682\ttotal: 1.04s\tremaining: 24.3s\n",
      "41:\tlearn: 0.0755849\ttotal: 1.07s\tremaining: 24.4s\n",
      "42:\tlearn: 0.0741591\ttotal: 1.1s\tremaining: 24.6s\n",
      "43:\tlearn: 0.0740195\ttotal: 1.11s\tremaining: 24.1s\n",
      "44:\tlearn: 0.0726621\ttotal: 1.15s\tremaining: 24.4s\n",
      "45:\tlearn: 0.0715626\ttotal: 1.19s\tremaining: 24.6s\n",
      "46:\tlearn: 0.0705181\ttotal: 1.22s\tremaining: 24.8s\n",
      "47:\tlearn: 0.0695787\ttotal: 1.25s\tremaining: 24.8s\n",
      "48:\tlearn: 0.0684630\ttotal: 1.29s\tremaining: 25s\n",
      "49:\tlearn: 0.0674831\ttotal: 1.32s\tremaining: 25.2s\n",
      "50:\tlearn: 0.0665395\ttotal: 1.36s\tremaining: 25.3s\n",
      "51:\tlearn: 0.0659751\ttotal: 1.4s\tremaining: 25.5s\n",
      "52:\tlearn: 0.0654269\ttotal: 1.44s\tremaining: 25.7s\n",
      "53:\tlearn: 0.0646415\ttotal: 1.48s\tremaining: 25.9s\n",
      "54:\tlearn: 0.0639788\ttotal: 1.51s\tremaining: 26s\n",
      "55:\tlearn: 0.0632282\ttotal: 1.55s\tremaining: 26.1s\n",
      "56:\tlearn: 0.0624548\ttotal: 1.59s\tremaining: 26.3s\n",
      "57:\tlearn: 0.0619514\ttotal: 1.63s\tremaining: 26.4s\n",
      "58:\tlearn: 0.0612855\ttotal: 1.66s\tremaining: 26.5s\n",
      "59:\tlearn: 0.0609423\ttotal: 1.68s\tremaining: 26.4s\n",
      "60:\tlearn: 0.0605538\ttotal: 1.72s\tremaining: 26.4s\n",
      "61:\tlearn: 0.0600648\ttotal: 1.75s\tremaining: 26.5s\n",
      "62:\tlearn: 0.0597407\ttotal: 1.78s\tremaining: 26.6s\n",
      "63:\tlearn: 0.0593014\ttotal: 1.83s\tremaining: 26.8s\n",
      "64:\tlearn: 0.0588513\ttotal: 1.87s\tremaining: 26.9s\n",
      "65:\tlearn: 0.0585104\ttotal: 1.9s\tremaining: 26.9s\n",
      "66:\tlearn: 0.0581101\ttotal: 1.93s\tremaining: 26.9s\n",
      "67:\tlearn: 0.0577404\ttotal: 1.97s\tremaining: 27s\n",
      "68:\tlearn: 0.0575362\ttotal: 2s\tremaining: 27s\n",
      "69:\tlearn: 0.0572937\ttotal: 2.04s\tremaining: 27.1s\n",
      "70:\tlearn: 0.0570827\ttotal: 2.09s\tremaining: 27.4s\n",
      "71:\tlearn: 0.0565662\ttotal: 2.13s\tremaining: 27.5s\n",
      "72:\tlearn: 0.0565654\ttotal: 2.14s\tremaining: 27.2s\n",
      "73:\tlearn: 0.0563361\ttotal: 2.18s\tremaining: 27.2s\n",
      "74:\tlearn: 0.0560215\ttotal: 2.21s\tremaining: 27.3s\n",
      "75:\tlearn: 0.0557216\ttotal: 2.25s\tremaining: 27.3s\n",
      "76:\tlearn: 0.0554756\ttotal: 2.29s\tremaining: 27.4s\n",
      "77:\tlearn: 0.0551814\ttotal: 2.32s\tremaining: 27.5s\n",
      "78:\tlearn: 0.0548755\ttotal: 2.35s\tremaining: 27.5s\n",
      "79:\tlearn: 0.0548754\ttotal: 2.36s\tremaining: 27.1s\n",
      "80:\tlearn: 0.0545812\ttotal: 2.39s\tremaining: 27.1s\n",
      "81:\tlearn: 0.0544857\ttotal: 2.41s\tremaining: 27s\n",
      "82:\tlearn: 0.0543838\ttotal: 2.45s\tremaining: 27s\n",
      "83:\tlearn: 0.0539046\ttotal: 2.49s\tremaining: 27.2s\n",
      "84:\tlearn: 0.0534842\ttotal: 2.53s\tremaining: 27.2s\n",
      "85:\tlearn: 0.0533777\ttotal: 2.56s\tremaining: 27.2s\n",
      "86:\tlearn: 0.0531829\ttotal: 2.59s\tremaining: 27.2s\n",
      "87:\tlearn: 0.0529837\ttotal: 2.62s\tremaining: 27.2s\n",
      "88:\tlearn: 0.0528723\ttotal: 2.65s\tremaining: 27.1s\n",
      "89:\tlearn: 0.0526257\ttotal: 2.69s\tremaining: 27.2s\n",
      "90:\tlearn: 0.0524177\ttotal: 2.73s\tremaining: 27.3s\n",
      "91:\tlearn: 0.0522438\ttotal: 2.77s\tremaining: 27.3s\n",
      "92:\tlearn: 0.0520808\ttotal: 2.8s\tremaining: 27.3s\n",
      "93:\tlearn: 0.0518348\ttotal: 2.83s\tremaining: 27.3s\n",
      "94:\tlearn: 0.0516411\ttotal: 2.87s\tremaining: 27.3s\n",
      "95:\tlearn: 0.0515272\ttotal: 2.9s\tremaining: 27.3s\n",
      "96:\tlearn: 0.0513652\ttotal: 2.93s\tremaining: 27.3s\n",
      "97:\tlearn: 0.0512275\ttotal: 3s\tremaining: 27.6s\n",
      "98:\tlearn: 0.0509513\ttotal: 3.07s\tremaining: 28s\n",
      "99:\tlearn: 0.0507621\ttotal: 3.12s\tremaining: 28.1s\n",
      "100:\tlearn: 0.0506795\ttotal: 3.16s\tremaining: 28.2s\n",
      "101:\tlearn: 0.0505760\ttotal: 3.21s\tremaining: 28.3s\n",
      "102:\tlearn: 0.0504220\ttotal: 3.26s\tremaining: 28.4s\n",
      "103:\tlearn: 0.0502038\ttotal: 3.31s\tremaining: 28.5s\n",
      "104:\tlearn: 0.0500219\ttotal: 3.36s\tremaining: 28.6s\n",
      "105:\tlearn: 0.0497179\ttotal: 3.4s\tremaining: 28.7s\n",
      "106:\tlearn: 0.0494485\ttotal: 3.45s\tremaining: 28.8s\n",
      "107:\tlearn: 0.0493034\ttotal: 3.49s\tremaining: 28.8s\n",
      "108:\tlearn: 0.0491686\ttotal: 3.54s\tremaining: 29s\n",
      "109:\tlearn: 0.0489452\ttotal: 3.59s\tremaining: 29s\n",
      "110:\tlearn: 0.0487577\ttotal: 3.63s\tremaining: 29.1s\n",
      "111:\tlearn: 0.0486806\ttotal: 3.67s\tremaining: 29.1s\n",
      "112:\tlearn: 0.0486802\ttotal: 3.67s\tremaining: 28.8s\n",
      "113:\tlearn: 0.0485747\ttotal: 3.71s\tremaining: 28.9s\n",
      "114:\tlearn: 0.0482292\ttotal: 3.75s\tremaining: 28.9s\n",
      "115:\tlearn: 0.0480708\ttotal: 3.78s\tremaining: 28.8s\n",
      "116:\tlearn: 0.0479130\ttotal: 3.82s\tremaining: 28.8s\n",
      "117:\tlearn: 0.0478119\ttotal: 3.87s\tremaining: 28.9s\n",
      "118:\tlearn: 0.0477130\ttotal: 3.92s\tremaining: 29s\n",
      "119:\tlearn: 0.0474947\ttotal: 3.95s\tremaining: 29s\n",
      "120:\tlearn: 0.0472345\ttotal: 3.99s\tremaining: 29s\n",
      "121:\tlearn: 0.0470999\ttotal: 4.02s\tremaining: 28.9s\n",
      "122:\tlearn: 0.0470085\ttotal: 4.05s\tremaining: 28.9s\n",
      "123:\tlearn: 0.0468507\ttotal: 4.1s\tremaining: 29s\n",
      "124:\tlearn: 0.0466943\ttotal: 4.14s\tremaining: 29s\n",
      "125:\tlearn: 0.0465874\ttotal: 4.17s\tremaining: 28.9s\n",
      "126:\tlearn: 0.0464866\ttotal: 4.2s\tremaining: 28.9s\n",
      "127:\tlearn: 0.0462822\ttotal: 4.24s\tremaining: 28.9s\n",
      "128:\tlearn: 0.0461141\ttotal: 4.27s\tremaining: 28.8s\n",
      "129:\tlearn: 0.0459924\ttotal: 4.31s\tremaining: 28.8s\n",
      "130:\tlearn: 0.0458098\ttotal: 4.34s\tremaining: 28.8s\n",
      "131:\tlearn: 0.0456764\ttotal: 4.38s\tremaining: 28.8s\n",
      "132:\tlearn: 0.0454449\ttotal: 4.41s\tremaining: 28.7s\n",
      "133:\tlearn: 0.0452908\ttotal: 4.44s\tremaining: 28.7s\n",
      "134:\tlearn: 0.0450335\ttotal: 4.48s\tremaining: 28.7s\n",
      "135:\tlearn: 0.0448952\ttotal: 4.51s\tremaining: 28.7s\n",
      "136:\tlearn: 0.0446023\ttotal: 4.55s\tremaining: 28.7s\n",
      "137:\tlearn: 0.0444839\ttotal: 4.59s\tremaining: 28.7s\n",
      "138:\tlearn: 0.0443764\ttotal: 4.62s\tremaining: 28.6s\n",
      "139:\tlearn: 0.0441792\ttotal: 4.66s\tremaining: 28.6s\n",
      "140:\tlearn: 0.0440586\ttotal: 4.7s\tremaining: 28.6s\n",
      "141:\tlearn: 0.0439570\ttotal: 4.74s\tremaining: 28.6s\n",
      "142:\tlearn: 0.0437839\ttotal: 4.77s\tremaining: 28.6s\n",
      "143:\tlearn: 0.0436605\ttotal: 4.8s\tremaining: 28.6s\n",
      "144:\tlearn: 0.0436007\ttotal: 4.84s\tremaining: 28.5s\n",
      "145:\tlearn: 0.0435065\ttotal: 4.87s\tremaining: 28.5s\n",
      "146:\tlearn: 0.0433350\ttotal: 4.91s\tremaining: 28.5s\n",
      "147:\tlearn: 0.0432642\ttotal: 4.94s\tremaining: 28.5s\n",
      "148:\tlearn: 0.0431647\ttotal: 4.98s\tremaining: 28.5s\n",
      "149:\tlearn: 0.0431040\ttotal: 5.02s\tremaining: 28.4s\n",
      "150:\tlearn: 0.0429272\ttotal: 5.05s\tremaining: 28.4s\n",
      "151:\tlearn: 0.0427654\ttotal: 5.08s\tremaining: 28.4s\n",
      "152:\tlearn: 0.0426050\ttotal: 5.11s\tremaining: 28.3s\n",
      "153:\tlearn: 0.0424823\ttotal: 5.15s\tremaining: 28.3s\n",
      "154:\tlearn: 0.0423501\ttotal: 5.19s\tremaining: 28.3s\n",
      "155:\tlearn: 0.0421789\ttotal: 5.22s\tremaining: 28.3s\n",
      "156:\tlearn: 0.0420749\ttotal: 5.26s\tremaining: 28.2s\n",
      "157:\tlearn: 0.0419297\ttotal: 5.29s\tremaining: 28.2s\n",
      "158:\tlearn: 0.0417961\ttotal: 5.33s\tremaining: 28.2s\n",
      "159:\tlearn: 0.0416879\ttotal: 5.37s\tremaining: 28.2s\n",
      "160:\tlearn: 0.0416406\ttotal: 5.41s\tremaining: 28.2s\n",
      "161:\tlearn: 0.0415848\ttotal: 5.44s\tremaining: 28.1s\n",
      "162:\tlearn: 0.0415674\ttotal: 5.46s\tremaining: 28.1s\n",
      "163:\tlearn: 0.0414817\ttotal: 5.5s\tremaining: 28s\n",
      "164:\tlearn: 0.0414299\ttotal: 5.53s\tremaining: 28s\n",
      "165:\tlearn: 0.0412818\ttotal: 5.57s\tremaining: 28s\n"
     ]
    },
    {
     "name": "stdout",
     "output_type": "stream",
     "text": [
      "166:\tlearn: 0.0412323\ttotal: 5.61s\tremaining: 28s\n",
      "167:\tlearn: 0.0411743\ttotal: 5.64s\tremaining: 27.9s\n",
      "168:\tlearn: 0.0410991\ttotal: 5.67s\tremaining: 27.9s\n",
      "169:\tlearn: 0.0410110\ttotal: 5.71s\tremaining: 27.9s\n",
      "170:\tlearn: 0.0409604\ttotal: 5.74s\tremaining: 27.8s\n",
      "171:\tlearn: 0.0408756\ttotal: 5.78s\tremaining: 27.8s\n",
      "172:\tlearn: 0.0407814\ttotal: 5.81s\tremaining: 27.8s\n",
      "173:\tlearn: 0.0406429\ttotal: 5.85s\tremaining: 27.8s\n",
      "174:\tlearn: 0.0405600\ttotal: 5.89s\tremaining: 27.8s\n",
      "175:\tlearn: 0.0405097\ttotal: 5.93s\tremaining: 27.7s\n",
      "176:\tlearn: 0.0403871\ttotal: 5.97s\tremaining: 27.8s\n",
      "177:\tlearn: 0.0403130\ttotal: 6s\tremaining: 27.7s\n",
      "178:\tlearn: 0.0402011\ttotal: 6.04s\tremaining: 27.7s\n",
      "179:\tlearn: 0.0401727\ttotal: 6.07s\tremaining: 27.7s\n",
      "180:\tlearn: 0.0401421\ttotal: 6.1s\tremaining: 27.6s\n",
      "181:\tlearn: 0.0400625\ttotal: 6.14s\tremaining: 27.6s\n",
      "182:\tlearn: 0.0400045\ttotal: 6.17s\tremaining: 27.6s\n",
      "183:\tlearn: 0.0399252\ttotal: 6.21s\tremaining: 27.5s\n",
      "184:\tlearn: 0.0397759\ttotal: 6.24s\tremaining: 27.5s\n",
      "185:\tlearn: 0.0396860\ttotal: 6.28s\tremaining: 27.5s\n",
      "186:\tlearn: 0.0395353\ttotal: 6.32s\tremaining: 27.5s\n",
      "187:\tlearn: 0.0393234\ttotal: 6.35s\tremaining: 27.4s\n",
      "188:\tlearn: 0.0392679\ttotal: 6.38s\tremaining: 27.4s\n",
      "189:\tlearn: 0.0390549\ttotal: 6.42s\tremaining: 27.4s\n",
      "190:\tlearn: 0.0389215\ttotal: 6.47s\tremaining: 27.4s\n",
      "191:\tlearn: 0.0388747\ttotal: 6.52s\tremaining: 27.4s\n",
      "192:\tlearn: 0.0387692\ttotal: 6.57s\tremaining: 27.5s\n",
      "193:\tlearn: 0.0386806\ttotal: 6.62s\tremaining: 27.5s\n",
      "194:\tlearn: 0.0384153\ttotal: 6.67s\tremaining: 27.6s\n",
      "195:\tlearn: 0.0383094\ttotal: 6.73s\tremaining: 27.6s\n",
      "196:\tlearn: 0.0381931\ttotal: 6.77s\tremaining: 27.6s\n",
      "197:\tlearn: 0.0380975\ttotal: 6.81s\tremaining: 27.6s\n",
      "198:\tlearn: 0.0379865\ttotal: 6.84s\tremaining: 27.6s\n",
      "199:\tlearn: 0.0378384\ttotal: 6.88s\tremaining: 27.5s\n",
      "200:\tlearn: 0.0377475\ttotal: 6.92s\tremaining: 27.5s\n",
      "201:\tlearn: 0.0376626\ttotal: 6.96s\tremaining: 27.5s\n",
      "202:\tlearn: 0.0376253\ttotal: 7s\tremaining: 27.5s\n",
      "203:\tlearn: 0.0375320\ttotal: 7.03s\tremaining: 27.4s\n",
      "204:\tlearn: 0.0373711\ttotal: 7.07s\tremaining: 27.4s\n",
      "205:\tlearn: 0.0372381\ttotal: 7.11s\tremaining: 27.4s\n",
      "206:\tlearn: 0.0371359\ttotal: 7.14s\tremaining: 27.4s\n",
      "207:\tlearn: 0.0370432\ttotal: 7.18s\tremaining: 27.3s\n",
      "208:\tlearn: 0.0369679\ttotal: 7.22s\tremaining: 27.3s\n",
      "209:\tlearn: 0.0368961\ttotal: 7.26s\tremaining: 27.3s\n",
      "210:\tlearn: 0.0368233\ttotal: 7.29s\tremaining: 27.3s\n",
      "211:\tlearn: 0.0366829\ttotal: 7.33s\tremaining: 27.3s\n",
      "212:\tlearn: 0.0366234\ttotal: 7.36s\tremaining: 27.2s\n",
      "213:\tlearn: 0.0365417\ttotal: 7.41s\tremaining: 27.2s\n",
      "214:\tlearn: 0.0364645\ttotal: 7.44s\tremaining: 27.2s\n",
      "215:\tlearn: 0.0362990\ttotal: 7.48s\tremaining: 27.2s\n",
      "216:\tlearn: 0.0362810\ttotal: 7.51s\tremaining: 27.1s\n",
      "217:\tlearn: 0.0362105\ttotal: 7.54s\tremaining: 27.1s\n",
      "218:\tlearn: 0.0361167\ttotal: 7.58s\tremaining: 27s\n",
      "219:\tlearn: 0.0360618\ttotal: 7.62s\tremaining: 27s\n",
      "220:\tlearn: 0.0359797\ttotal: 7.66s\tremaining: 27s\n",
      "221:\tlearn: 0.0358064\ttotal: 7.7s\tremaining: 27s\n",
      "222:\tlearn: 0.0357096\ttotal: 7.73s\tremaining: 26.9s\n",
      "223:\tlearn: 0.0355816\ttotal: 7.76s\tremaining: 26.9s\n",
      "224:\tlearn: 0.0355463\ttotal: 7.8s\tremaining: 26.9s\n",
      "225:\tlearn: 0.0354527\ttotal: 7.84s\tremaining: 26.8s\n",
      "226:\tlearn: 0.0353615\ttotal: 7.88s\tremaining: 26.8s\n",
      "227:\tlearn: 0.0353261\ttotal: 7.91s\tremaining: 26.8s\n",
      "228:\tlearn: 0.0352350\ttotal: 7.94s\tremaining: 26.7s\n",
      "229:\tlearn: 0.0350833\ttotal: 7.97s\tremaining: 26.7s\n",
      "230:\tlearn: 0.0350281\ttotal: 8.01s\tremaining: 26.7s\n",
      "231:\tlearn: 0.0348707\ttotal: 8.05s\tremaining: 26.7s\n",
      "232:\tlearn: 0.0347583\ttotal: 8.09s\tremaining: 26.6s\n",
      "233:\tlearn: 0.0346500\ttotal: 8.13s\tremaining: 26.6s\n",
      "234:\tlearn: 0.0345112\ttotal: 8.16s\tremaining: 26.6s\n",
      "235:\tlearn: 0.0343751\ttotal: 8.19s\tremaining: 26.5s\n",
      "236:\tlearn: 0.0343392\ttotal: 8.23s\tremaining: 26.5s\n",
      "237:\tlearn: 0.0342393\ttotal: 8.26s\tremaining: 26.5s\n",
      "238:\tlearn: 0.0341705\ttotal: 8.3s\tremaining: 26.4s\n",
      "239:\tlearn: 0.0340963\ttotal: 8.33s\tremaining: 26.4s\n",
      "240:\tlearn: 0.0339793\ttotal: 8.37s\tremaining: 26.4s\n",
      "241:\tlearn: 0.0339210\ttotal: 8.4s\tremaining: 26.3s\n",
      "242:\tlearn: 0.0338720\ttotal: 8.44s\tremaining: 26.3s\n",
      "243:\tlearn: 0.0337946\ttotal: 8.47s\tremaining: 26.3s\n",
      "244:\tlearn: 0.0337774\ttotal: 8.51s\tremaining: 26.2s\n",
      "245:\tlearn: 0.0337056\ttotal: 8.54s\tremaining: 26.2s\n",
      "246:\tlearn: 0.0336367\ttotal: 8.58s\tremaining: 26.2s\n",
      "247:\tlearn: 0.0334968\ttotal: 8.62s\tremaining: 26.1s\n",
      "248:\tlearn: 0.0333770\ttotal: 8.65s\tremaining: 26.1s\n",
      "249:\tlearn: 0.0332454\ttotal: 8.69s\tremaining: 26.1s\n",
      "250:\tlearn: 0.0332235\ttotal: 8.73s\tremaining: 26s\n",
      "251:\tlearn: 0.0331279\ttotal: 8.76s\tremaining: 26s\n",
      "252:\tlearn: 0.0330422\ttotal: 8.8s\tremaining: 26s\n",
      "253:\tlearn: 0.0329794\ttotal: 8.84s\tremaining: 26s\n",
      "254:\tlearn: 0.0328688\ttotal: 8.87s\tremaining: 25.9s\n",
      "255:\tlearn: 0.0328162\ttotal: 8.91s\tremaining: 25.9s\n",
      "256:\tlearn: 0.0327636\ttotal: 8.96s\tremaining: 25.9s\n",
      "257:\tlearn: 0.0327348\ttotal: 9.01s\tremaining: 25.9s\n",
      "258:\tlearn: 0.0326255\ttotal: 9.06s\tremaining: 25.9s\n",
      "259:\tlearn: 0.0325698\ttotal: 9.1s\tremaining: 25.9s\n",
      "260:\tlearn: 0.0325468\ttotal: 9.15s\tremaining: 25.9s\n",
      "261:\tlearn: 0.0324844\ttotal: 9.2s\tremaining: 25.9s\n",
      "262:\tlearn: 0.0323869\ttotal: 9.23s\tremaining: 25.9s\n",
      "263:\tlearn: 0.0322580\ttotal: 9.28s\tremaining: 25.9s\n",
      "264:\tlearn: 0.0321772\ttotal: 9.32s\tremaining: 25.9s\n",
      "265:\tlearn: 0.0320765\ttotal: 9.36s\tremaining: 25.8s\n",
      "266:\tlearn: 0.0320053\ttotal: 9.42s\tremaining: 25.9s\n",
      "267:\tlearn: 0.0319260\ttotal: 9.46s\tremaining: 25.8s\n",
      "268:\tlearn: 0.0319049\ttotal: 9.51s\tremaining: 25.8s\n",
      "269:\tlearn: 0.0318513\ttotal: 9.55s\tremaining: 25.8s\n",
      "270:\tlearn: 0.0317873\ttotal: 9.6s\tremaining: 25.8s\n",
      "271:\tlearn: 0.0316537\ttotal: 9.65s\tremaining: 25.8s\n",
      "272:\tlearn: 0.0315702\ttotal: 9.69s\tremaining: 25.8s\n",
      "273:\tlearn: 0.0315451\ttotal: 9.72s\tremaining: 25.8s\n",
      "274:\tlearn: 0.0314803\ttotal: 9.76s\tremaining: 25.7s\n",
      "275:\tlearn: 0.0314354\ttotal: 9.81s\tremaining: 25.7s\n",
      "276:\tlearn: 0.0313726\ttotal: 9.86s\tremaining: 25.7s\n",
      "277:\tlearn: 0.0313168\ttotal: 9.9s\tremaining: 25.7s\n",
      "278:\tlearn: 0.0311887\ttotal: 9.96s\tremaining: 25.7s\n",
      "279:\tlearn: 0.0311447\ttotal: 10s\tremaining: 25.8s\n",
      "280:\tlearn: 0.0310601\ttotal: 10.1s\tremaining: 25.9s\n",
      "281:\tlearn: 0.0309545\ttotal: 10.2s\tremaining: 26s\n",
      "282:\tlearn: 0.0308584\ttotal: 10.3s\tremaining: 26.1s\n",
      "283:\tlearn: 0.0307521\ttotal: 10.4s\tremaining: 26.1s\n",
      "284:\tlearn: 0.0307303\ttotal: 10.4s\tremaining: 26.2s\n",
      "285:\tlearn: 0.0306405\ttotal: 10.5s\tremaining: 26.3s\n",
      "286:\tlearn: 0.0305971\ttotal: 10.6s\tremaining: 26.3s\n",
      "287:\tlearn: 0.0305418\ttotal: 10.6s\tremaining: 26.3s\n",
      "288:\tlearn: 0.0304780\ttotal: 10.7s\tremaining: 26.3s\n",
      "289:\tlearn: 0.0304241\ttotal: 10.7s\tremaining: 26.3s\n",
      "290:\tlearn: 0.0303711\ttotal: 10.8s\tremaining: 26.3s\n",
      "291:\tlearn: 0.0302503\ttotal: 10.8s\tremaining: 26.3s\n",
      "292:\tlearn: 0.0301983\ttotal: 10.9s\tremaining: 26.2s\n",
      "293:\tlearn: 0.0301188\ttotal: 10.9s\tremaining: 26.2s\n",
      "294:\tlearn: 0.0300466\ttotal: 10.9s\tremaining: 26.2s\n",
      "295:\tlearn: 0.0299756\ttotal: 11s\tremaining: 26.2s\n",
      "296:\tlearn: 0.0298803\ttotal: 11.1s\tremaining: 26.2s\n",
      "297:\tlearn: 0.0298318\ttotal: 11.1s\tremaining: 26.2s\n",
      "298:\tlearn: 0.0297669\ttotal: 11.2s\tremaining: 26.2s\n",
      "299:\tlearn: 0.0296512\ttotal: 11.2s\tremaining: 26.2s\n",
      "300:\tlearn: 0.0296182\ttotal: 11.3s\tremaining: 26.1s\n",
      "301:\tlearn: 0.0295466\ttotal: 11.3s\tremaining: 26.1s\n",
      "302:\tlearn: 0.0294097\ttotal: 11.3s\tremaining: 26s\n",
      "303:\tlearn: 0.0293205\ttotal: 11.3s\tremaining: 26s\n",
      "304:\tlearn: 0.0292750\ttotal: 11.4s\tremaining: 25.9s\n",
      "305:\tlearn: 0.0292166\ttotal: 11.5s\tremaining: 26s\n",
      "306:\tlearn: 0.0291177\ttotal: 11.5s\tremaining: 25.9s\n",
      "307:\tlearn: 0.0290294\ttotal: 11.5s\tremaining: 25.9s\n",
      "308:\tlearn: 0.0289775\ttotal: 11.6s\tremaining: 25.8s\n",
      "309:\tlearn: 0.0289004\ttotal: 11.6s\tremaining: 25.8s\n",
      "310:\tlearn: 0.0287707\ttotal: 11.6s\tremaining: 25.8s\n",
      "311:\tlearn: 0.0287211\ttotal: 11.7s\tremaining: 25.8s\n",
      "312:\tlearn: 0.0286152\ttotal: 11.7s\tremaining: 25.7s\n",
      "313:\tlearn: 0.0285300\ttotal: 11.7s\tremaining: 25.7s\n",
      "314:\tlearn: 0.0284518\ttotal: 11.8s\tremaining: 25.6s\n",
      "315:\tlearn: 0.0284015\ttotal: 11.8s\tremaining: 25.6s\n",
      "316:\tlearn: 0.0283636\ttotal: 11.9s\tremaining: 25.6s\n",
      "317:\tlearn: 0.0283173\ttotal: 11.9s\tremaining: 25.6s\n",
      "318:\tlearn: 0.0282245\ttotal: 12s\tremaining: 25.6s\n",
      "319:\tlearn: 0.0280921\ttotal: 12s\tremaining: 25.5s\n",
      "320:\tlearn: 0.0280407\ttotal: 12.1s\tremaining: 25.5s\n",
      "321:\tlearn: 0.0280020\ttotal: 12.1s\tremaining: 25.5s\n",
      "322:\tlearn: 0.0279600\ttotal: 12.1s\tremaining: 25.4s\n",
      "323:\tlearn: 0.0279361\ttotal: 12.2s\tremaining: 25.4s\n",
      "324:\tlearn: 0.0278776\ttotal: 12.2s\tremaining: 25.4s\n",
      "325:\tlearn: 0.0278361\ttotal: 12.2s\tremaining: 25.3s\n"
     ]
    },
    {
     "name": "stdout",
     "output_type": "stream",
     "text": [
      "326:\tlearn: 0.0278159\ttotal: 12.3s\tremaining: 25.3s\n",
      "327:\tlearn: 0.0277832\ttotal: 12.3s\tremaining: 25.3s\n",
      "328:\tlearn: 0.0277450\ttotal: 12.4s\tremaining: 25.2s\n",
      "329:\tlearn: 0.0276576\ttotal: 12.4s\tremaining: 25.2s\n",
      "330:\tlearn: 0.0276058\ttotal: 12.4s\tremaining: 25.1s\n",
      "331:\tlearn: 0.0275505\ttotal: 12.5s\tremaining: 25.1s\n",
      "332:\tlearn: 0.0274786\ttotal: 12.5s\tremaining: 25s\n",
      "333:\tlearn: 0.0274243\ttotal: 12.5s\tremaining: 25s\n",
      "334:\tlearn: 0.0273300\ttotal: 12.6s\tremaining: 25s\n",
      "335:\tlearn: 0.0272535\ttotal: 12.6s\tremaining: 24.9s\n",
      "336:\tlearn: 0.0272380\ttotal: 12.7s\tremaining: 24.9s\n",
      "337:\tlearn: 0.0271743\ttotal: 12.7s\tremaining: 24.9s\n",
      "338:\tlearn: 0.0271341\ttotal: 12.7s\tremaining: 24.8s\n",
      "339:\tlearn: 0.0270512\ttotal: 12.8s\tremaining: 24.8s\n",
      "340:\tlearn: 0.0269892\ttotal: 12.8s\tremaining: 24.7s\n",
      "341:\tlearn: 0.0268956\ttotal: 12.8s\tremaining: 24.7s\n",
      "342:\tlearn: 0.0268729\ttotal: 12.9s\tremaining: 24.7s\n",
      "343:\tlearn: 0.0267436\ttotal: 12.9s\tremaining: 24.6s\n",
      "344:\tlearn: 0.0266546\ttotal: 12.9s\tremaining: 24.6s\n",
      "345:\tlearn: 0.0265459\ttotal: 13s\tremaining: 24.5s\n",
      "346:\tlearn: 0.0264606\ttotal: 13s\tremaining: 24.5s\n",
      "347:\tlearn: 0.0263721\ttotal: 13.1s\tremaining: 24.5s\n",
      "348:\tlearn: 0.0262847\ttotal: 13.1s\tremaining: 24.4s\n",
      "349:\tlearn: 0.0262058\ttotal: 13.1s\tremaining: 24.4s\n",
      "350:\tlearn: 0.0261682\ttotal: 13.2s\tremaining: 24.4s\n",
      "351:\tlearn: 0.0261099\ttotal: 13.2s\tremaining: 24.3s\n",
      "352:\tlearn: 0.0260727\ttotal: 13.3s\tremaining: 24.3s\n",
      "353:\tlearn: 0.0260065\ttotal: 13.3s\tremaining: 24.3s\n",
      "354:\tlearn: 0.0259253\ttotal: 13.3s\tremaining: 24.2s\n",
      "355:\tlearn: 0.0258655\ttotal: 13.4s\tremaining: 24.2s\n",
      "356:\tlearn: 0.0258348\ttotal: 13.4s\tremaining: 24.2s\n",
      "357:\tlearn: 0.0258118\ttotal: 13.5s\tremaining: 24.1s\n",
      "358:\tlearn: 0.0257011\ttotal: 13.6s\tremaining: 24.2s\n",
      "359:\tlearn: 0.0256855\ttotal: 13.6s\tremaining: 24.2s\n",
      "360:\tlearn: 0.0256342\ttotal: 13.7s\tremaining: 24.2s\n",
      "361:\tlearn: 0.0256102\ttotal: 13.7s\tremaining: 24.1s\n",
      "362:\tlearn: 0.0255627\ttotal: 13.7s\tremaining: 24.1s\n",
      "363:\tlearn: 0.0254280\ttotal: 13.8s\tremaining: 24.1s\n",
      "364:\tlearn: 0.0253484\ttotal: 13.8s\tremaining: 24s\n",
      "365:\tlearn: 0.0252810\ttotal: 13.8s\tremaining: 24s\n",
      "366:\tlearn: 0.0251585\ttotal: 13.9s\tremaining: 23.9s\n",
      "367:\tlearn: 0.0250121\ttotal: 13.9s\tremaining: 23.9s\n",
      "368:\tlearn: 0.0249474\ttotal: 13.9s\tremaining: 23.8s\n",
      "369:\tlearn: 0.0249114\ttotal: 14s\tremaining: 23.8s\n",
      "370:\tlearn: 0.0248495\ttotal: 14s\tremaining: 23.8s\n",
      "371:\tlearn: 0.0247992\ttotal: 14s\tremaining: 23.7s\n",
      "372:\tlearn: 0.0247345\ttotal: 14.1s\tremaining: 23.7s\n",
      "373:\tlearn: 0.0247012\ttotal: 14.1s\tremaining: 23.6s\n",
      "374:\tlearn: 0.0246419\ttotal: 14.2s\tremaining: 23.6s\n",
      "375:\tlearn: 0.0246120\ttotal: 14.2s\tremaining: 23.5s\n",
      "376:\tlearn: 0.0245170\ttotal: 14.2s\tremaining: 23.5s\n",
      "377:\tlearn: 0.0244763\ttotal: 14.3s\tremaining: 23.5s\n",
      "378:\tlearn: 0.0244461\ttotal: 14.3s\tremaining: 23.4s\n",
      "379:\tlearn: 0.0244015\ttotal: 14.3s\tremaining: 23.4s\n",
      "380:\tlearn: 0.0243681\ttotal: 14.4s\tremaining: 23.3s\n",
      "381:\tlearn: 0.0242602\ttotal: 14.4s\tremaining: 23.3s\n",
      "382:\tlearn: 0.0242202\ttotal: 14.4s\tremaining: 23.2s\n",
      "383:\tlearn: 0.0241746\ttotal: 14.5s\tremaining: 23.2s\n",
      "384:\tlearn: 0.0240888\ttotal: 14.5s\tremaining: 23.2s\n",
      "385:\tlearn: 0.0240693\ttotal: 14.5s\tremaining: 23.1s\n",
      "386:\tlearn: 0.0240419\ttotal: 14.6s\tremaining: 23.1s\n",
      "387:\tlearn: 0.0240245\ttotal: 14.6s\tremaining: 23s\n",
      "388:\tlearn: 0.0239832\ttotal: 14.6s\tremaining: 23s\n",
      "389:\tlearn: 0.0239437\ttotal: 14.7s\tremaining: 23s\n",
      "390:\tlearn: 0.0238953\ttotal: 14.7s\tremaining: 22.9s\n",
      "391:\tlearn: 0.0238004\ttotal: 14.8s\tremaining: 22.9s\n",
      "392:\tlearn: 0.0237713\ttotal: 14.8s\tremaining: 22.8s\n",
      "393:\tlearn: 0.0237307\ttotal: 14.8s\tremaining: 22.8s\n",
      "394:\tlearn: 0.0236582\ttotal: 14.9s\tremaining: 22.8s\n",
      "395:\tlearn: 0.0236479\ttotal: 14.9s\tremaining: 22.8s\n",
      "396:\tlearn: 0.0236210\ttotal: 15s\tremaining: 22.7s\n",
      "397:\tlearn: 0.0235924\ttotal: 15s\tremaining: 22.7s\n",
      "398:\tlearn: 0.0235412\ttotal: 15s\tremaining: 22.7s\n",
      "399:\tlearn: 0.0234910\ttotal: 15.1s\tremaining: 22.6s\n",
      "400:\tlearn: 0.0234735\ttotal: 15.1s\tremaining: 22.6s\n",
      "401:\tlearn: 0.0234013\ttotal: 15.2s\tremaining: 22.5s\n",
      "402:\tlearn: 0.0233660\ttotal: 15.2s\tremaining: 22.5s\n",
      "403:\tlearn: 0.0232786\ttotal: 15.2s\tremaining: 22.5s\n",
      "404:\tlearn: 0.0232446\ttotal: 15.3s\tremaining: 22.4s\n",
      "405:\tlearn: 0.0232017\ttotal: 15.3s\tremaining: 22.4s\n",
      "406:\tlearn: 0.0231603\ttotal: 15.3s\tremaining: 22.3s\n",
      "407:\tlearn: 0.0231291\ttotal: 15.4s\tremaining: 22.3s\n",
      "408:\tlearn: 0.0230952\ttotal: 15.4s\tremaining: 22.3s\n",
      "409:\tlearn: 0.0230800\ttotal: 15.4s\tremaining: 22.2s\n",
      "410:\tlearn: 0.0230061\ttotal: 15.5s\tremaining: 22.2s\n",
      "411:\tlearn: 0.0229628\ttotal: 15.5s\tremaining: 22.1s\n",
      "412:\tlearn: 0.0229138\ttotal: 15.5s\tremaining: 22.1s\n",
      "413:\tlearn: 0.0228876\ttotal: 15.6s\tremaining: 22s\n",
      "414:\tlearn: 0.0228067\ttotal: 15.6s\tremaining: 22s\n",
      "415:\tlearn: 0.0227416\ttotal: 15.6s\tremaining: 22s\n",
      "416:\tlearn: 0.0227225\ttotal: 15.7s\tremaining: 21.9s\n",
      "417:\tlearn: 0.0226984\ttotal: 15.7s\tremaining: 21.9s\n",
      "418:\tlearn: 0.0226456\ttotal: 15.7s\tremaining: 21.8s\n",
      "419:\tlearn: 0.0226098\ttotal: 15.8s\tremaining: 21.8s\n",
      "420:\tlearn: 0.0225995\ttotal: 15.8s\tremaining: 21.8s\n",
      "421:\tlearn: 0.0225709\ttotal: 15.9s\tremaining: 21.7s\n",
      "422:\tlearn: 0.0225369\ttotal: 15.9s\tremaining: 21.7s\n",
      "423:\tlearn: 0.0225025\ttotal: 15.9s\tremaining: 21.6s\n",
      "424:\tlearn: 0.0224439\ttotal: 16s\tremaining: 21.6s\n",
      "425:\tlearn: 0.0223912\ttotal: 16s\tremaining: 21.5s\n",
      "426:\tlearn: 0.0223763\ttotal: 16s\tremaining: 21.5s\n",
      "427:\tlearn: 0.0223193\ttotal: 16.1s\tremaining: 21.5s\n",
      "428:\tlearn: 0.0222884\ttotal: 16.1s\tremaining: 21.4s\n",
      "429:\tlearn: 0.0222650\ttotal: 16.1s\tremaining: 21.4s\n",
      "430:\tlearn: 0.0222206\ttotal: 16.2s\tremaining: 21.3s\n",
      "431:\tlearn: 0.0221905\ttotal: 16.2s\tremaining: 21.3s\n",
      "432:\tlearn: 0.0221547\ttotal: 16.2s\tremaining: 21.3s\n",
      "433:\tlearn: 0.0220790\ttotal: 16.3s\tremaining: 21.2s\n",
      "434:\tlearn: 0.0219842\ttotal: 16.3s\tremaining: 21.2s\n",
      "435:\tlearn: 0.0219657\ttotal: 16.3s\tremaining: 21.1s\n",
      "436:\tlearn: 0.0219236\ttotal: 16.4s\tremaining: 21.1s\n",
      "437:\tlearn: 0.0218664\ttotal: 16.4s\tremaining: 21.1s\n",
      "438:\tlearn: 0.0218206\ttotal: 16.4s\tremaining: 21s\n",
      "439:\tlearn: 0.0217819\ttotal: 16.5s\tremaining: 21s\n",
      "440:\tlearn: 0.0217199\ttotal: 16.5s\tremaining: 20.9s\n",
      "441:\tlearn: 0.0216891\ttotal: 16.5s\tremaining: 20.9s\n",
      "442:\tlearn: 0.0216738\ttotal: 16.6s\tremaining: 20.9s\n",
      "443:\tlearn: 0.0216188\ttotal: 16.6s\tremaining: 20.8s\n",
      "444:\tlearn: 0.0215261\ttotal: 16.7s\tremaining: 20.8s\n",
      "445:\tlearn: 0.0215191\ttotal: 16.7s\tremaining: 20.7s\n",
      "446:\tlearn: 0.0214681\ttotal: 16.7s\tremaining: 20.7s\n",
      "447:\tlearn: 0.0214433\ttotal: 16.8s\tremaining: 20.6s\n",
      "448:\tlearn: 0.0214079\ttotal: 16.8s\tremaining: 20.6s\n",
      "449:\tlearn: 0.0213185\ttotal: 16.8s\tremaining: 20.6s\n",
      "450:\tlearn: 0.0212996\ttotal: 16.9s\tremaining: 20.5s\n",
      "451:\tlearn: 0.0212298\ttotal: 16.9s\tremaining: 20.5s\n",
      "452:\tlearn: 0.0211878\ttotal: 16.9s\tremaining: 20.4s\n",
      "453:\tlearn: 0.0211690\ttotal: 17s\tremaining: 20.4s\n",
      "454:\tlearn: 0.0211477\ttotal: 17s\tremaining: 20.4s\n",
      "455:\tlearn: 0.0211415\ttotal: 17s\tremaining: 20.3s\n",
      "456:\tlearn: 0.0211121\ttotal: 17.1s\tremaining: 20.3s\n",
      "457:\tlearn: 0.0210759\ttotal: 17.1s\tremaining: 20.2s\n",
      "458:\tlearn: 0.0210533\ttotal: 17.1s\tremaining: 20.2s\n",
      "459:\tlearn: 0.0210209\ttotal: 17.2s\tremaining: 20.1s\n",
      "460:\tlearn: 0.0209689\ttotal: 17.2s\tremaining: 20.1s\n",
      "461:\tlearn: 0.0208937\ttotal: 17.2s\tremaining: 20.1s\n",
      "462:\tlearn: 0.0208322\ttotal: 17.3s\tremaining: 20s\n",
      "463:\tlearn: 0.0207918\ttotal: 17.3s\tremaining: 20s\n",
      "464:\tlearn: 0.0207793\ttotal: 17.3s\tremaining: 19.9s\n",
      "465:\tlearn: 0.0207523\ttotal: 17.4s\tremaining: 19.9s\n",
      "466:\tlearn: 0.0207309\ttotal: 17.4s\tremaining: 19.9s\n",
      "467:\tlearn: 0.0207072\ttotal: 17.4s\tremaining: 19.8s\n",
      "468:\tlearn: 0.0206478\ttotal: 17.5s\tremaining: 19.8s\n",
      "469:\tlearn: 0.0206072\ttotal: 17.5s\tremaining: 19.7s\n",
      "470:\tlearn: 0.0205632\ttotal: 17.5s\tremaining: 19.7s\n",
      "471:\tlearn: 0.0205454\ttotal: 17.6s\tremaining: 19.7s\n",
      "472:\tlearn: 0.0205306\ttotal: 17.6s\tremaining: 19.6s\n",
      "473:\tlearn: 0.0204483\ttotal: 17.6s\tremaining: 19.6s\n",
      "474:\tlearn: 0.0203798\ttotal: 17.7s\tremaining: 19.5s\n",
      "475:\tlearn: 0.0203167\ttotal: 17.7s\tremaining: 19.5s\n",
      "476:\tlearn: 0.0202900\ttotal: 17.7s\tremaining: 19.5s\n",
      "477:\tlearn: 0.0202474\ttotal: 17.8s\tremaining: 19.4s\n",
      "478:\tlearn: 0.0202230\ttotal: 17.8s\tremaining: 19.4s\n",
      "479:\tlearn: 0.0201884\ttotal: 17.9s\tremaining: 19.3s\n",
      "480:\tlearn: 0.0201708\ttotal: 17.9s\tremaining: 19.3s\n",
      "481:\tlearn: 0.0200876\ttotal: 17.9s\tremaining: 19.3s\n",
      "482:\tlearn: 0.0200573\ttotal: 18s\tremaining: 19.2s\n",
      "483:\tlearn: 0.0200222\ttotal: 18s\tremaining: 19.2s\n",
      "484:\tlearn: 0.0200006\ttotal: 18s\tremaining: 19.2s\n",
      "485:\tlearn: 0.0199786\ttotal: 18.1s\tremaining: 19.1s\n",
      "486:\tlearn: 0.0199603\ttotal: 18.1s\tremaining: 19.1s\n",
      "487:\tlearn: 0.0199439\ttotal: 18.1s\tremaining: 19s\n"
     ]
    },
    {
     "name": "stdout",
     "output_type": "stream",
     "text": [
      "488:\tlearn: 0.0198933\ttotal: 18.2s\tremaining: 19s\n",
      "489:\tlearn: 0.0198370\ttotal: 18.2s\tremaining: 19s\n",
      "490:\tlearn: 0.0198024\ttotal: 18.2s\tremaining: 18.9s\n",
      "491:\tlearn: 0.0197820\ttotal: 18.3s\tremaining: 18.9s\n",
      "492:\tlearn: 0.0197383\ttotal: 18.3s\tremaining: 18.8s\n",
      "493:\tlearn: 0.0197082\ttotal: 18.4s\tremaining: 18.8s\n",
      "494:\tlearn: 0.0196434\ttotal: 18.4s\tremaining: 18.8s\n",
      "495:\tlearn: 0.0196320\ttotal: 18.4s\tremaining: 18.7s\n",
      "496:\tlearn: 0.0195868\ttotal: 18.5s\tremaining: 18.7s\n",
      "497:\tlearn: 0.0195693\ttotal: 18.5s\tremaining: 18.7s\n",
      "498:\tlearn: 0.0195213\ttotal: 18.5s\tremaining: 18.6s\n",
      "499:\tlearn: 0.0194927\ttotal: 18.6s\tremaining: 18.6s\n",
      "500:\tlearn: 0.0194795\ttotal: 18.6s\tremaining: 18.6s\n",
      "501:\tlearn: 0.0194408\ttotal: 18.7s\tremaining: 18.5s\n",
      "502:\tlearn: 0.0194122\ttotal: 18.7s\tremaining: 18.5s\n",
      "503:\tlearn: 0.0193853\ttotal: 18.8s\tremaining: 18.5s\n",
      "504:\tlearn: 0.0193690\ttotal: 18.8s\tremaining: 18.4s\n",
      "505:\tlearn: 0.0193258\ttotal: 18.8s\tremaining: 18.4s\n",
      "506:\tlearn: 0.0193088\ttotal: 18.9s\tremaining: 18.3s\n",
      "507:\tlearn: 0.0192859\ttotal: 18.9s\tremaining: 18.3s\n",
      "508:\tlearn: 0.0192219\ttotal: 18.9s\tremaining: 18.3s\n",
      "509:\tlearn: 0.0191874\ttotal: 19s\tremaining: 18.2s\n",
      "510:\tlearn: 0.0191000\ttotal: 19s\tremaining: 18.2s\n",
      "511:\tlearn: 0.0190800\ttotal: 19s\tremaining: 18.1s\n",
      "512:\tlearn: 0.0190573\ttotal: 19.1s\tremaining: 18.1s\n",
      "513:\tlearn: 0.0189797\ttotal: 19.1s\tremaining: 18.1s\n",
      "514:\tlearn: 0.0189446\ttotal: 19.1s\tremaining: 18s\n",
      "515:\tlearn: 0.0188985\ttotal: 19.2s\tremaining: 18s\n",
      "516:\tlearn: 0.0188610\ttotal: 19.2s\tremaining: 17.9s\n",
      "517:\tlearn: 0.0188175\ttotal: 19.2s\tremaining: 17.9s\n",
      "518:\tlearn: 0.0187377\ttotal: 19.3s\tremaining: 17.9s\n",
      "519:\tlearn: 0.0186950\ttotal: 19.3s\tremaining: 17.8s\n",
      "520:\tlearn: 0.0186631\ttotal: 19.4s\tremaining: 17.8s\n",
      "521:\tlearn: 0.0186419\ttotal: 19.4s\tremaining: 17.8s\n",
      "522:\tlearn: 0.0185993\ttotal: 19.4s\tremaining: 17.7s\n",
      "523:\tlearn: 0.0185596\ttotal: 19.5s\tremaining: 17.7s\n",
      "524:\tlearn: 0.0185458\ttotal: 19.5s\tremaining: 17.6s\n",
      "525:\tlearn: 0.0185332\ttotal: 19.5s\tremaining: 17.6s\n",
      "526:\tlearn: 0.0184968\ttotal: 19.6s\tremaining: 17.6s\n",
      "527:\tlearn: 0.0184705\ttotal: 19.6s\tremaining: 17.5s\n",
      "528:\tlearn: 0.0184278\ttotal: 19.6s\tremaining: 17.5s\n",
      "529:\tlearn: 0.0184182\ttotal: 19.7s\tremaining: 17.4s\n",
      "530:\tlearn: 0.0183808\ttotal: 19.7s\tremaining: 17.4s\n",
      "531:\tlearn: 0.0183342\ttotal: 19.7s\tremaining: 17.4s\n",
      "532:\tlearn: 0.0183041\ttotal: 19.8s\tremaining: 17.3s\n",
      "533:\tlearn: 0.0182448\ttotal: 19.8s\tremaining: 17.3s\n",
      "534:\tlearn: 0.0182402\ttotal: 19.8s\tremaining: 17.2s\n",
      "535:\tlearn: 0.0181817\ttotal: 19.9s\tremaining: 17.2s\n",
      "536:\tlearn: 0.0181704\ttotal: 19.9s\tremaining: 17.2s\n",
      "537:\tlearn: 0.0181504\ttotal: 19.9s\tremaining: 17.1s\n",
      "538:\tlearn: 0.0181062\ttotal: 20s\tremaining: 17.1s\n",
      "539:\tlearn: 0.0180893\ttotal: 20.1s\tremaining: 17.1s\n",
      "540:\tlearn: 0.0180633\ttotal: 20.1s\tremaining: 17.1s\n",
      "541:\tlearn: 0.0180442\ttotal: 20.2s\tremaining: 17.1s\n",
      "542:\tlearn: 0.0180417\ttotal: 20.2s\tremaining: 17s\n",
      "543:\tlearn: 0.0180352\ttotal: 20.3s\tremaining: 17s\n",
      "544:\tlearn: 0.0180189\ttotal: 20.3s\tremaining: 17s\n",
      "545:\tlearn: 0.0179766\ttotal: 20.4s\tremaining: 16.9s\n",
      "546:\tlearn: 0.0179050\ttotal: 20.4s\tremaining: 16.9s\n",
      "547:\tlearn: 0.0178939\ttotal: 20.4s\tremaining: 16.9s\n",
      "548:\tlearn: 0.0178788\ttotal: 20.5s\tremaining: 16.8s\n",
      "549:\tlearn: 0.0178180\ttotal: 20.5s\tremaining: 16.8s\n",
      "550:\tlearn: 0.0177951\ttotal: 20.5s\tremaining: 16.7s\n",
      "551:\tlearn: 0.0177596\ttotal: 20.6s\tremaining: 16.7s\n",
      "552:\tlearn: 0.0177486\ttotal: 20.6s\tremaining: 16.7s\n",
      "553:\tlearn: 0.0177291\ttotal: 20.7s\tremaining: 16.6s\n",
      "554:\tlearn: 0.0177121\ttotal: 20.7s\tremaining: 16.6s\n",
      "555:\tlearn: 0.0176695\ttotal: 20.8s\tremaining: 16.6s\n",
      "556:\tlearn: 0.0176125\ttotal: 20.8s\tremaining: 16.5s\n",
      "557:\tlearn: 0.0175994\ttotal: 20.8s\tremaining: 16.5s\n",
      "558:\tlearn: 0.0175698\ttotal: 20.9s\tremaining: 16.5s\n",
      "559:\tlearn: 0.0175515\ttotal: 20.9s\tremaining: 16.4s\n",
      "560:\tlearn: 0.0175423\ttotal: 20.9s\tremaining: 16.4s\n",
      "561:\tlearn: 0.0175322\ttotal: 21s\tremaining: 16.3s\n",
      "562:\tlearn: 0.0174907\ttotal: 21s\tremaining: 16.3s\n",
      "563:\tlearn: 0.0174607\ttotal: 21s\tremaining: 16.3s\n",
      "564:\tlearn: 0.0174426\ttotal: 21.1s\tremaining: 16.2s\n",
      "565:\tlearn: 0.0174159\ttotal: 21.1s\tremaining: 16.2s\n",
      "566:\tlearn: 0.0173771\ttotal: 21.1s\tremaining: 16.1s\n",
      "567:\tlearn: 0.0173628\ttotal: 21.2s\tremaining: 16.1s\n",
      "568:\tlearn: 0.0173352\ttotal: 21.2s\tremaining: 16.1s\n",
      "569:\tlearn: 0.0173230\ttotal: 21.2s\tremaining: 16s\n",
      "570:\tlearn: 0.0173143\ttotal: 21.3s\tremaining: 16s\n",
      "571:\tlearn: 0.0172837\ttotal: 21.3s\tremaining: 15.9s\n",
      "572:\tlearn: 0.0172632\ttotal: 21.4s\tremaining: 15.9s\n",
      "573:\tlearn: 0.0172469\ttotal: 21.4s\tremaining: 15.9s\n",
      "574:\tlearn: 0.0172213\ttotal: 21.4s\tremaining: 15.9s\n",
      "575:\tlearn: 0.0172078\ttotal: 21.5s\tremaining: 15.8s\n",
      "576:\tlearn: 0.0171736\ttotal: 21.5s\tremaining: 15.8s\n",
      "577:\tlearn: 0.0171521\ttotal: 21.6s\tremaining: 15.7s\n",
      "578:\tlearn: 0.0171259\ttotal: 21.6s\tremaining: 15.7s\n",
      "579:\tlearn: 0.0170876\ttotal: 21.6s\tremaining: 15.7s\n",
      "580:\tlearn: 0.0170674\ttotal: 21.7s\tremaining: 15.6s\n",
      "581:\tlearn: 0.0170136\ttotal: 21.7s\tremaining: 15.6s\n",
      "582:\tlearn: 0.0169669\ttotal: 21.7s\tremaining: 15.5s\n",
      "583:\tlearn: 0.0169429\ttotal: 21.8s\tremaining: 15.5s\n",
      "584:\tlearn: 0.0168838\ttotal: 21.8s\tremaining: 15.5s\n",
      "585:\tlearn: 0.0168311\ttotal: 21.8s\tremaining: 15.4s\n",
      "586:\tlearn: 0.0168092\ttotal: 21.9s\tremaining: 15.4s\n",
      "587:\tlearn: 0.0167696\ttotal: 21.9s\tremaining: 15.3s\n",
      "588:\tlearn: 0.0167058\ttotal: 21.9s\tremaining: 15.3s\n",
      "589:\tlearn: 0.0166713\ttotal: 22s\tremaining: 15.3s\n",
      "590:\tlearn: 0.0166627\ttotal: 22s\tremaining: 15.2s\n",
      "591:\tlearn: 0.0166450\ttotal: 22s\tremaining: 15.2s\n",
      "592:\tlearn: 0.0166221\ttotal: 22.1s\tremaining: 15.2s\n",
      "593:\tlearn: 0.0165711\ttotal: 22.1s\tremaining: 15.1s\n",
      "594:\tlearn: 0.0165195\ttotal: 22.1s\tremaining: 15.1s\n",
      "595:\tlearn: 0.0164692\ttotal: 22.2s\tremaining: 15s\n",
      "596:\tlearn: 0.0164230\ttotal: 22.2s\tremaining: 15s\n",
      "597:\tlearn: 0.0163885\ttotal: 22.3s\tremaining: 15s\n",
      "598:\tlearn: 0.0163443\ttotal: 22.3s\tremaining: 14.9s\n",
      "599:\tlearn: 0.0163223\ttotal: 22.3s\tremaining: 14.9s\n",
      "600:\tlearn: 0.0163082\ttotal: 22.4s\tremaining: 14.8s\n",
      "601:\tlearn: 0.0162493\ttotal: 22.4s\tremaining: 14.8s\n",
      "602:\tlearn: 0.0162095\ttotal: 22.4s\tremaining: 14.8s\n",
      "603:\tlearn: 0.0161997\ttotal: 22.5s\tremaining: 14.7s\n",
      "604:\tlearn: 0.0161838\ttotal: 22.5s\tremaining: 14.7s\n",
      "605:\tlearn: 0.0161397\ttotal: 22.5s\tremaining: 14.7s\n",
      "606:\tlearn: 0.0161146\ttotal: 22.6s\tremaining: 14.6s\n",
      "607:\tlearn: 0.0160845\ttotal: 22.6s\tremaining: 14.6s\n",
      "608:\tlearn: 0.0160592\ttotal: 22.6s\tremaining: 14.5s\n",
      "609:\tlearn: 0.0160225\ttotal: 22.7s\tremaining: 14.5s\n",
      "610:\tlearn: 0.0160099\ttotal: 22.7s\tremaining: 14.5s\n",
      "611:\tlearn: 0.0159601\ttotal: 22.7s\tremaining: 14.4s\n",
      "612:\tlearn: 0.0159390\ttotal: 22.8s\tremaining: 14.4s\n",
      "613:\tlearn: 0.0159034\ttotal: 22.8s\tremaining: 14.3s\n",
      "614:\tlearn: 0.0158912\ttotal: 22.9s\tremaining: 14.3s\n",
      "615:\tlearn: 0.0158441\ttotal: 22.9s\tremaining: 14.3s\n",
      "616:\tlearn: 0.0158165\ttotal: 23s\tremaining: 14.3s\n",
      "617:\tlearn: 0.0157685\ttotal: 23s\tremaining: 14.2s\n",
      "618:\tlearn: 0.0157538\ttotal: 23.1s\tremaining: 14.2s\n",
      "619:\tlearn: 0.0157373\ttotal: 23.1s\tremaining: 14.2s\n",
      "620:\tlearn: 0.0156869\ttotal: 23.1s\tremaining: 14.1s\n",
      "621:\tlearn: 0.0156755\ttotal: 23.2s\tremaining: 14.1s\n",
      "622:\tlearn: 0.0156610\ttotal: 23.2s\tremaining: 14s\n",
      "623:\tlearn: 0.0156577\ttotal: 23.2s\tremaining: 14s\n",
      "624:\tlearn: 0.0156378\ttotal: 23.3s\tremaining: 14s\n",
      "625:\tlearn: 0.0156137\ttotal: 23.3s\tremaining: 13.9s\n",
      "626:\tlearn: 0.0155744\ttotal: 23.3s\tremaining: 13.9s\n",
      "627:\tlearn: 0.0155327\ttotal: 23.4s\tremaining: 13.8s\n",
      "628:\tlearn: 0.0155018\ttotal: 23.4s\tremaining: 13.8s\n",
      "629:\tlearn: 0.0154622\ttotal: 23.4s\tremaining: 13.8s\n",
      "630:\tlearn: 0.0154334\ttotal: 23.5s\tremaining: 13.7s\n",
      "631:\tlearn: 0.0153888\ttotal: 23.5s\tremaining: 13.7s\n",
      "632:\tlearn: 0.0153517\ttotal: 23.6s\tremaining: 13.7s\n",
      "633:\tlearn: 0.0153405\ttotal: 23.6s\tremaining: 13.6s\n",
      "634:\tlearn: 0.0153283\ttotal: 23.6s\tremaining: 13.6s\n",
      "635:\tlearn: 0.0152834\ttotal: 23.7s\tremaining: 13.5s\n",
      "636:\tlearn: 0.0152748\ttotal: 23.7s\tremaining: 13.5s\n",
      "637:\tlearn: 0.0152671\ttotal: 23.7s\tremaining: 13.5s\n",
      "638:\tlearn: 0.0152199\ttotal: 23.8s\tremaining: 13.4s\n",
      "639:\tlearn: 0.0151926\ttotal: 23.8s\tremaining: 13.4s\n",
      "640:\tlearn: 0.0151859\ttotal: 23.9s\tremaining: 13.4s\n",
      "641:\tlearn: 0.0151539\ttotal: 23.9s\tremaining: 13.3s\n",
      "642:\tlearn: 0.0151280\ttotal: 23.9s\tremaining: 13.3s\n",
      "643:\tlearn: 0.0151092\ttotal: 24s\tremaining: 13.2s\n",
      "644:\tlearn: 0.0150944\ttotal: 24s\tremaining: 13.2s\n",
      "645:\tlearn: 0.0150706\ttotal: 24s\tremaining: 13.2s\n",
      "646:\tlearn: 0.0150480\ttotal: 24.1s\tremaining: 13.1s\n"
     ]
    },
    {
     "name": "stdout",
     "output_type": "stream",
     "text": [
      "647:\tlearn: 0.0149931\ttotal: 24.1s\tremaining: 13.1s\n",
      "648:\tlearn: 0.0149658\ttotal: 24.1s\tremaining: 13.1s\n",
      "649:\tlearn: 0.0149423\ttotal: 24.2s\tremaining: 13s\n",
      "650:\tlearn: 0.0149134\ttotal: 24.2s\tremaining: 13s\n",
      "651:\tlearn: 0.0148831\ttotal: 24.2s\tremaining: 12.9s\n",
      "652:\tlearn: 0.0148687\ttotal: 24.3s\tremaining: 12.9s\n",
      "653:\tlearn: 0.0148150\ttotal: 24.3s\tremaining: 12.9s\n",
      "654:\tlearn: 0.0147731\ttotal: 24.3s\tremaining: 12.8s\n",
      "655:\tlearn: 0.0147592\ttotal: 24.4s\tremaining: 12.8s\n",
      "656:\tlearn: 0.0147250\ttotal: 24.4s\tremaining: 12.7s\n",
      "657:\tlearn: 0.0146929\ttotal: 24.4s\tremaining: 12.7s\n",
      "658:\tlearn: 0.0146843\ttotal: 24.5s\tremaining: 12.7s\n",
      "659:\tlearn: 0.0146756\ttotal: 24.5s\tremaining: 12.6s\n",
      "660:\tlearn: 0.0146655\ttotal: 24.6s\tremaining: 12.6s\n",
      "661:\tlearn: 0.0146076\ttotal: 24.6s\tremaining: 12.6s\n",
      "662:\tlearn: 0.0145749\ttotal: 24.6s\tremaining: 12.5s\n",
      "663:\tlearn: 0.0145534\ttotal: 24.7s\tremaining: 12.5s\n",
      "664:\tlearn: 0.0144984\ttotal: 24.7s\tremaining: 12.4s\n",
      "665:\tlearn: 0.0144780\ttotal: 24.7s\tremaining: 12.4s\n",
      "666:\tlearn: 0.0144442\ttotal: 24.8s\tremaining: 12.4s\n",
      "667:\tlearn: 0.0144249\ttotal: 24.8s\tremaining: 12.3s\n",
      "668:\tlearn: 0.0144132\ttotal: 24.8s\tremaining: 12.3s\n",
      "669:\tlearn: 0.0143992\ttotal: 24.9s\tremaining: 12.3s\n",
      "670:\tlearn: 0.0143882\ttotal: 24.9s\tremaining: 12.2s\n",
      "671:\tlearn: 0.0143697\ttotal: 25s\tremaining: 12.2s\n",
      "672:\tlearn: 0.0143413\ttotal: 25s\tremaining: 12.1s\n",
      "673:\tlearn: 0.0143264\ttotal: 25s\tremaining: 12.1s\n",
      "674:\tlearn: 0.0142953\ttotal: 25.1s\tremaining: 12.1s\n",
      "675:\tlearn: 0.0142720\ttotal: 25.1s\tremaining: 12s\n",
      "676:\tlearn: 0.0142545\ttotal: 25.2s\tremaining: 12s\n",
      "677:\tlearn: 0.0142211\ttotal: 25.2s\tremaining: 12s\n",
      "678:\tlearn: 0.0142084\ttotal: 25.3s\tremaining: 11.9s\n",
      "679:\tlearn: 0.0141802\ttotal: 25.3s\tremaining: 11.9s\n",
      "680:\tlearn: 0.0141341\ttotal: 25.4s\tremaining: 11.9s\n",
      "681:\tlearn: 0.0140663\ttotal: 25.4s\tremaining: 11.8s\n",
      "682:\tlearn: 0.0140555\ttotal: 25.4s\tremaining: 11.8s\n",
      "683:\tlearn: 0.0140344\ttotal: 25.5s\tremaining: 11.8s\n",
      "684:\tlearn: 0.0139812\ttotal: 25.5s\tremaining: 11.7s\n",
      "685:\tlearn: 0.0139720\ttotal: 25.6s\tremaining: 11.7s\n",
      "686:\tlearn: 0.0139436\ttotal: 25.6s\tremaining: 11.7s\n",
      "687:\tlearn: 0.0139189\ttotal: 25.6s\tremaining: 11.6s\n",
      "688:\tlearn: 0.0139032\ttotal: 25.7s\tremaining: 11.6s\n",
      "689:\tlearn: 0.0138866\ttotal: 25.7s\tremaining: 11.6s\n",
      "690:\tlearn: 0.0138790\ttotal: 25.8s\tremaining: 11.5s\n",
      "691:\tlearn: 0.0138747\ttotal: 25.8s\tremaining: 11.5s\n",
      "692:\tlearn: 0.0138473\ttotal: 25.8s\tremaining: 11.4s\n",
      "693:\tlearn: 0.0138090\ttotal: 25.9s\tremaining: 11.4s\n",
      "694:\tlearn: 0.0137884\ttotal: 25.9s\tremaining: 11.4s\n",
      "695:\tlearn: 0.0137756\ttotal: 26s\tremaining: 11.3s\n",
      "696:\tlearn: 0.0137506\ttotal: 26s\tremaining: 11.3s\n",
      "697:\tlearn: 0.0137271\ttotal: 26s\tremaining: 11.3s\n",
      "698:\tlearn: 0.0137143\ttotal: 26.1s\tremaining: 11.2s\n",
      "699:\tlearn: 0.0136949\ttotal: 26.1s\tremaining: 11.2s\n",
      "700:\tlearn: 0.0136854\ttotal: 26.2s\tremaining: 11.2s\n",
      "701:\tlearn: 0.0136517\ttotal: 26.2s\tremaining: 11.1s\n",
      "702:\tlearn: 0.0136393\ttotal: 26.2s\tremaining: 11.1s\n",
      "703:\tlearn: 0.0136293\ttotal: 26.3s\tremaining: 11.1s\n",
      "704:\tlearn: 0.0136067\ttotal: 26.3s\tremaining: 11s\n",
      "705:\tlearn: 0.0135782\ttotal: 26.4s\tremaining: 11s\n",
      "706:\tlearn: 0.0135661\ttotal: 26.4s\tremaining: 10.9s\n",
      "707:\tlearn: 0.0135218\ttotal: 26.5s\tremaining: 10.9s\n",
      "708:\tlearn: 0.0134843\ttotal: 26.5s\tremaining: 10.9s\n",
      "709:\tlearn: 0.0134744\ttotal: 26.5s\tremaining: 10.8s\n",
      "710:\tlearn: 0.0134522\ttotal: 26.6s\tremaining: 10.8s\n",
      "711:\tlearn: 0.0134412\ttotal: 26.6s\tremaining: 10.8s\n",
      "712:\tlearn: 0.0134142\ttotal: 26.6s\tremaining: 10.7s\n",
      "713:\tlearn: 0.0133963\ttotal: 26.7s\tremaining: 10.7s\n",
      "714:\tlearn: 0.0133868\ttotal: 26.7s\tremaining: 10.6s\n",
      "715:\tlearn: 0.0133605\ttotal: 26.7s\tremaining: 10.6s\n",
      "716:\tlearn: 0.0133536\ttotal: 26.8s\tremaining: 10.6s\n",
      "717:\tlearn: 0.0133373\ttotal: 26.8s\tremaining: 10.5s\n",
      "718:\tlearn: 0.0133259\ttotal: 26.9s\tremaining: 10.5s\n",
      "719:\tlearn: 0.0132881\ttotal: 26.9s\tremaining: 10.5s\n",
      "720:\tlearn: 0.0132773\ttotal: 26.9s\tremaining: 10.4s\n",
      "721:\tlearn: 0.0132684\ttotal: 27s\tremaining: 10.4s\n",
      "722:\tlearn: 0.0132547\ttotal: 27s\tremaining: 10.3s\n",
      "723:\tlearn: 0.0132372\ttotal: 27s\tremaining: 10.3s\n",
      "724:\tlearn: 0.0132217\ttotal: 27.1s\tremaining: 10.3s\n",
      "725:\tlearn: 0.0132061\ttotal: 27.1s\tremaining: 10.2s\n",
      "726:\tlearn: 0.0131869\ttotal: 27.1s\tremaining: 10.2s\n",
      "727:\tlearn: 0.0131763\ttotal: 27.2s\tremaining: 10.2s\n",
      "728:\tlearn: 0.0131527\ttotal: 27.2s\tremaining: 10.1s\n",
      "729:\tlearn: 0.0131399\ttotal: 27.2s\tremaining: 10.1s\n",
      "730:\tlearn: 0.0131275\ttotal: 27.3s\tremaining: 10s\n",
      "731:\tlearn: 0.0131047\ttotal: 27.3s\tremaining: 10s\n",
      "732:\tlearn: 0.0130999\ttotal: 27.4s\tremaining: 9.96s\n",
      "733:\tlearn: 0.0130823\ttotal: 27.4s\tremaining: 9.93s\n",
      "734:\tlearn: 0.0130614\ttotal: 27.4s\tremaining: 9.89s\n",
      "735:\tlearn: 0.0130367\ttotal: 27.5s\tremaining: 9.85s\n",
      "736:\tlearn: 0.0130057\ttotal: 27.5s\tremaining: 9.81s\n",
      "737:\tlearn: 0.0129749\ttotal: 27.5s\tremaining: 9.78s\n",
      "738:\tlearn: 0.0129650\ttotal: 27.6s\tremaining: 9.74s\n",
      "739:\tlearn: 0.0129328\ttotal: 27.6s\tremaining: 9.7s\n",
      "740:\tlearn: 0.0129129\ttotal: 27.6s\tremaining: 9.66s\n",
      "741:\tlearn: 0.0129017\ttotal: 27.7s\tremaining: 9.62s\n",
      "742:\tlearn: 0.0128792\ttotal: 27.7s\tremaining: 9.58s\n",
      "743:\tlearn: 0.0128729\ttotal: 27.7s\tremaining: 9.54s\n",
      "744:\tlearn: 0.0128347\ttotal: 27.8s\tremaining: 9.51s\n",
      "745:\tlearn: 0.0128011\ttotal: 27.8s\tremaining: 9.47s\n",
      "746:\tlearn: 0.0127875\ttotal: 27.8s\tremaining: 9.43s\n",
      "747:\tlearn: 0.0127655\ttotal: 27.9s\tremaining: 9.39s\n",
      "748:\tlearn: 0.0127428\ttotal: 27.9s\tremaining: 9.35s\n",
      "749:\tlearn: 0.0127288\ttotal: 27.9s\tremaining: 9.32s\n",
      "750:\tlearn: 0.0127226\ttotal: 28s\tremaining: 9.28s\n",
      "751:\tlearn: 0.0127039\ttotal: 28s\tremaining: 9.24s\n",
      "752:\tlearn: 0.0126751\ttotal: 28.1s\tremaining: 9.2s\n",
      "753:\tlearn: 0.0126715\ttotal: 28.1s\tremaining: 9.16s\n",
      "754:\tlearn: 0.0126621\ttotal: 28.1s\tremaining: 9.13s\n",
      "755:\tlearn: 0.0126447\ttotal: 28.2s\tremaining: 9.09s\n",
      "756:\tlearn: 0.0126281\ttotal: 28.2s\tremaining: 9.05s\n",
      "757:\tlearn: 0.0126230\ttotal: 28.2s\tremaining: 9.01s\n",
      "758:\tlearn: 0.0125699\ttotal: 28.3s\tremaining: 8.97s\n",
      "759:\tlearn: 0.0125630\ttotal: 28.3s\tremaining: 8.94s\n",
      "760:\tlearn: 0.0125551\ttotal: 28.3s\tremaining: 8.9s\n",
      "761:\tlearn: 0.0125484\ttotal: 28.4s\tremaining: 8.86s\n",
      "762:\tlearn: 0.0125243\ttotal: 28.4s\tremaining: 8.82s\n",
      "763:\tlearn: 0.0125173\ttotal: 28.4s\tremaining: 8.79s\n",
      "764:\tlearn: 0.0124895\ttotal: 28.5s\tremaining: 8.75s\n",
      "765:\tlearn: 0.0124847\ttotal: 28.5s\tremaining: 8.71s\n",
      "766:\tlearn: 0.0124534\ttotal: 28.6s\tremaining: 8.67s\n",
      "767:\tlearn: 0.0124308\ttotal: 28.6s\tremaining: 8.63s\n",
      "768:\tlearn: 0.0124187\ttotal: 28.6s\tremaining: 8.6s\n",
      "769:\tlearn: 0.0124131\ttotal: 28.7s\tremaining: 8.56s\n",
      "770:\tlearn: 0.0124004\ttotal: 28.7s\tremaining: 8.52s\n",
      "771:\tlearn: 0.0123887\ttotal: 28.7s\tremaining: 8.49s\n",
      "772:\tlearn: 0.0123517\ttotal: 28.8s\tremaining: 8.45s\n",
      "773:\tlearn: 0.0123359\ttotal: 28.8s\tremaining: 8.41s\n",
      "774:\tlearn: 0.0123153\ttotal: 28.8s\tremaining: 8.37s\n",
      "775:\tlearn: 0.0122816\ttotal: 28.9s\tremaining: 8.34s\n",
      "776:\tlearn: 0.0122757\ttotal: 28.9s\tremaining: 8.3s\n",
      "777:\tlearn: 0.0122538\ttotal: 29s\tremaining: 8.26s\n",
      "778:\tlearn: 0.0122246\ttotal: 29s\tremaining: 8.22s\n",
      "779:\tlearn: 0.0121870\ttotal: 29s\tremaining: 8.19s\n",
      "780:\tlearn: 0.0121720\ttotal: 29.1s\tremaining: 8.15s\n",
      "781:\tlearn: 0.0121602\ttotal: 29.1s\tremaining: 8.11s\n",
      "782:\tlearn: 0.0121420\ttotal: 29.1s\tremaining: 8.07s\n",
      "783:\tlearn: 0.0121275\ttotal: 29.2s\tremaining: 8.03s\n",
      "784:\tlearn: 0.0121082\ttotal: 29.2s\tremaining: 8s\n",
      "785:\tlearn: 0.0120814\ttotal: 29.2s\tremaining: 7.96s\n",
      "786:\tlearn: 0.0120701\ttotal: 29.3s\tremaining: 7.92s\n",
      "787:\tlearn: 0.0120412\ttotal: 29.3s\tremaining: 7.88s\n",
      "788:\tlearn: 0.0120267\ttotal: 29.3s\tremaining: 7.84s\n",
      "789:\tlearn: 0.0120164\ttotal: 29.4s\tremaining: 7.8s\n",
      "790:\tlearn: 0.0119994\ttotal: 29.4s\tremaining: 7.77s\n",
      "791:\tlearn: 0.0119892\ttotal: 29.4s\tremaining: 7.73s\n",
      "792:\tlearn: 0.0119766\ttotal: 29.5s\tremaining: 7.69s\n",
      "793:\tlearn: 0.0119689\ttotal: 29.5s\tremaining: 7.66s\n",
      "794:\tlearn: 0.0119600\ttotal: 29.5s\tremaining: 7.62s\n",
      "795:\tlearn: 0.0119408\ttotal: 29.6s\tremaining: 7.58s\n",
      "796:\tlearn: 0.0119314\ttotal: 29.6s\tremaining: 7.54s\n",
      "797:\tlearn: 0.0119197\ttotal: 29.6s\tremaining: 7.5s\n",
      "798:\tlearn: 0.0119154\ttotal: 29.7s\tremaining: 7.46s\n",
      "799:\tlearn: 0.0118922\ttotal: 29.7s\tremaining: 7.43s\n",
      "800:\tlearn: 0.0118838\ttotal: 29.7s\tremaining: 7.39s\n",
      "801:\tlearn: 0.0118580\ttotal: 29.8s\tremaining: 7.36s\n",
      "802:\tlearn: 0.0118297\ttotal: 29.9s\tremaining: 7.32s\n",
      "803:\tlearn: 0.0118106\ttotal: 29.9s\tremaining: 7.29s\n",
      "804:\tlearn: 0.0117904\ttotal: 29.9s\tremaining: 7.25s\n",
      "805:\tlearn: 0.0117793\ttotal: 30s\tremaining: 7.21s\n",
      "806:\tlearn: 0.0117601\ttotal: 30s\tremaining: 7.17s\n",
      "807:\tlearn: 0.0117335\ttotal: 30s\tremaining: 7.14s\n",
      "808:\tlearn: 0.0117245\ttotal: 30.1s\tremaining: 7.1s\n",
      "809:\tlearn: 0.0117010\ttotal: 30.1s\tremaining: 7.06s\n"
     ]
    },
    {
     "name": "stdout",
     "output_type": "stream",
     "text": [
      "810:\tlearn: 0.0116829\ttotal: 30.1s\tremaining: 7.02s\n",
      "811:\tlearn: 0.0116646\ttotal: 30.2s\tremaining: 6.99s\n",
      "812:\tlearn: 0.0116554\ttotal: 30.2s\tremaining: 6.95s\n",
      "813:\tlearn: 0.0116252\ttotal: 30.2s\tremaining: 6.91s\n",
      "814:\tlearn: 0.0116008\ttotal: 30.3s\tremaining: 6.87s\n",
      "815:\tlearn: 0.0115560\ttotal: 30.3s\tremaining: 6.84s\n",
      "816:\tlearn: 0.0115445\ttotal: 30.4s\tremaining: 6.8s\n",
      "817:\tlearn: 0.0115218\ttotal: 30.4s\tremaining: 6.76s\n",
      "818:\tlearn: 0.0115032\ttotal: 30.4s\tremaining: 6.72s\n",
      "819:\tlearn: 0.0114802\ttotal: 30.5s\tremaining: 6.68s\n",
      "820:\tlearn: 0.0114595\ttotal: 30.5s\tremaining: 6.65s\n",
      "821:\tlearn: 0.0114450\ttotal: 30.5s\tremaining: 6.61s\n",
      "822:\tlearn: 0.0114404\ttotal: 30.6s\tremaining: 6.57s\n",
      "823:\tlearn: 0.0114314\ttotal: 30.6s\tremaining: 6.53s\n",
      "824:\tlearn: 0.0113885\ttotal: 30.6s\tremaining: 6.5s\n",
      "825:\tlearn: 0.0113840\ttotal: 30.7s\tremaining: 6.46s\n",
      "826:\tlearn: 0.0113739\ttotal: 30.7s\tremaining: 6.42s\n",
      "827:\tlearn: 0.0113492\ttotal: 30.7s\tremaining: 6.38s\n",
      "828:\tlearn: 0.0113414\ttotal: 30.8s\tremaining: 6.34s\n",
      "829:\tlearn: 0.0113213\ttotal: 30.8s\tremaining: 6.31s\n",
      "830:\tlearn: 0.0113015\ttotal: 30.8s\tremaining: 6.27s\n",
      "831:\tlearn: 0.0112967\ttotal: 30.9s\tremaining: 6.23s\n",
      "832:\tlearn: 0.0112894\ttotal: 30.9s\tremaining: 6.2s\n",
      "833:\tlearn: 0.0112574\ttotal: 30.9s\tremaining: 6.16s\n",
      "834:\tlearn: 0.0112400\ttotal: 31s\tremaining: 6.12s\n",
      "835:\tlearn: 0.0112163\ttotal: 31s\tremaining: 6.08s\n",
      "836:\tlearn: 0.0112056\ttotal: 31.1s\tremaining: 6.05s\n",
      "837:\tlearn: 0.0111816\ttotal: 31.1s\tremaining: 6.01s\n",
      "838:\tlearn: 0.0111678\ttotal: 31.1s\tremaining: 5.97s\n",
      "839:\tlearn: 0.0111574\ttotal: 31.2s\tremaining: 5.93s\n",
      "840:\tlearn: 0.0111532\ttotal: 31.2s\tremaining: 5.9s\n",
      "841:\tlearn: 0.0111337\ttotal: 31.2s\tremaining: 5.86s\n",
      "842:\tlearn: 0.0111101\ttotal: 31.3s\tremaining: 5.82s\n",
      "843:\tlearn: 0.0110958\ttotal: 31.3s\tremaining: 5.78s\n",
      "844:\tlearn: 0.0110831\ttotal: 31.3s\tremaining: 5.75s\n",
      "845:\tlearn: 0.0110692\ttotal: 31.4s\tremaining: 5.71s\n",
      "846:\tlearn: 0.0110651\ttotal: 31.4s\tremaining: 5.67s\n",
      "847:\tlearn: 0.0110473\ttotal: 31.4s\tremaining: 5.63s\n",
      "848:\tlearn: 0.0110420\ttotal: 31.5s\tremaining: 5.6s\n",
      "849:\tlearn: 0.0110124\ttotal: 31.5s\tremaining: 5.56s\n",
      "850:\tlearn: 0.0109858\ttotal: 31.5s\tremaining: 5.52s\n",
      "851:\tlearn: 0.0109424\ttotal: 31.6s\tremaining: 5.49s\n",
      "852:\tlearn: 0.0109323\ttotal: 31.6s\tremaining: 5.45s\n",
      "853:\tlearn: 0.0109216\ttotal: 31.6s\tremaining: 5.41s\n",
      "854:\tlearn: 0.0109119\ttotal: 31.7s\tremaining: 5.37s\n",
      "855:\tlearn: 0.0108970\ttotal: 31.7s\tremaining: 5.33s\n",
      "856:\tlearn: 0.0108831\ttotal: 31.7s\tremaining: 5.3s\n",
      "857:\tlearn: 0.0108348\ttotal: 31.8s\tremaining: 5.26s\n",
      "858:\tlearn: 0.0108313\ttotal: 31.8s\tremaining: 5.22s\n",
      "859:\tlearn: 0.0108085\ttotal: 31.8s\tremaining: 5.18s\n",
      "860:\tlearn: 0.0107996\ttotal: 31.9s\tremaining: 5.15s\n",
      "861:\tlearn: 0.0107724\ttotal: 31.9s\tremaining: 5.11s\n",
      "862:\tlearn: 0.0107609\ttotal: 32s\tremaining: 5.07s\n",
      "863:\tlearn: 0.0107499\ttotal: 32s\tremaining: 5.04s\n",
      "864:\tlearn: 0.0107394\ttotal: 32s\tremaining: 5s\n",
      "865:\tlearn: 0.0107356\ttotal: 32.1s\tremaining: 4.96s\n",
      "866:\tlearn: 0.0107013\ttotal: 32.1s\tremaining: 4.92s\n",
      "867:\tlearn: 0.0106889\ttotal: 32.1s\tremaining: 4.89s\n",
      "868:\tlearn: 0.0106523\ttotal: 32.2s\tremaining: 4.85s\n",
      "869:\tlearn: 0.0106416\ttotal: 32.2s\tremaining: 4.81s\n",
      "870:\tlearn: 0.0106195\ttotal: 32.2s\tremaining: 4.77s\n",
      "871:\tlearn: 0.0106098\ttotal: 32.3s\tremaining: 4.74s\n",
      "872:\tlearn: 0.0106048\ttotal: 32.3s\tremaining: 4.7s\n",
      "873:\tlearn: 0.0105909\ttotal: 32.3s\tremaining: 4.66s\n",
      "874:\tlearn: 0.0105708\ttotal: 32.4s\tremaining: 4.62s\n",
      "875:\tlearn: 0.0105595\ttotal: 32.4s\tremaining: 4.59s\n",
      "876:\tlearn: 0.0105570\ttotal: 32.4s\tremaining: 4.55s\n",
      "877:\tlearn: 0.0105350\ttotal: 32.5s\tremaining: 4.51s\n",
      "878:\tlearn: 0.0105245\ttotal: 32.5s\tremaining: 4.48s\n",
      "879:\tlearn: 0.0105132\ttotal: 32.6s\tremaining: 4.44s\n",
      "880:\tlearn: 0.0104898\ttotal: 32.6s\tremaining: 4.4s\n",
      "881:\tlearn: 0.0104839\ttotal: 32.6s\tremaining: 4.36s\n",
      "882:\tlearn: 0.0104744\ttotal: 32.7s\tremaining: 4.33s\n",
      "883:\tlearn: 0.0104670\ttotal: 32.7s\tremaining: 4.29s\n",
      "884:\tlearn: 0.0104640\ttotal: 32.7s\tremaining: 4.25s\n",
      "885:\tlearn: 0.0104496\ttotal: 32.8s\tremaining: 4.22s\n",
      "886:\tlearn: 0.0104212\ttotal: 32.8s\tremaining: 4.18s\n",
      "887:\tlearn: 0.0104124\ttotal: 32.8s\tremaining: 4.14s\n",
      "888:\tlearn: 0.0103980\ttotal: 32.9s\tremaining: 4.1s\n",
      "889:\tlearn: 0.0103883\ttotal: 32.9s\tremaining: 4.07s\n",
      "890:\tlearn: 0.0103648\ttotal: 32.9s\tremaining: 4.03s\n",
      "891:\tlearn: 0.0103605\ttotal: 33s\tremaining: 3.99s\n",
      "892:\tlearn: 0.0103193\ttotal: 33s\tremaining: 3.96s\n",
      "893:\tlearn: 0.0103107\ttotal: 33s\tremaining: 3.92s\n",
      "894:\tlearn: 0.0102872\ttotal: 33.1s\tremaining: 3.88s\n",
      "895:\tlearn: 0.0102716\ttotal: 33.1s\tremaining: 3.84s\n",
      "896:\tlearn: 0.0102143\ttotal: 33.2s\tremaining: 3.81s\n",
      "897:\tlearn: 0.0101987\ttotal: 33.2s\tremaining: 3.77s\n",
      "898:\tlearn: 0.0101855\ttotal: 33.2s\tremaining: 3.73s\n",
      "899:\tlearn: 0.0101767\ttotal: 33.3s\tremaining: 3.69s\n",
      "900:\tlearn: 0.0101573\ttotal: 33.3s\tremaining: 3.66s\n",
      "901:\tlearn: 0.0101535\ttotal: 33.3s\tremaining: 3.62s\n",
      "902:\tlearn: 0.0101409\ttotal: 33.4s\tremaining: 3.58s\n",
      "903:\tlearn: 0.0101269\ttotal: 33.4s\tremaining: 3.55s\n",
      "904:\tlearn: 0.0101031\ttotal: 33.4s\tremaining: 3.51s\n",
      "905:\tlearn: 0.0100863\ttotal: 33.5s\tremaining: 3.47s\n",
      "906:\tlearn: 0.0100457\ttotal: 33.5s\tremaining: 3.44s\n",
      "907:\tlearn: 0.0100349\ttotal: 33.5s\tremaining: 3.4s\n",
      "908:\tlearn: 0.0100121\ttotal: 33.6s\tremaining: 3.36s\n",
      "909:\tlearn: 0.0100006\ttotal: 33.6s\tremaining: 3.33s\n",
      "910:\tlearn: 0.0099787\ttotal: 33.7s\tremaining: 3.29s\n",
      "911:\tlearn: 0.0099659\ttotal: 33.7s\tremaining: 3.25s\n",
      "912:\tlearn: 0.0099589\ttotal: 33.7s\tremaining: 3.21s\n",
      "913:\tlearn: 0.0099377\ttotal: 33.8s\tremaining: 3.18s\n",
      "914:\tlearn: 0.0099150\ttotal: 33.8s\tremaining: 3.14s\n",
      "915:\tlearn: 0.0099064\ttotal: 33.8s\tremaining: 3.1s\n",
      "916:\tlearn: 0.0099001\ttotal: 33.9s\tremaining: 3.06s\n",
      "917:\tlearn: 0.0098926\ttotal: 33.9s\tremaining: 3.03s\n",
      "918:\tlearn: 0.0098766\ttotal: 33.9s\tremaining: 2.99s\n",
      "919:\tlearn: 0.0098517\ttotal: 34s\tremaining: 2.95s\n",
      "920:\tlearn: 0.0098183\ttotal: 34s\tremaining: 2.92s\n",
      "921:\tlearn: 0.0097988\ttotal: 34s\tremaining: 2.88s\n",
      "922:\tlearn: 0.0097909\ttotal: 34.1s\tremaining: 2.84s\n",
      "923:\tlearn: 0.0097854\ttotal: 34.1s\tremaining: 2.81s\n",
      "924:\tlearn: 0.0097753\ttotal: 34.1s\tremaining: 2.77s\n",
      "925:\tlearn: 0.0097626\ttotal: 34.2s\tremaining: 2.73s\n",
      "926:\tlearn: 0.0097600\ttotal: 34.2s\tremaining: 2.69s\n",
      "927:\tlearn: 0.0097569\ttotal: 34.3s\tremaining: 2.66s\n",
      "928:\tlearn: 0.0097246\ttotal: 34.3s\tremaining: 2.62s\n",
      "929:\tlearn: 0.0097176\ttotal: 34.3s\tremaining: 2.58s\n",
      "930:\tlearn: 0.0096963\ttotal: 34.4s\tremaining: 2.55s\n",
      "931:\tlearn: 0.0096922\ttotal: 34.4s\tremaining: 2.51s\n",
      "932:\tlearn: 0.0096759\ttotal: 34.4s\tremaining: 2.47s\n",
      "933:\tlearn: 0.0096562\ttotal: 34.5s\tremaining: 2.44s\n",
      "934:\tlearn: 0.0096479\ttotal: 34.5s\tremaining: 2.4s\n",
      "935:\tlearn: 0.0096364\ttotal: 34.5s\tremaining: 2.36s\n",
      "936:\tlearn: 0.0096210\ttotal: 34.6s\tremaining: 2.32s\n",
      "937:\tlearn: 0.0096182\ttotal: 34.6s\tremaining: 2.29s\n",
      "938:\tlearn: 0.0096045\ttotal: 34.6s\tremaining: 2.25s\n",
      "939:\tlearn: 0.0096016\ttotal: 34.7s\tremaining: 2.21s\n",
      "940:\tlearn: 0.0095920\ttotal: 34.7s\tremaining: 2.18s\n",
      "941:\tlearn: 0.0095773\ttotal: 34.7s\tremaining: 2.14s\n",
      "942:\tlearn: 0.0095602\ttotal: 34.8s\tremaining: 2.1s\n",
      "943:\tlearn: 0.0095491\ttotal: 34.8s\tremaining: 2.06s\n",
      "944:\tlearn: 0.0095470\ttotal: 34.8s\tremaining: 2.03s\n",
      "945:\tlearn: 0.0095454\ttotal: 34.9s\tremaining: 1.99s\n",
      "946:\tlearn: 0.0095371\ttotal: 34.9s\tremaining: 1.95s\n",
      "947:\tlearn: 0.0095128\ttotal: 34.9s\tremaining: 1.92s\n",
      "948:\tlearn: 0.0094972\ttotal: 35s\tremaining: 1.88s\n",
      "949:\tlearn: 0.0094936\ttotal: 35s\tremaining: 1.84s\n",
      "950:\tlearn: 0.0094860\ttotal: 35s\tremaining: 1.8s\n",
      "951:\tlearn: 0.0094686\ttotal: 35.1s\tremaining: 1.77s\n",
      "952:\tlearn: 0.0094604\ttotal: 35.1s\tremaining: 1.73s\n",
      "953:\tlearn: 0.0094499\ttotal: 35.2s\tremaining: 1.69s\n",
      "954:\tlearn: 0.0094434\ttotal: 35.2s\tremaining: 1.66s\n",
      "955:\tlearn: 0.0094250\ttotal: 35.2s\tremaining: 1.62s\n",
      "956:\tlearn: 0.0093984\ttotal: 35.3s\tremaining: 1.58s\n",
      "957:\tlearn: 0.0093825\ttotal: 35.3s\tremaining: 1.55s\n",
      "958:\tlearn: 0.0093669\ttotal: 35.3s\tremaining: 1.51s\n",
      "959:\tlearn: 0.0093550\ttotal: 35.4s\tremaining: 1.47s\n",
      "960:\tlearn: 0.0093440\ttotal: 35.4s\tremaining: 1.44s\n",
      "961:\tlearn: 0.0093286\ttotal: 35.4s\tremaining: 1.4s\n",
      "962:\tlearn: 0.0093274\ttotal: 35.5s\tremaining: 1.36s\n",
      "963:\tlearn: 0.0093040\ttotal: 35.5s\tremaining: 1.32s\n",
      "964:\tlearn: 0.0092958\ttotal: 35.5s\tremaining: 1.29s\n",
      "965:\tlearn: 0.0092902\ttotal: 35.6s\tremaining: 1.25s\n",
      "966:\tlearn: 0.0092869\ttotal: 35.6s\tremaining: 1.21s\n",
      "967:\tlearn: 0.0092764\ttotal: 35.6s\tremaining: 1.18s\n",
      "968:\tlearn: 0.0092636\ttotal: 35.7s\tremaining: 1.14s\n"
     ]
    },
    {
     "name": "stdout",
     "output_type": "stream",
     "text": [
      "969:\tlearn: 0.0092478\ttotal: 35.7s\tremaining: 1.1s\n",
      "970:\tlearn: 0.0092340\ttotal: 35.8s\tremaining: 1.07s\n",
      "971:\tlearn: 0.0092216\ttotal: 35.8s\tremaining: 1.03s\n",
      "972:\tlearn: 0.0092165\ttotal: 35.8s\tremaining: 994ms\n",
      "973:\tlearn: 0.0092103\ttotal: 35.9s\tremaining: 957ms\n",
      "974:\tlearn: 0.0092000\ttotal: 35.9s\tremaining: 920ms\n",
      "975:\tlearn: 0.0091894\ttotal: 35.9s\tremaining: 883ms\n",
      "976:\tlearn: 0.0091548\ttotal: 36s\tremaining: 846ms\n",
      "977:\tlearn: 0.0091462\ttotal: 36s\tremaining: 810ms\n",
      "978:\tlearn: 0.0091359\ttotal: 36s\tremaining: 773ms\n",
      "979:\tlearn: 0.0091263\ttotal: 36.1s\tremaining: 736ms\n",
      "980:\tlearn: 0.0091188\ttotal: 36.1s\tremaining: 699ms\n",
      "981:\tlearn: 0.0091137\ttotal: 36.1s\tremaining: 662ms\n",
      "982:\tlearn: 0.0091070\ttotal: 36.2s\tremaining: 626ms\n",
      "983:\tlearn: 0.0091041\ttotal: 36.2s\tremaining: 589ms\n",
      "984:\tlearn: 0.0090986\ttotal: 36.2s\tremaining: 552ms\n",
      "985:\tlearn: 0.0090910\ttotal: 36.3s\tremaining: 515ms\n",
      "986:\tlearn: 0.0090877\ttotal: 36.3s\tremaining: 478ms\n",
      "987:\tlearn: 0.0090796\ttotal: 36.3s\tremaining: 441ms\n",
      "988:\tlearn: 0.0090684\ttotal: 36.4s\tremaining: 405ms\n",
      "989:\tlearn: 0.0090564\ttotal: 36.4s\tremaining: 368ms\n",
      "990:\tlearn: 0.0090449\ttotal: 36.4s\tremaining: 331ms\n",
      "991:\tlearn: 0.0090345\ttotal: 36.5s\tremaining: 294ms\n",
      "992:\tlearn: 0.0090174\ttotal: 36.5s\tremaining: 257ms\n",
      "993:\tlearn: 0.0090065\ttotal: 36.5s\tremaining: 221ms\n",
      "994:\tlearn: 0.0090015\ttotal: 36.6s\tremaining: 184ms\n",
      "995:\tlearn: 0.0089903\ttotal: 36.6s\tremaining: 147ms\n",
      "996:\tlearn: 0.0089582\ttotal: 36.7s\tremaining: 110ms\n",
      "997:\tlearn: 0.0089517\ttotal: 36.7s\tremaining: 73.5ms\n",
      "998:\tlearn: 0.0089395\ttotal: 36.7s\tremaining: 36.8ms\n",
      "999:\tlearn: 0.0089324\ttotal: 36.8s\tremaining: 0us\n",
      "Wall time: 37.3 s\n"
     ]
    },
    {
     "data": {
      "text/plain": [
       "<catboost.core.CatBoostClassifier at 0x17d8311a198>"
      ]
     },
     "execution_count": 460,
     "metadata": {},
     "output_type": "execute_result"
    }
   ],
   "source": [
    "%%time\n",
    "ctb.fit(X_train, y_train, cat_features=cat_features_idx);"
   ]
  },
  {
   "cell_type": "code",
   "execution_count": 461,
   "metadata": {},
   "outputs": [
    {
     "data": {
      "text/plain": [
       "0.08827838827838827"
      ]
     },
     "execution_count": 461,
     "metadata": {},
     "output_type": "execute_result"
    }
   ],
   "source": [
    "pr_auc_score(y_valid, ctb.predict(X_valid))"
   ]
  },
  {
   "cell_type": "code",
   "execution_count": 462,
   "metadata": {},
   "outputs": [
    {
     "name": "stdout",
     "output_type": "stream",
     "text": [
      "Precision: 0.17\n",
      "Recall: 0.04\n",
      "F1: 0.06\n"
     ]
    }
   ],
   "source": [
    "print('Precision: {0:.2f}'.format(precision_score(y_valid, ctb.predict(X_valid))))\n",
    "print('Recall: {0:.2f}'.format(recall_score(y_valid, ctb.predict(X_valid))))\n",
    "print('F1: {0:.2f}'.format(f1_score(y_valid, ctb.predict(X_valid))))"
   ]
  },
  {
   "cell_type": "code",
   "execution_count": 467,
   "metadata": {
    "collapsed": true
   },
   "outputs": [],
   "source": [
    "from sklearn.preprocessing import LabelEncoder"
   ]
  },
  {
   "cell_type": "code",
   "execution_count": 466,
   "metadata": {},
   "outputs": [
    {
     "data": {
      "text/html": [
       "<div>\n",
       "<style>\n",
       "    .dataframe thead tr:only-child th {\n",
       "        text-align: right;\n",
       "    }\n",
       "\n",
       "    .dataframe thead th {\n",
       "        text-align: left;\n",
       "    }\n",
       "\n",
       "    .dataframe tbody tr th {\n",
       "        vertical-align: top;\n",
       "    }\n",
       "</style>\n",
       "<table border=\"1\" class=\"dataframe\">\n",
       "  <thead>\n",
       "    <tr style=\"text-align: right;\">\n",
       "      <th></th>\n",
       "      <th>Возраст</th>\n",
       "      <th>Объявление</th>\n",
       "      <th>Сегмент</th>\n",
       "      <th>Визиты</th>\n",
       "      <th>Поддержка сookies</th>\n",
       "      <th>Поддержка Java</th>\n",
       "      <th>Поддержка JavaScript</th>\n",
       "      <th>Поддержка Flash</th>\n",
       "      <th>Поддержка Silverlight</th>\n",
       "      <th>Мобильность</th>\n",
       "      <th>Блокировка рекламы</th>\n",
       "      <th>Время на сайте</th>\n",
       "      <th>Является ли визит первым визитом посетителя</th>\n",
       "      <th>Визитов в истории</th>\n",
       "      <th>Дней от первого визита</th>\n",
       "      <th>Тип устройства</th>\n",
       "      <th>Группа операционных систем</th>\n",
       "      <th>Операционная система (детально)</th>\n",
       "      <th>Браузер</th>\n",
       "    </tr>\n",
       "  </thead>\n",
       "  <tbody>\n",
       "    <tr>\n",
       "      <th>0</th>\n",
       "      <td>48</td>\n",
       "      <td>28728144</td>\n",
       "      <td>90x75_cpc_remont_F45-50</td>\n",
       "      <td>1.0</td>\n",
       "      <td>1.0</td>\n",
       "      <td>0.0</td>\n",
       "      <td>1.0</td>\n",
       "      <td>0.0</td>\n",
       "      <td>0.0</td>\n",
       "      <td>0.0</td>\n",
       "      <td>0.0</td>\n",
       "      <td>30 – 59 секунд</td>\n",
       "      <td>Вернувшиеся посетители</td>\n",
       "      <td>4-7</td>\n",
       "      <td>2‑3 дня</td>\n",
       "      <td>ПК</td>\n",
       "      <td>Windows</td>\n",
       "      <td>Windows 10</td>\n",
       "      <td>Opera</td>\n",
       "    </tr>\n",
       "    <tr>\n",
       "      <th>1</th>\n",
       "      <td>57</td>\n",
       "      <td>28728201</td>\n",
       "      <td>90x75_cpc_remont_F55-60</td>\n",
       "      <td>1.0</td>\n",
       "      <td>0.0</td>\n",
       "      <td>0.0</td>\n",
       "      <td>1.0</td>\n",
       "      <td>0.0</td>\n",
       "      <td>0.0</td>\n",
       "      <td>0.0</td>\n",
       "      <td>0.0</td>\n",
       "      <td>0 секунд (отказ)</td>\n",
       "      <td>Новые посетители</td>\n",
       "      <td>1</td>\n",
       "      <td>0 дней</td>\n",
       "      <td>ПК</td>\n",
       "      <td>Windows</td>\n",
       "      <td>Windows 7 или 2008 Server</td>\n",
       "      <td>Firefox</td>\n",
       "    </tr>\n",
       "    <tr>\n",
       "      <th>2</th>\n",
       "      <td>48</td>\n",
       "      <td>28728144</td>\n",
       "      <td>90x75_cpc_remont_F45-50</td>\n",
       "      <td>1.0</td>\n",
       "      <td>0.0</td>\n",
       "      <td>0.0</td>\n",
       "      <td>1.0</td>\n",
       "      <td>0.0</td>\n",
       "      <td>0.0</td>\n",
       "      <td>0.0</td>\n",
       "      <td>0.0</td>\n",
       "      <td>10 – 29 секунд</td>\n",
       "      <td>Вернувшиеся посетители</td>\n",
       "      <td>8-15</td>\n",
       "      <td>2‑3 дня</td>\n",
       "      <td>ПК</td>\n",
       "      <td>Windows</td>\n",
       "      <td>Windows 10</td>\n",
       "      <td>Opera</td>\n",
       "    </tr>\n",
       "    <tr>\n",
       "      <th>3</th>\n",
       "      <td>59</td>\n",
       "      <td>28728201</td>\n",
       "      <td>90x75_cpc_remont_F55-60</td>\n",
       "      <td>1.0</td>\n",
       "      <td>0.0</td>\n",
       "      <td>0.0</td>\n",
       "      <td>1.0</td>\n",
       "      <td>0.0</td>\n",
       "      <td>0.0</td>\n",
       "      <td>0.0</td>\n",
       "      <td>0.0</td>\n",
       "      <td>0 секунд (отказ)</td>\n",
       "      <td>Вернувшиеся посетители</td>\n",
       "      <td>2-3</td>\n",
       "      <td>2‑3 дня</td>\n",
       "      <td>ПК</td>\n",
       "      <td>Windows</td>\n",
       "      <td>Windows 8.1</td>\n",
       "      <td>Firefox</td>\n",
       "    </tr>\n",
       "    <tr>\n",
       "      <th>4</th>\n",
       "      <td>50</td>\n",
       "      <td>28728192</td>\n",
       "      <td>90x75_cpc_remont_F50-55</td>\n",
       "      <td>1.0</td>\n",
       "      <td>1.0</td>\n",
       "      <td>0.0</td>\n",
       "      <td>1.0</td>\n",
       "      <td>1.0</td>\n",
       "      <td>0.0</td>\n",
       "      <td>0.0</td>\n",
       "      <td>0.0</td>\n",
       "      <td>0 секунд (отказ)</td>\n",
       "      <td>Новые посетители</td>\n",
       "      <td>1</td>\n",
       "      <td>0 дней</td>\n",
       "      <td>ПК</td>\n",
       "      <td>Windows</td>\n",
       "      <td>Windows XP</td>\n",
       "      <td>Firefox</td>\n",
       "    </tr>\n",
       "  </tbody>\n",
       "</table>\n",
       "</div>"
      ],
      "text/plain": [
       "   Возраст  Объявление                  Сегмент  Визиты  Поддержка сookies  \\\n",
       "0       48    28728144  90x75_cpc_remont_F45-50     1.0                1.0   \n",
       "1       57    28728201  90x75_cpc_remont_F55-60     1.0                0.0   \n",
       "2       48    28728144  90x75_cpc_remont_F45-50     1.0                0.0   \n",
       "3       59    28728201  90x75_cpc_remont_F55-60     1.0                0.0   \n",
       "4       50    28728192  90x75_cpc_remont_F50-55     1.0                1.0   \n",
       "\n",
       "   Поддержка Java  Поддержка JavaScript  Поддержка Flash  \\\n",
       "0             0.0                   1.0              0.0   \n",
       "1             0.0                   1.0              0.0   \n",
       "2             0.0                   1.0              0.0   \n",
       "3             0.0                   1.0              0.0   \n",
       "4             0.0                   1.0              1.0   \n",
       "\n",
       "   Поддержка Silverlight  Мобильность  Блокировка рекламы    Время на сайте  \\\n",
       "0                    0.0          0.0                 0.0    30 – 59 секунд   \n",
       "1                    0.0          0.0                 0.0  0 секунд (отказ)   \n",
       "2                    0.0          0.0                 0.0    10 – 29 секунд   \n",
       "3                    0.0          0.0                 0.0  0 секунд (отказ)   \n",
       "4                    0.0          0.0                 0.0  0 секунд (отказ)   \n",
       "\n",
       "  Является ли визит первым визитом посетителя Визитов в истории  \\\n",
       "0                      Вернувшиеся посетители               4-7   \n",
       "1                            Новые посетители                 1   \n",
       "2                      Вернувшиеся посетители              8-15   \n",
       "3                      Вернувшиеся посетители               2-3   \n",
       "4                            Новые посетители                 1   \n",
       "\n",
       "  Дней от первого визита Тип устройства Группа операционных систем  \\\n",
       "0                2‑3 дня             ПК                    Windows   \n",
       "1                 0 дней             ПК                    Windows   \n",
       "2                2‑3 дня             ПК                    Windows   \n",
       "3                2‑3 дня             ПК                    Windows   \n",
       "4                 0 дней             ПК                    Windows   \n",
       "\n",
       "  Операционная система (детально)  Браузер  \n",
       "0                      Windows 10    Opera  \n",
       "1       Windows 7 или 2008 Server  Firefox  \n",
       "2                      Windows 10    Opera  \n",
       "3                     Windows 8.1  Firefox  \n",
       "4                      Windows XP  Firefox  "
      ]
     },
     "execution_count": 466,
     "metadata": {},
     "output_type": "execute_result"
    }
   ],
   "source": [
    "df.head()"
   ]
  },
  {
   "cell_type": "code",
   "execution_count": 469,
   "metadata": {},
   "outputs": [
    {
     "ename": "ValueError",
     "evalue": "bad input shape (2204, 19)",
     "output_type": "error",
     "traceback": [
      "\u001b[1;31m---------------------------------------------------------------------------\u001b[0m",
      "\u001b[1;31mValueError\u001b[0m                                Traceback (most recent call last)",
      "\u001b[1;32m<ipython-input-469-ee72731a335f>\u001b[0m in \u001b[0;36m<module>\u001b[1;34m()\u001b[0m\n\u001b[0;32m      1\u001b[0m \u001b[0mencoder\u001b[0m \u001b[1;33m=\u001b[0m \u001b[0mLabelEncoder\u001b[0m\u001b[1;33m(\u001b[0m\u001b[1;33m)\u001b[0m\u001b[1;33m\u001b[0m\u001b[0m\n\u001b[1;32m----> 2\u001b[1;33m \u001b[0mencoder\u001b[0m\u001b[1;33m.\u001b[0m\u001b[0mfit_transform\u001b[0m\u001b[1;33m(\u001b[0m\u001b[0mX_train\u001b[0m\u001b[1;33m)\u001b[0m\u001b[1;33m\u001b[0m\u001b[0m\n\u001b[0m",
      "\u001b[1;32mC:\\Anaconda\\lib\\site-packages\\sklearn\\preprocessing\\label.py\u001b[0m in \u001b[0;36mfit_transform\u001b[1;34m(self, y)\u001b[0m\n\u001b[0;32m    109\u001b[0m         \u001b[0my\u001b[0m \u001b[1;33m:\u001b[0m \u001b[0marray\u001b[0m\u001b[1;33m-\u001b[0m\u001b[0mlike\u001b[0m \u001b[0mof\u001b[0m \u001b[0mshape\u001b[0m \u001b[1;33m[\u001b[0m\u001b[0mn_samples\u001b[0m\u001b[1;33m]\u001b[0m\u001b[1;33m\u001b[0m\u001b[0m\n\u001b[0;32m    110\u001b[0m         \"\"\"\n\u001b[1;32m--> 111\u001b[1;33m         \u001b[0my\u001b[0m \u001b[1;33m=\u001b[0m \u001b[0mcolumn_or_1d\u001b[0m\u001b[1;33m(\u001b[0m\u001b[0my\u001b[0m\u001b[1;33m,\u001b[0m \u001b[0mwarn\u001b[0m\u001b[1;33m=\u001b[0m\u001b[1;32mTrue\u001b[0m\u001b[1;33m)\u001b[0m\u001b[1;33m\u001b[0m\u001b[0m\n\u001b[0m\u001b[0;32m    112\u001b[0m         \u001b[0mself\u001b[0m\u001b[1;33m.\u001b[0m\u001b[0mclasses_\u001b[0m\u001b[1;33m,\u001b[0m \u001b[0my\u001b[0m \u001b[1;33m=\u001b[0m \u001b[0mnp\u001b[0m\u001b[1;33m.\u001b[0m\u001b[0munique\u001b[0m\u001b[1;33m(\u001b[0m\u001b[0my\u001b[0m\u001b[1;33m,\u001b[0m \u001b[0mreturn_inverse\u001b[0m\u001b[1;33m=\u001b[0m\u001b[1;32mTrue\u001b[0m\u001b[1;33m)\u001b[0m\u001b[1;33m\u001b[0m\u001b[0m\n\u001b[0;32m    113\u001b[0m         \u001b[1;32mreturn\u001b[0m \u001b[0my\u001b[0m\u001b[1;33m\u001b[0m\u001b[0m\n",
      "\u001b[1;32mC:\\Anaconda\\lib\\site-packages\\sklearn\\utils\\validation.py\u001b[0m in \u001b[0;36mcolumn_or_1d\u001b[1;34m(y, warn)\u001b[0m\n\u001b[0;32m    612\u001b[0m         \u001b[1;32mreturn\u001b[0m \u001b[0mnp\u001b[0m\u001b[1;33m.\u001b[0m\u001b[0mravel\u001b[0m\u001b[1;33m(\u001b[0m\u001b[0my\u001b[0m\u001b[1;33m)\u001b[0m\u001b[1;33m\u001b[0m\u001b[0m\n\u001b[0;32m    613\u001b[0m \u001b[1;33m\u001b[0m\u001b[0m\n\u001b[1;32m--> 614\u001b[1;33m     \u001b[1;32mraise\u001b[0m \u001b[0mValueError\u001b[0m\u001b[1;33m(\u001b[0m\u001b[1;34m\"bad input shape {0}\"\u001b[0m\u001b[1;33m.\u001b[0m\u001b[0mformat\u001b[0m\u001b[1;33m(\u001b[0m\u001b[0mshape\u001b[0m\u001b[1;33m)\u001b[0m\u001b[1;33m)\u001b[0m\u001b[1;33m\u001b[0m\u001b[0m\n\u001b[0m\u001b[0;32m    615\u001b[0m \u001b[1;33m\u001b[0m\u001b[0m\n\u001b[0;32m    616\u001b[0m \u001b[1;33m\u001b[0m\u001b[0m\n",
      "\u001b[1;31mValueError\u001b[0m: bad input shape (2204, 19)"
     ]
    }
   ],
   "source": [
    "encoder = LabelEncoder()\n",
    "encoder.fit_transform(X_train)"
   ]
  },
  {
   "cell_type": "code",
   "execution_count": 463,
   "metadata": {
    "collapsed": true
   },
   "outputs": [],
   "source": [
    "from imblearn.combine import SMOTEENN"
   ]
  },
  {
   "cell_type": "code",
   "execution_count": 465,
   "metadata": {},
   "outputs": [
    {
     "ename": "ValueError",
     "evalue": "could not convert string to float: 'Яндекс.Браузер'",
     "output_type": "error",
     "traceback": [
      "\u001b[1;31m---------------------------------------------------------------------------\u001b[0m",
      "\u001b[1;31mValueError\u001b[0m                                Traceback (most recent call last)",
      "\u001b[1;32m<ipython-input-465-60a6e57f2829>\u001b[0m in \u001b[0;36m<module>\u001b[1;34m()\u001b[0m\n\u001b[0;32m      1\u001b[0m \u001b[0msm\u001b[0m \u001b[1;33m=\u001b[0m \u001b[0mSMOTEENN\u001b[0m\u001b[1;33m(\u001b[0m\u001b[1;33m)\u001b[0m\u001b[1;33m\u001b[0m\u001b[0m\n\u001b[1;32m----> 2\u001b[1;33m \u001b[0mX_resampled\u001b[0m\u001b[1;33m,\u001b[0m \u001b[0my_resampled\u001b[0m \u001b[1;33m=\u001b[0m \u001b[0msm\u001b[0m\u001b[1;33m.\u001b[0m\u001b[0mfit_sample\u001b[0m\u001b[1;33m(\u001b[0m\u001b[0mX_train\u001b[0m\u001b[1;33m,\u001b[0m \u001b[0my_train\u001b[0m\u001b[1;33m)\u001b[0m\u001b[1;33m\u001b[0m\u001b[0m\n\u001b[0m",
      "\u001b[1;32mC:\\Anaconda\\lib\\site-packages\\imblearn\\base.py\u001b[0m in \u001b[0;36mfit_sample\u001b[1;34m(self, X, y)\u001b[0m\n\u001b[0;32m     86\u001b[0m         \"\"\"\n\u001b[0;32m     87\u001b[0m \u001b[1;33m\u001b[0m\u001b[0m\n\u001b[1;32m---> 88\u001b[1;33m         \u001b[1;32mreturn\u001b[0m \u001b[0mself\u001b[0m\u001b[1;33m.\u001b[0m\u001b[0mfit\u001b[0m\u001b[1;33m(\u001b[0m\u001b[0mX\u001b[0m\u001b[1;33m,\u001b[0m \u001b[0my\u001b[0m\u001b[1;33m)\u001b[0m\u001b[1;33m.\u001b[0m\u001b[0msample\u001b[0m\u001b[1;33m(\u001b[0m\u001b[0mX\u001b[0m\u001b[1;33m,\u001b[0m \u001b[0my\u001b[0m\u001b[1;33m)\u001b[0m\u001b[1;33m\u001b[0m\u001b[0m\n\u001b[0m\u001b[0;32m     89\u001b[0m \u001b[1;33m\u001b[0m\u001b[0m\n\u001b[0;32m     90\u001b[0m     \u001b[1;33m@\u001b[0m\u001b[0mabstractmethod\u001b[0m\u001b[1;33m\u001b[0m\u001b[0m\n",
      "\u001b[1;32mC:\\Anaconda\\lib\\site-packages\\imblearn\\combine\\smote_enn.py\u001b[0m in \u001b[0;36mfit\u001b[1;34m(self, X, y)\u001b[0m\n\u001b[0;32m    294\u001b[0m \u001b[1;33m\u001b[0m\u001b[0m\n\u001b[0;32m    295\u001b[0m         \"\"\"\n\u001b[1;32m--> 296\u001b[1;33m         \u001b[0mX\u001b[0m\u001b[1;33m,\u001b[0m \u001b[0my\u001b[0m \u001b[1;33m=\u001b[0m \u001b[0mcheck_X_y\u001b[0m\u001b[1;33m(\u001b[0m\u001b[0mX\u001b[0m\u001b[1;33m,\u001b[0m \u001b[0my\u001b[0m\u001b[1;33m,\u001b[0m \u001b[0maccept_sparse\u001b[0m\u001b[1;33m=\u001b[0m\u001b[1;33m[\u001b[0m\u001b[1;34m'csr'\u001b[0m\u001b[1;33m,\u001b[0m \u001b[1;34m'csc'\u001b[0m\u001b[1;33m]\u001b[0m\u001b[1;33m)\u001b[0m\u001b[1;33m\u001b[0m\u001b[0m\n\u001b[0m\u001b[0;32m    297\u001b[0m         \u001b[0my\u001b[0m \u001b[1;33m=\u001b[0m \u001b[0mcheck_target_type\u001b[0m\u001b[1;33m(\u001b[0m\u001b[0my\u001b[0m\u001b[1;33m)\u001b[0m\u001b[1;33m\u001b[0m\u001b[0m\n\u001b[0;32m    298\u001b[0m         \u001b[0mself\u001b[0m\u001b[1;33m.\u001b[0m\u001b[0mratio_\u001b[0m \u001b[1;33m=\u001b[0m \u001b[0mself\u001b[0m\u001b[1;33m.\u001b[0m\u001b[0mratio\u001b[0m\u001b[1;33m\u001b[0m\u001b[0m\n",
      "\u001b[1;32mC:\\Anaconda\\lib\\site-packages\\sklearn\\utils\\validation.py\u001b[0m in \u001b[0;36mcheck_X_y\u001b[1;34m(X, y, accept_sparse, dtype, order, copy, force_all_finite, ensure_2d, allow_nd, multi_output, ensure_min_samples, ensure_min_features, y_numeric, warn_on_dtype, estimator)\u001b[0m\n\u001b[0;32m    571\u001b[0m     X = check_array(X, accept_sparse, dtype, order, copy, force_all_finite,\n\u001b[0;32m    572\u001b[0m                     \u001b[0mensure_2d\u001b[0m\u001b[1;33m,\u001b[0m \u001b[0mallow_nd\u001b[0m\u001b[1;33m,\u001b[0m \u001b[0mensure_min_samples\u001b[0m\u001b[1;33m,\u001b[0m\u001b[1;33m\u001b[0m\u001b[0m\n\u001b[1;32m--> 573\u001b[1;33m                     ensure_min_features, warn_on_dtype, estimator)\n\u001b[0m\u001b[0;32m    574\u001b[0m     \u001b[1;32mif\u001b[0m \u001b[0mmulti_output\u001b[0m\u001b[1;33m:\u001b[0m\u001b[1;33m\u001b[0m\u001b[0m\n\u001b[0;32m    575\u001b[0m         y = check_array(y, 'csr', force_all_finite=True, ensure_2d=False,\n",
      "\u001b[1;32mC:\\Anaconda\\lib\\site-packages\\sklearn\\utils\\validation.py\u001b[0m in \u001b[0;36mcheck_array\u001b[1;34m(array, accept_sparse, dtype, order, copy, force_all_finite, ensure_2d, allow_nd, ensure_min_samples, ensure_min_features, warn_on_dtype, estimator)\u001b[0m\n\u001b[0;32m    446\u001b[0m         \u001b[1;31m# make sure we actually converted to numeric:\u001b[0m\u001b[1;33m\u001b[0m\u001b[1;33m\u001b[0m\u001b[0m\n\u001b[0;32m    447\u001b[0m         \u001b[1;32mif\u001b[0m \u001b[0mdtype_numeric\u001b[0m \u001b[1;32mand\u001b[0m \u001b[0marray\u001b[0m\u001b[1;33m.\u001b[0m\u001b[0mdtype\u001b[0m\u001b[1;33m.\u001b[0m\u001b[0mkind\u001b[0m \u001b[1;33m==\u001b[0m \u001b[1;34m\"O\"\u001b[0m\u001b[1;33m:\u001b[0m\u001b[1;33m\u001b[0m\u001b[0m\n\u001b[1;32m--> 448\u001b[1;33m             \u001b[0marray\u001b[0m \u001b[1;33m=\u001b[0m \u001b[0marray\u001b[0m\u001b[1;33m.\u001b[0m\u001b[0mastype\u001b[0m\u001b[1;33m(\u001b[0m\u001b[0mnp\u001b[0m\u001b[1;33m.\u001b[0m\u001b[0mfloat64\u001b[0m\u001b[1;33m)\u001b[0m\u001b[1;33m\u001b[0m\u001b[0m\n\u001b[0m\u001b[0;32m    449\u001b[0m         \u001b[1;32mif\u001b[0m \u001b[1;32mnot\u001b[0m \u001b[0mallow_nd\u001b[0m \u001b[1;32mand\u001b[0m \u001b[0marray\u001b[0m\u001b[1;33m.\u001b[0m\u001b[0mndim\u001b[0m \u001b[1;33m>=\u001b[0m \u001b[1;36m3\u001b[0m\u001b[1;33m:\u001b[0m\u001b[1;33m\u001b[0m\u001b[0m\n\u001b[0;32m    450\u001b[0m             raise ValueError(\"Found array with dim %d. %s expected <= 2.\"\n",
      "\u001b[1;31mValueError\u001b[0m: could not convert string to float: 'Яндекс.Браузер'"
     ]
    }
   ],
   "source": [
    "sm = SMOTEENN()\n",
    "X_resampled, y_resampled = sm.fit_sample(X_train, y_train)\n"
   ]
  },
  {
   "cell_type": "markdown",
   "metadata": {},
   "source": [
    "- надо новых фич нагенерить чтобы повысить качество\n",
    "- оверсемплинг сделать"
   ]
  },
  {
   "cell_type": "code",
   "execution_count": null,
   "metadata": {
    "collapsed": true
   },
   "outputs": [],
   "source": [
    "importance_df = pd.DataFrame({\n",
    "        'Splits': list(ctb.feature_importances_),\n",
    "        'Feature': list(importances.keys())\n",
    "    })\n",
    "importance_df.sort_values(by='Splits', inplace=True)\n",
    "importance_df.plot(kind='barh', x='Feature', figsize=(8,6), color='orange');"
   ]
  },
  {
   "cell_type": "markdown",
   "metadata": {},
   "source": [
    "Также нужно отмасштабировать признаки, т.к. в противном случае признак возраст, например, будет иметь заведомо больший вес"
   ]
  },
  {
   "cell_type": "code",
   "execution_count": 156,
   "metadata": {
    "collapsed": true
   },
   "outputs": [],
   "source": [
    "scaler = StandardScaler()\n",
    "X_train = scaler.fit_transform(X_train)\n",
    "X_valid = scaler.transform(X_valid)"
   ]
  },
  {
   "cell_type": "markdown",
   "metadata": {
    "collapsed": true
   },
   "source": [
    "https://github.com/blue-yonder/tsfresh"
   ]
  },
  {
   "cell_type": "code",
   "execution_count": null,
   "metadata": {
    "collapsed": true
   },
   "outputs": [],
   "source": []
  }
 ],
 "metadata": {
  "kernelspec": {
   "display_name": "Python 3",
   "language": "python",
   "name": "python3"
  },
  "language_info": {
   "codemirror_mode": {
    "name": "ipython",
    "version": 3
   },
   "file_extension": ".py",
   "mimetype": "text/x-python",
   "name": "python",
   "nbconvert_exporter": "python",
   "pygments_lexer": "ipython3",
   "version": "3.6.3"
  }
 },
 "nbformat": 4,
 "nbformat_minor": 2
}
